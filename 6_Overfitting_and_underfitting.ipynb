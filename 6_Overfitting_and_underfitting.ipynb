{
  "cells": [
    {
      "cell_type": "markdown",
      "metadata": {
        "id": "view-in-github",
        "colab_type": "text"
      },
      "source": [
        "<a href=\"https://colab.research.google.com/github/armandoordonez/deeplearning/blob/main/6_Overfitting_and_underfitting.ipynb\" target=\"_parent\"><img src=\"https://colab.research.google.com/assets/colab-badge.svg\" alt=\"Open In Colab\"/></a>"
      ]
    },
    {
      "cell_type": "code",
      "execution_count": 2,
      "metadata": {
        "colab": {
          "base_uri": "https://localhost:8080/",
          "height": 36
        },
        "id": "Pp-nw9SoXV1X",
        "outputId": "f0eed538-3b5f-4f16-d967-9642c2240fe4"
      },
      "outputs": [
        {
          "output_type": "execute_result",
          "data": {
            "text/plain": [
              "'2.15.0'"
            ],
            "application/vnd.google.colaboratory.intrinsic+json": {
              "type": "string"
            }
          },
          "metadata": {},
          "execution_count": 2
        }
      ],
      "source": [
        "import keras\n",
        "keras.__version__"
      ]
    },
    {
      "cell_type": "markdown",
      "metadata": {
        "id": "UGIDx8B1XV1Z"
      },
      "source": [
        "# Overfitting and underfitting\n",
        "\n",
        "Based on the code of the book [Deep Learning with Python](https://www.manning.com/books/deep-learning-with-python?a_aid=keras&a_bid=76564dff)."
      ]
    },
    {
      "cell_type": "markdown",
      "metadata": {
        "id": "_uWQwaAnXV1b"
      },
      "source": []
    },
    {
      "cell_type": "code",
      "execution_count": 27,
      "metadata": {
        "collapsed": true,
        "id": "rKT1Br7nXV1c"
      },
      "outputs": [],
      "source": [
        "numero_palabras = 10000 # define las palabras usadas del dataset\n",
        "\n",
        "from keras.datasets import imdb\n",
        "# https://keras.io/api/datasets/imdb/\n",
        "import numpy as np\n",
        "\n",
        "(train_data, train_labels), (test_data, test_labels) = imdb.load_data(num_words=numero_palabras)"
      ]
    },
    {
      "cell_type": "code",
      "source": [
        "type(train_data)"
      ],
      "metadata": {
        "id": "tGJ2fGWJmBcL",
        "outputId": "407168a2-3977-451f-dd92-bb4106c3ad53",
        "colab": {
          "base_uri": "https://localhost:8080/"
        }
      },
      "execution_count": 28,
      "outputs": [
        {
          "output_type": "execute_result",
          "data": {
            "text/plain": [
              "numpy.ndarray"
            ]
          },
          "metadata": {},
          "execution_count": 28
        }
      ]
    },
    {
      "cell_type": "code",
      "source": [
        "train_data.shape"
      ],
      "metadata": {
        "id": "6udxA4dVmMPu",
        "outputId": "866423e7-0847-429a-a000-f8f833b3cc79",
        "colab": {
          "base_uri": "https://localhost:8080/"
        }
      },
      "execution_count": 29,
      "outputs": [
        {
          "output_type": "execute_result",
          "data": {
            "text/plain": [
              "(25000,)"
            ]
          },
          "metadata": {},
          "execution_count": 29
        }
      ]
    },
    {
      "cell_type": "code",
      "source": [
        "def vectorize_sequences(sequences, dimension=numero_palabras):\n",
        "    # Create an all-zero matrix of shape (len(sequences), dimension)\n",
        "    results = np.zeros((len(sequences), dimension))\n",
        "    for i, sequence in enumerate(sequences):\n",
        "        results[i, sequence] = 1.  # set specific indices of results[i] to 1s\n",
        "    return results\n",
        "\n",
        "# Our vectorized training data\n",
        "x_train = vectorize_sequences(train_data)\n",
        "# Our vectorized test data\n",
        "x_test = vectorize_sequences(test_data)\n",
        "# Our vectorized labels\n",
        "y_train = np.asarray(train_labels).astype('float32')\n",
        "y_test = np.asarray(test_labels).astype('float32')"
      ],
      "metadata": {
        "id": "BRs3Lp6Al_m1"
      },
      "execution_count": 30,
      "outputs": []
    },
    {
      "cell_type": "markdown",
      "metadata": {
        "id": "Zu2HRrdqXV1c"
      },
      "source": [
        "# Fighting overfitting\n",
        "\n",
        "## Reducing the network's size\n",
        "\n",
        "\n",
        "The simplest way to prevent overfitting is to reduce the size of the model, i.e. the number of learnable parameters in the model (which is\n",
        "determined by the number of layers and the number of units per layer). In deep learning, the number of learnable parameters in a model is\n",
        "often referred to as the model's \"capacity\". Intuitively, a model with more parameters will have more \"memorization capacity\" and therefore\n",
        "will be able to easily learn a perfect dictionary-like mapping between training samples and their targets, a mapping without any\n",
        "generalization power. For instance, a model with 500,000 binary parameters could easily be made to learn the class of every digits in the\n",
        "MNIST training set: we would only need 10 binary parameters for each of the 50,000 digits. Such a model would be useless for classifying\n",
        "new digit samples. Always keep this in mind: deep learning models tend to be good at fitting to the training data, but the real challenge\n",
        "is generalization, not fitting.\n",
        "\n",
        "On the other hand, if the network has limited memorization resources, it will not be able to learn this mapping as easily, and thus, in\n",
        "order to minimize its loss, it will have to resort to learning compressed representations that have predictive power regarding the targets\n",
        "-- precisely the type of representations that we are interested in. At the same time, keep in mind that you should be using models that have\n",
        "enough parameters that they won't be underfitting: your model shouldn't be starved for memorization resources. There is a compromise to be\n",
        "found between \"too much capacity\" and \"not enough capacity\".\n",
        "\n",
        "Unfortunately, there is no magical formula to determine what the right number of layers is, or what the right size for each layer is. You\n",
        "will have to evaluate an array of different architectures (on your validation set, not on your test set, of course) in order to find the\n",
        "right model size for your data. The general workflow to find an appropriate model size is to start with relatively few layers and\n",
        "parameters, and start increasing the size of the layers or adding new layers until you see diminishing returns with regard to the\n",
        "validation loss.\n",
        "\n",
        "Let's try this on our movie review classification network. Our original network was as such:"
      ]
    },
    {
      "cell_type": "code",
      "execution_count": 31,
      "metadata": {
        "collapsed": true,
        "id": "WDB5Wg1sXV1d"
      },
      "outputs": [],
      "source": [
        "from keras import models\n",
        "from keras.layers import Dense\n",
        "from keras import layers\n",
        "\n",
        "original_model = models.Sequential()\n",
        "original_model.add(Dense(16, activation='relu', input_shape=(numero_palabras,)))\n",
        "original_model.add(Dense(16, activation='relu'))\n",
        "original_model.add(Dense(1, activation='sigmoid'))\n",
        "\n",
        "original_model.compile(optimizer='rmsprop',\n",
        "                       loss='binary_crossentropy',\n",
        "                       metrics=['acc'])"
      ]
    },
    {
      "cell_type": "markdown",
      "metadata": {
        "id": "P4LCiCgRXV1d"
      },
      "source": [
        "Now let's try to replace it with this smaller network:"
      ]
    },
    {
      "cell_type": "code",
      "execution_count": 32,
      "metadata": {
        "collapsed": true,
        "id": "oHo_-kBeXV1d"
      },
      "outputs": [],
      "source": [
        "smaller_model = models.Sequential()\n",
        "smaller_model.add(layers.Dense(4, activation='relu', input_shape=(numero_palabras,)))\n",
        "smaller_model.add(layers.Dense(4, activation='relu'))\n",
        "smaller_model.add(layers.Dense(1, activation='sigmoid'))\n",
        "\n",
        "smaller_model.compile(optimizer='rmsprop',\n",
        "                      loss='binary_crossentropy',\n",
        "                      metrics=['acc'])"
      ]
    },
    {
      "cell_type": "markdown",
      "metadata": {
        "id": "Y4-5Ah2YXV1d"
      },
      "source": [
        "\n",
        "Here's a comparison of the validation losses of the original network and the smaller network. The dots are the validation loss values of\n",
        "the smaller network, and the crosses are the initial network (remember: a lower validation loss signals a better model)."
      ]
    },
    {
      "cell_type": "code",
      "execution_count": 33,
      "metadata": {
        "colab": {
          "base_uri": "https://localhost:8080/"
        },
        "id": "t4_W819wXV1d",
        "outputId": "24f289a4-d1f4-4403-f66d-82a1ed103dac"
      },
      "outputs": [
        {
          "output_type": "stream",
          "name": "stdout",
          "text": [
            "Epoch 1/20\n",
            "49/49 [==============================] - 7s 128ms/step - loss: 0.4605 - acc: 0.8186 - val_loss: 0.3583 - val_acc: 0.8645\n",
            "Epoch 2/20\n",
            "49/49 [==============================] - 2s 39ms/step - loss: 0.2725 - acc: 0.9027 - val_loss: 0.2865 - val_acc: 0.8875\n",
            "Epoch 3/20\n",
            "49/49 [==============================] - 3s 59ms/step - loss: 0.2133 - acc: 0.9229 - val_loss: 0.2826 - val_acc: 0.8872\n",
            "Epoch 4/20\n",
            "49/49 [==============================] - 3s 52ms/step - loss: 0.1808 - acc: 0.9352 - val_loss: 0.3113 - val_acc: 0.8758\n",
            "Epoch 5/20\n",
            "49/49 [==============================] - 2s 39ms/step - loss: 0.1583 - acc: 0.9435 - val_loss: 0.3044 - val_acc: 0.8804\n",
            "Epoch 6/20\n",
            "49/49 [==============================] - 2s 38ms/step - loss: 0.1417 - acc: 0.9493 - val_loss: 0.3145 - val_acc: 0.8799\n",
            "Epoch 7/20\n",
            "49/49 [==============================] - 2s 38ms/step - loss: 0.1262 - acc: 0.9572 - val_loss: 0.3300 - val_acc: 0.8770\n",
            "Epoch 8/20\n",
            "49/49 [==============================] - 3s 52ms/step - loss: 0.1136 - acc: 0.9602 - val_loss: 0.3650 - val_acc: 0.8712\n",
            "Epoch 9/20\n",
            "49/49 [==============================] - 2s 48ms/step - loss: 0.1015 - acc: 0.9658 - val_loss: 0.3757 - val_acc: 0.8720\n",
            "Epoch 10/20\n",
            "49/49 [==============================] - 2s 38ms/step - loss: 0.0906 - acc: 0.9704 - val_loss: 0.4253 - val_acc: 0.8606\n",
            "Epoch 11/20\n",
            "49/49 [==============================] - 2s 40ms/step - loss: 0.0822 - acc: 0.9722 - val_loss: 0.4202 - val_acc: 0.8678\n",
            "Epoch 12/20\n",
            "49/49 [==============================] - 2s 40ms/step - loss: 0.0720 - acc: 0.9773 - val_loss: 0.4875 - val_acc: 0.8598\n",
            "Epoch 13/20\n",
            "49/49 [==============================] - 2s 40ms/step - loss: 0.0641 - acc: 0.9797 - val_loss: 0.4668 - val_acc: 0.8636\n",
            "Epoch 14/20\n",
            "49/49 [==============================] - 3s 54ms/step - loss: 0.0596 - acc: 0.9820 - val_loss: 0.4913 - val_acc: 0.8616\n",
            "Epoch 15/20\n",
            "49/49 [==============================] - 2s 48ms/step - loss: 0.0488 - acc: 0.9861 - val_loss: 0.5189 - val_acc: 0.8618\n",
            "Epoch 16/20\n",
            "49/49 [==============================] - 2s 40ms/step - loss: 0.0431 - acc: 0.9885 - val_loss: 0.6302 - val_acc: 0.8505\n",
            "Epoch 17/20\n",
            "49/49 [==============================] - 2s 39ms/step - loss: 0.0372 - acc: 0.9900 - val_loss: 0.5795 - val_acc: 0.8568\n",
            "Epoch 18/20\n",
            "49/49 [==============================] - 3s 53ms/step - loss: 0.0331 - acc: 0.9917 - val_loss: 0.5970 - val_acc: 0.8590\n",
            "Epoch 19/20\n",
            "49/49 [==============================] - 2s 42ms/step - loss: 0.0298 - acc: 0.9924 - val_loss: 0.6216 - val_acc: 0.8584\n",
            "Epoch 20/20\n",
            "49/49 [==============================] - 3s 53ms/step - loss: 0.0232 - acc: 0.9945 - val_loss: 0.6534 - val_acc: 0.8547\n"
          ]
        }
      ],
      "source": [
        "original_hist = original_model.fit(x_train, y_train,\n",
        "                                   epochs=20,\n",
        "                                   batch_size=512,\n",
        "                                   validation_data=(x_test, y_test))"
      ]
    },
    {
      "cell_type": "code",
      "execution_count": null,
      "metadata": {
        "id": "jIJZdPtUXV1e"
      },
      "outputs": [],
      "source": [
        "smaller_model_hist = smaller_model.fit(x_train, y_train,\n",
        "                                       epochs=20,\n",
        "                                       batch_size=512,\n",
        "                                       validation_data=(x_test, y_test))"
      ]
    },
    {
      "cell_type": "code",
      "execution_count": 9,
      "metadata": {
        "collapsed": true,
        "id": "d6zqoQ2MXV1e"
      },
      "outputs": [],
      "source": [
        "epochs = range(1, 21)\n",
        "original_val_loss = original_hist.history['val_loss']\n",
        "smaller_model_val_loss = smaller_model_hist.history['val_loss']"
      ]
    },
    {
      "cell_type": "code",
      "execution_count": 10,
      "metadata": {
        "colab": {
          "base_uri": "https://localhost:8080/",
          "height": 449
        },
        "id": "MgIoiN_oXV1e",
        "outputId": "772df41b-4fd3-4ee5-d26b-101bf99348da"
      },
      "outputs": [
        {
          "output_type": "display_data",
          "data": {
            "text/plain": [
              "<Figure size 640x480 with 1 Axes>"
            ],
            "image/png": "[encoded data removed]"
          },
          "metadata": {}
        }
      ],
      "source": [
        "import matplotlib.pyplot as plt\n",
        "\n",
        "# b+ is for \"blue cross\"\n",
        "plt.plot(epochs, original_val_loss, 'b+', label='Original model')\n",
        "# \"bo\" is for \"blue dot\"\n",
        "plt.plot(epochs, smaller_model_val_loss, 'bo', label='Smaller model')\n",
        "plt.xlabel('Epochs')\n",
        "plt.ylabel('Validation loss')\n",
        "plt.legend()\n",
        "\n",
        "plt.show()"
      ]
    },
    {
      "cell_type": "markdown",
      "metadata": {
        "id": "18b0hwyFXV1e"
      },
      "source": [
        "\n",
        "As you can see, the smaller network starts overfitting later than the reference one (after 6 epochs rather than 4) and its performance\n",
        "degrades much more slowly once it starts overfitting.\n",
        "\n",
        "Now, for kicks, let's add to this benchmark a network that has much more capacity, far more than the problem would warrant:"
      ]
    },
    {
      "cell_type": "code",
      "execution_count": 11,
      "metadata": {
        "collapsed": true,
        "id": "3CjC78iqXV1e"
      },
      "outputs": [],
      "source": [
        "bigger_model = models.Sequential()\n",
        "bigger_model.add(layers.Dense(128, activation='relu', input_shape=(numero_palabras,)))\n",
        "bigger_model.add(layers.Dense(128, activation='relu'))\n",
        "bigger_model.add(layers.Dense(1, activation='sigmoid'))\n",
        "\n",
        "bigger_model.compile(optimizer='rmsprop',\n",
        "                     loss='binary_crossentropy',\n",
        "                     metrics=['acc'])"
      ]
    },
    {
      "cell_type": "code",
      "execution_count": 12,
      "metadata": {
        "colab": {
          "base_uri": "https://localhost:8080/"
        },
        "id": "xy0AT7U6XV1f",
        "outputId": "6c51326c-a03c-4e94-d8fe-2e10009d4696"
      },
      "outputs": [
        {
          "output_type": "stream",
          "name": "stdout",
          "text": [
            "Epoch 1/20\n",
            "49/49 [==============================] - 6s 110ms/step - loss: 0.4506 - acc: 0.7922 - val_loss: 0.3017 - val_acc: 0.8808\n",
            "Epoch 2/20\n",
            "49/49 [==============================] - 3s 66ms/step - loss: 0.2816 - acc: 0.8858 - val_loss: 0.2784 - val_acc: 0.8867\n",
            "Epoch 3/20\n",
            "49/49 [==============================] - 4s 77ms/step - loss: 0.2317 - acc: 0.9080 - val_loss: 0.2787 - val_acc: 0.8852\n",
            "Epoch 4/20\n",
            "49/49 [==============================] - 3s 64ms/step - loss: 0.2006 - acc: 0.9209 - val_loss: 0.2883 - val_acc: 0.8824\n",
            "Epoch 5/20\n",
            "49/49 [==============================] - 3s 64ms/step - loss: 0.1727 - acc: 0.9318 - val_loss: 0.2979 - val_acc: 0.8768\n",
            "Epoch 6/20\n",
            "49/49 [==============================] - 4s 93ms/step - loss: 0.1417 - acc: 0.9471 - val_loss: 0.3025 - val_acc: 0.8795\n",
            "Epoch 7/20\n",
            "49/49 [==============================] - 3s 64ms/step - loss: 0.1056 - acc: 0.9636 - val_loss: 0.3336 - val_acc: 0.8758\n",
            "Epoch 8/20\n",
            "49/49 [==============================] - 3s 71ms/step - loss: 0.0831 - acc: 0.9721 - val_loss: 0.3530 - val_acc: 0.8776\n",
            "Epoch 9/20\n",
            "49/49 [==============================] - 3s 68ms/step - loss: 0.0666 - acc: 0.9781 - val_loss: 0.3361 - val_acc: 0.8749\n",
            "Epoch 10/20\n",
            "49/49 [==============================] - 7s 149ms/step - loss: 0.0395 - acc: 0.9890 - val_loss: 0.4116 - val_acc: 0.8771\n",
            "Epoch 11/20\n",
            "49/49 [==============================] - 5s 94ms/step - loss: 0.0360 - acc: 0.9902 - val_loss: 0.4448 - val_acc: 0.8748\n",
            "Epoch 12/20\n",
            "49/49 [==============================] - 4s 80ms/step - loss: 0.0339 - acc: 0.9907 - val_loss: 0.4540 - val_acc: 0.8761\n",
            "Epoch 13/20\n",
            "49/49 [==============================] - 3s 56ms/step - loss: 0.0304 - acc: 0.9923 - val_loss: 0.4467 - val_acc: 0.8750\n",
            "Epoch 14/20\n",
            "49/49 [==============================] - 3s 64ms/step - loss: 0.0037 - acc: 0.9998 - val_loss: 0.5438 - val_acc: 0.8752\n",
            "Epoch 15/20\n",
            "49/49 [==============================] - 3s 64ms/step - loss: 0.0308 - acc: 0.9919 - val_loss: 0.5271 - val_acc: 0.8754\n",
            "Epoch 16/20\n",
            "49/49 [==============================] - 5s 104ms/step - loss: 0.0016 - acc: 1.0000 - val_loss: 0.6139 - val_acc: 0.8730\n",
            "Epoch 17/20\n",
            "49/49 [==============================] - 3s 65ms/step - loss: 0.0272 - acc: 0.9928 - val_loss: 0.5555 - val_acc: 0.8739\n",
            "Epoch 18/20\n",
            "49/49 [==============================] - 3s 65ms/step - loss: 9.8613e-04 - acc: 1.0000 - val_loss: 0.6421 - val_acc: 0.8742\n",
            "Epoch 19/20\n",
            "49/49 [==============================] - 3s 67ms/step - loss: 0.0281 - acc: 0.9928 - val_loss: 0.5407 - val_acc: 0.8741\n",
            "Epoch 20/20\n",
            "49/49 [==============================] - 4s 80ms/step - loss: 9.4772e-04 - acc: 1.0000 - val_loss: 0.6347 - val_acc: 0.8739\n"
          ]
        }
      ],
      "source": [
        "bigger_model_hist = bigger_model.fit(x_train, y_train,\n",
        "                                     epochs=20,\n",
        "                                     batch_size=512,\n",
        "                                     validation_data=(x_test, y_test))"
      ]
    },
    {
      "cell_type": "markdown",
      "metadata": {
        "id": "y-CtyiUYXV1f"
      },
      "source": [
        "Here's how the bigger network fares compared to the reference one. The dots are the validation loss values of the bigger network, and the\n",
        "crosses are the initial network."
      ]
    },
    {
      "cell_type": "code",
      "execution_count": 13,
      "metadata": {
        "id": "sgiYswlpXV1f",
        "outputId": "2e81070c-9160-4686-a09d-bdf1544f9a46",
        "colab": {
          "base_uri": "https://localhost:8080/",
          "height": 449
        }
      },
      "outputs": [
        {
          "output_type": "display_data",
          "data": {
            "text/plain": [
              "<Figure size 640x480 with 1 Axes>"
            ],
            "image/png": "[encoded data removed]"
          },
          "metadata": {}
        }
      ],
      "source": [
        "bigger_model_val_loss = bigger_model_hist.history['val_loss']\n",
        "\n",
        "plt.plot(epochs, original_val_loss, 'b+', label='Original model')\n",
        "plt.plot(epochs, bigger_model_val_loss, 'bo', label='Bigger model')\n",
        "plt.xlabel('Epochs')\n",
        "plt.ylabel('Validation loss')\n",
        "plt.legend()\n",
        "\n",
        "plt.show()"
      ]
    },
    {
      "cell_type": "markdown",
      "metadata": {
        "id": "yyL0jejUXV1f"
      },
      "source": [
        "\n",
        "The bigger network starts overfitting almost right away, after just one epoch, and overfits much more severely. Its validation loss is also\n",
        "more noisy.\n",
        "\n",
        "Meanwhile, here are the training losses for our two networks:"
      ]
    },
    {
      "cell_type": "code",
      "execution_count": 14,
      "metadata": {
        "id": "ITazn9utXV1f",
        "outputId": "3bb30a49-e1cc-47d7-c171-0b4e93b82c77",
        "colab": {
          "base_uri": "https://localhost:8080/",
          "height": 449
        }
      },
      "outputs": [
        {
          "output_type": "display_data",
          "data": {
            "text/plain": [
              "<Figure size 640x480 with 1 Axes>"
            ],
            "image/png": "[encoded data removed]"
          },
          "metadata": {}
        }
      ],
      "source": [
        "original_train_loss = original_hist.history['loss']\n",
        "bigger_model_train_loss = bigger_model_hist.history['loss']\n",
        "\n",
        "plt.plot(epochs, original_train_loss, 'b+', label='Original model')\n",
        "plt.plot(epochs, bigger_model_train_loss, 'bo', label='Bigger model')\n",
        "plt.xlabel('Epochs')\n",
        "plt.ylabel('Training loss')\n",
        "plt.legend()\n",
        "\n",
        "plt.show()"
      ]
    },
    {
      "cell_type": "markdown",
      "metadata": {
        "id": "h408HGe8XV1f"
      },
      "source": [
        "As you can see, the bigger network gets its training loss near zero very quickly. The more capacity the network has, the quicker it will be\n",
        "able to model the training data (resulting in a low training loss), but the more susceptible it is to overfitting (resulting in a large\n",
        "difference between the training and validation loss)."
      ]
    },
    {
      "cell_type": "markdown",
      "metadata": {
        "id": "UDDpc7m1XV1f"
      },
      "source": [
        "## Adding weight regularization\n",
        "\n",
        "\n",
        "You may be familiar with _Occam's Razor_ principle: given two explanations for something, the explanation most likely to be correct is the\n",
        "\"simplest\" one, the one that makes the least amount of assumptions. This also applies to the models learned by neural networks: given some\n",
        "training data and a network architecture, there are multiple sets of weights values (multiple _models_) that could explain the data, and\n",
        "simpler models are less likely to overfit than complex ones.\n",
        "\n",
        "A \"simple model\" in this context is a model where the distribution of parameter values has less entropy (or a model with fewer\n",
        "parameters altogether, as we saw in the section above). Thus a common way to mitigate overfitting is to put constraints on the complexity\n",
        "of a network by forcing its weights to only take small values, which makes the distribution of weight values more \"regular\". This is called\n",
        "\"weight regularization\", and it is done by adding to the loss function of the network a _cost_ associated with having large weights. This\n",
        "cost comes in two flavors:\n",
        "\n",
        "* L1 regularization, where the cost added is proportional to the _absolute value of the weights coefficients_ (i.e. to what is called the\n",
        "\"L1 norm\" of the weights).\n",
        "* L2 regularization, where the cost added is proportional to the _square of the value of the weights coefficients_ (i.e. to what is called\n",
        "the \"L2 norm\" of the weights). L2 regularization is also called _weight decay_ in the context of neural networks. Don't let the different\n",
        "name confuse you: weight decay is mathematically the exact same as L2 regularization.\n",
        "\n",
        "In Keras, weight regularization is added by passing _weight regularizer instances_ to layers as keyword arguments. Let's add L2 weight\n",
        "regularization to our movie review classification network:"
      ]
    },
    {
      "cell_type": "code",
      "execution_count": 15,
      "metadata": {
        "collapsed": true,
        "id": "g0XJXHnHXV1g"
      },
      "outputs": [],
      "source": [
        "from keras import regularizers\n",
        "\n",
        "l2_model = models.Sequential()\n",
        "l2_model.add(layers.Dense(16, kernel_regularizer=regularizers.l2(0.001),\n",
        "                          activation='relu', input_shape=(numero_palabras,)))\n",
        "l2_model.add(layers.Dense(16, kernel_regularizer=regularizers.l2(0.001),\n",
        "                          activation='relu'))\n",
        "l2_model.add(layers.Dense(1, activation='sigmoid'))"
      ]
    },
    {
      "cell_type": "code",
      "execution_count": 16,
      "metadata": {
        "collapsed": true,
        "id": "FXZK8v5JXV1g"
      },
      "outputs": [],
      "source": [
        "l2_model.compile(optimizer='rmsprop',\n",
        "                 loss='binary_crossentropy',\n",
        "                 metrics=['acc'])"
      ]
    },
    {
      "cell_type": "markdown",
      "metadata": {
        "id": "4Q67A5ARXV1g"
      },
      "source": [
        "`l2(0.001)` means that every coefficient in the weight matrix of the layer will add `0.001 * weight_coefficient_value` to the total loss of\n",
        "the network. Note that because this penalty is _only added at training time_, the loss for this network will be much higher at training\n",
        "than at test time.\n",
        "\n",
        "Here's the impact of our L2 regularization penalty:"
      ]
    },
    {
      "cell_type": "code",
      "execution_count": 17,
      "metadata": {
        "id": "0hKJt13hXV1g",
        "outputId": "eb24eabe-e94d-40c4-ad69-e4f6bb43b9ce",
        "colab": {
          "base_uri": "https://localhost:8080/"
        }
      },
      "outputs": [
        {
          "output_type": "stream",
          "name": "stdout",
          "text": [
            "Epoch 1/20\n",
            "49/49 [==============================] - 4s 60ms/step - loss: 0.5163 - acc: 0.8066 - val_loss: 0.3998 - val_acc: 0.8715\n",
            "Epoch 2/20\n",
            "49/49 [==============================] - 1s 27ms/step - loss: 0.3423 - acc: 0.8913 - val_loss: 0.3436 - val_acc: 0.8823\n",
            "Epoch 3/20\n",
            "49/49 [==============================] - 1s 21ms/step - loss: 0.2917 - acc: 0.9076 - val_loss: 0.3314 - val_acc: 0.8832\n",
            "Epoch 4/20\n",
            "49/49 [==============================] - 1s 20ms/step - loss: 0.2703 - acc: 0.9145 - val_loss: 0.3461 - val_acc: 0.8753\n",
            "Epoch 5/20\n",
            "49/49 [==============================] - 1s 20ms/step - loss: 0.2580 - acc: 0.9196 - val_loss: 0.3309 - val_acc: 0.8826\n",
            "Epoch 6/20\n",
            "49/49 [==============================] - 1s 27ms/step - loss: 0.2504 - acc: 0.9209 - val_loss: 0.3463 - val_acc: 0.8767\n",
            "Epoch 7/20\n",
            "49/49 [==============================] - 1s 20ms/step - loss: 0.2467 - acc: 0.9230 - val_loss: 0.3414 - val_acc: 0.8805\n",
            "Epoch 8/20\n",
            "49/49 [==============================] - 1s 21ms/step - loss: 0.2410 - acc: 0.9254 - val_loss: 0.3481 - val_acc: 0.8776\n",
            "Epoch 9/20\n",
            "49/49 [==============================] - 1s 26ms/step - loss: 0.2360 - acc: 0.9280 - val_loss: 0.3846 - val_acc: 0.8685\n",
            "Epoch 10/20\n",
            "49/49 [==============================] - 1s 31ms/step - loss: 0.2345 - acc: 0.9289 - val_loss: 0.3566 - val_acc: 0.8774\n",
            "Epoch 11/20\n",
            "49/49 [==============================] - 1s 26ms/step - loss: 0.2279 - acc: 0.9318 - val_loss: 0.3638 - val_acc: 0.8759\n",
            "Epoch 12/20\n",
            "49/49 [==============================] - 1s 27ms/step - loss: 0.2319 - acc: 0.9292 - val_loss: 0.3641 - val_acc: 0.8763\n",
            "Epoch 13/20\n",
            "49/49 [==============================] - 1s 20ms/step - loss: 0.2235 - acc: 0.9344 - val_loss: 0.3738 - val_acc: 0.8734\n",
            "Epoch 14/20\n",
            "49/49 [==============================] - 1s 21ms/step - loss: 0.2248 - acc: 0.9317 - val_loss: 0.3735 - val_acc: 0.8729\n",
            "Epoch 15/20\n",
            "49/49 [==============================] - 1s 27ms/step - loss: 0.2220 - acc: 0.9345 - val_loss: 0.3747 - val_acc: 0.8726\n",
            "Epoch 16/20\n",
            "49/49 [==============================] - 2s 43ms/step - loss: 0.2180 - acc: 0.9365 - val_loss: 0.3777 - val_acc: 0.8728\n",
            "Epoch 17/20\n",
            "49/49 [==============================] - 1s 26ms/step - loss: 0.2134 - acc: 0.9384 - val_loss: 0.3810 - val_acc: 0.8719\n",
            "Epoch 18/20\n",
            "49/49 [==============================] - 1s 21ms/step - loss: 0.2110 - acc: 0.9395 - val_loss: 0.4326 - val_acc: 0.8596\n",
            "Epoch 19/20\n",
            "49/49 [==============================] - 1s 28ms/step - loss: 0.2138 - acc: 0.9375 - val_loss: 0.4309 - val_acc: 0.8594\n",
            "Epoch 20/20\n",
            "49/49 [==============================] - 2s 34ms/step - loss: 0.2076 - acc: 0.9410 - val_loss: 0.4040 - val_acc: 0.8664\n"
          ]
        }
      ],
      "source": [
        "l2_model_hist = l2_model.fit(x_train, y_train,\n",
        "                             epochs=20,\n",
        "                             batch_size=512,\n",
        "                             validation_data=(x_test, y_test))"
      ]
    },
    {
      "cell_type": "code",
      "execution_count": 18,
      "metadata": {
        "id": "GwUhpo1VXV1g",
        "outputId": "75225ee6-0ede-44a9-9663-882d214c79b4",
        "colab": {
          "base_uri": "https://localhost:8080/",
          "height": 449
        }
      },
      "outputs": [
        {
          "output_type": "display_data",
          "data": {
            "text/plain": [
              "<Figure size 640x480 with 1 Axes>"
            ],
            "image/png": "[encoded data removed]"
          },
          "metadata": {}
        }
      ],
      "source": [
        "l2_model_val_loss = l2_model_hist.history['val_loss']\n",
        "\n",
        "plt.plot(epochs, original_val_loss, 'b+', label='Original model')\n",
        "plt.plot(epochs, l2_model_val_loss, 'bo', label='L2-regularized model')\n",
        "plt.xlabel('Epochs')\n",
        "plt.ylabel('Validation loss')\n",
        "plt.legend()\n",
        "\n",
        "plt.show()"
      ]
    },
    {
      "cell_type": "markdown",
      "metadata": {
        "id": "mbt1SbZ5XV1g"
      },
      "source": [
        "\n",
        "\n",
        "As you can see, the model with L2 regularization (dots) has become much more resistant to overfitting than the reference model (crosses),\n",
        "even though both models have the same number of parameters.\n",
        "\n",
        "As alternatives to L2 regularization, you could use one of the following Keras weight regularizers:"
      ]
    },
    {
      "cell_type": "code",
      "execution_count": 19,
      "metadata": {
        "collapsed": true,
        "id": "zg_gk3mdXV1g",
        "outputId": "ecc2850a-99c4-4330-8bef-ffa5980bfb4c",
        "colab": {
          "base_uri": "https://localhost:8080/"
        }
      },
      "outputs": [
        {
          "output_type": "execute_result",
          "data": {
            "text/plain": [
              "<keras.src.regularizers.L1L2 at 0x7a975fb26200>"
            ]
          },
          "metadata": {},
          "execution_count": 19
        }
      ],
      "source": [
        "from keras import regularizers\n",
        "\n",
        "# L1 regularization\n",
        "regularizers.l1(0.001)\n",
        "\n",
        "# L1 and L2 regularization at the same time\n",
        "regularizers.l1_l2(l1=0.001, l2=0.001)"
      ]
    },
    {
      "cell_type": "markdown",
      "metadata": {
        "id": "iXQzABYYXV1g"
      },
      "source": [
        "## Adding dropout\n",
        "\n",
        "\n",
        "Dropout is one of the most effective and most commonly used regularization techniques for neural networks, developed by Hinton and his\n",
        "students at the University of Toronto. Dropout, applied to a layer, consists of randomly \"dropping out\" (i.e. setting to zero) a number of\n",
        "output features of the layer during training. Let's say a given layer would normally have returned a vector `[0.2, 0.5, 1.3, 0.8, 1.1]` for a\n",
        "given input sample during training; after applying dropout, this vector will have a few zero entries distributed at random, e.g. `[0, 0.5,\n",
        "1.3, 0, 1.1]`. The \"dropout rate\" is the fraction of the features that are being zeroed-out; it is usually set between 0.2 and 0.5. At test\n",
        "time, no units are dropped out, and instead the layer's output values are scaled down by a factor equal to the dropout rate, so as to\n",
        "balance for the fact that more units are active than at training time.\n",
        "\n",
        "Consider a Numpy matrix containing the output of a layer, `layer_output`, of shape `(batch_size, features)`. At training time, we would be\n",
        "zero-ing out at random a fraction of the values in the matrix:"
      ]
    },
    {
      "cell_type": "code",
      "execution_count": 20,
      "metadata": {
        "collapsed": true,
        "id": "0cVolR9uXV1g",
        "outputId": "bf5958b6-2af8-45c8-9b83-a67b0048af5e",
        "colab": {
          "base_uri": "https://localhost:8080/",
          "height": 159
        }
      },
      "outputs": [
        {
          "output_type": "error",
          "ename": "NameError",
          "evalue": "name 'layer_output' is not defined",
          "traceback": [
            "\u001b[0;31m---------------------------------------------------------------------------\u001b[0m",
            "\u001b[0;31mNameError\u001b[0m                                 Traceback (most recent call last)",
            "\u001b[0;32m<ipython-input-20-f1f187ff4a2c>\u001b[0m in \u001b[0;36m<cell line: 2>\u001b[0;34m()\u001b[0m\n\u001b[1;32m      1\u001b[0m \u001b[0;31m# At training time: we drop out 50% of the units in the output\u001b[0m\u001b[0;34m\u001b[0m\u001b[0;34m\u001b[0m\u001b[0m\n\u001b[0;32m----> 2\u001b[0;31m \u001b[0mlayer_output\u001b[0m \u001b[0;34m*=\u001b[0m \u001b[0mnp\u001b[0m\u001b[0;34m.\u001b[0m\u001b[0mrandint\u001b[0m\u001b[0;34m(\u001b[0m\u001b[0;36m0\u001b[0m\u001b[0;34m,\u001b[0m \u001b[0mhigh\u001b[0m\u001b[0;34m=\u001b[0m\u001b[0;36m2\u001b[0m\u001b[0;34m,\u001b[0m \u001b[0msize\u001b[0m\u001b[0;34m=\u001b[0m\u001b[0mlayer_output\u001b[0m\u001b[0;34m.\u001b[0m\u001b[0mshape\u001b[0m\u001b[0;34m)\u001b[0m\u001b[0;34m\u001b[0m\u001b[0;34m\u001b[0m\u001b[0m\n\u001b[0m",
            "\u001b[0;31mNameError\u001b[0m: name 'layer_output' is not defined"
          ]
        }
      ],
      "source": [
        "# At training time: we drop out 50% of the units in the output\n",
        "layer_output *= np.randint(0, high=2, size=layer_output.shape)"
      ]
    },
    {
      "cell_type": "markdown",
      "metadata": {
        "id": "YoKLw7iFXV1h"
      },
      "source": [
        "\n",
        "At test time, we would be scaling the output down by the dropout rate. Here we scale by 0.5 (because we were previous dropping half the\n",
        "units):"
      ]
    },
    {
      "cell_type": "code",
      "execution_count": null,
      "metadata": {
        "collapsed": true,
        "id": "HjLReTcNXV1h"
      },
      "outputs": [],
      "source": [
        "# At test time:\n",
        "layer_output *= 0.5"
      ]
    },
    {
      "cell_type": "markdown",
      "metadata": {
        "id": "3zJYh2VBXV1h"
      },
      "source": [
        "\n",
        "Note that this process can be implemented by doing both operations at training time and leaving the output unchanged at test time, which is\n",
        "often the way it is implemented in practice:"
      ]
    },
    {
      "cell_type": "code",
      "execution_count": null,
      "metadata": {
        "collapsed": true,
        "id": "ADwhA1pOXV1h"
      },
      "outputs": [],
      "source": [
        "# At training time:\n",
        "layer_output *= np.randint(0, high=2, size=layer_output.shape)\n",
        "# Note that we are scaling *up* rather scaling *down* in this case\n",
        "layer_output /= 0.5"
      ]
    },
    {
      "cell_type": "markdown",
      "metadata": {
        "id": "u2kr2wdWXV1h"
      },
      "source": [
        "\n",
        "This technique may seem strange and arbitrary. Why would this help reduce overfitting? Geoff Hinton has said that he was inspired, among\n",
        "other things, by a fraud prevention mechanism used by banks -- in his own words: _\"I went to my bank. The tellers kept changing and I asked\n",
        "one of them why. He said he didn’t know but they got moved around a lot. I figured it must be because it would require cooperation\n",
        "between employees to successfully defraud the bank. This made me realize that randomly removing a different subset of neurons on each\n",
        "example would prevent conspiracies and thus reduce overfitting\"_.\n",
        "\n",
        "The core idea is that introducing noise in the output values of a layer can break up happenstance patterns that are not significant (what\n",
        "Hinton refers to as \"conspiracies\"), which the network would start memorizing if no noise was present.\n",
        "\n",
        "In Keras you can introduce dropout in a network via the `Dropout` layer, which gets applied to the output of layer right before it, e.g.:"
      ]
    },
    {
      "cell_type": "code",
      "execution_count": null,
      "metadata": {
        "collapsed": true,
        "id": "HNQn84NNXV1h"
      },
      "outputs": [],
      "source": [
        "model.add(layers.Dropout(0.5))"
      ]
    },
    {
      "cell_type": "markdown",
      "metadata": {
        "id": "C09_xrBKXV1h"
      },
      "source": [
        "Let's add two `Dropout` layers in our IMDB network to see how well they do at reducing overfitting:"
      ]
    },
    {
      "cell_type": "code",
      "execution_count": 23,
      "metadata": {
        "collapsed": true,
        "id": "kAxu9jBNXV1h"
      },
      "outputs": [],
      "source": [
        "dpt_model = models.Sequential()\n",
        "dpt_model.add(layers.Dense(16, activation='relu', input_shape=(numero_palabras,)))\n",
        "dpt_model.add(layers.Dropout(0.5))\n",
        "dpt_model.add(layers.Dense(16, activation='relu'))\n",
        "dpt_model.add(layers.Dropout(0.5))\n",
        "dpt_model.add(layers.Dense(1, activation='sigmoid'))\n",
        "\n",
        "dpt_model.compile(optimizer='rmsprop',\n",
        "                  loss='binary_crossentropy',\n",
        "                  metrics=['acc'])"
      ]
    },
    {
      "cell_type": "code",
      "execution_count": 25,
      "metadata": {
        "id": "jK9iDBHJXV1q",
        "outputId": "78f5cbf0-d0fc-4d16-858b-a02f0e7c63a8",
        "colab": {
          "base_uri": "https://localhost:8080/"
        }
      },
      "outputs": [
        {
          "output_type": "stream",
          "name": "stdout",
          "text": [
            "Epoch 1/20\n",
            "49/49 [==============================] - 2s 48ms/step - loss: 0.1625 - acc: 0.9340 - val_loss: 0.4642 - val_acc: 0.8717\n",
            "Epoch 2/20\n",
            "49/49 [==============================] - 2s 35ms/step - loss: 0.1623 - acc: 0.9362 - val_loss: 0.4572 - val_acc: 0.8706\n",
            "Epoch 3/20\n",
            "49/49 [==============================] - 2s 49ms/step - loss: 0.1586 - acc: 0.9348 - val_loss: 0.4919 - val_acc: 0.8746\n",
            "Epoch 4/20\n",
            "49/49 [==============================] - 2s 39ms/step - loss: 0.1562 - acc: 0.9362 - val_loss: 0.5197 - val_acc: 0.8715\n",
            "Epoch 5/20\n",
            "49/49 [==============================] - 2s 33ms/step - loss: 0.1544 - acc: 0.9401 - val_loss: 0.5189 - val_acc: 0.8704\n",
            "Epoch 6/20\n",
            "49/49 [==============================] - 1s 21ms/step - loss: 0.1524 - acc: 0.9394 - val_loss: 0.5331 - val_acc: 0.8711\n",
            "Epoch 7/20\n",
            "49/49 [==============================] - 1s 21ms/step - loss: 0.1538 - acc: 0.9396 - val_loss: 0.5390 - val_acc: 0.8698\n",
            "Epoch 8/20\n",
            "49/49 [==============================] - 1s 21ms/step - loss: 0.1487 - acc: 0.9424 - val_loss: 0.5435 - val_acc: 0.8693\n",
            "Epoch 9/20\n",
            "49/49 [==============================] - 1s 27ms/step - loss: 0.1472 - acc: 0.9409 - val_loss: 0.5522 - val_acc: 0.8667\n",
            "Epoch 10/20\n",
            "49/49 [==============================] - 1s 27ms/step - loss: 0.1486 - acc: 0.9427 - val_loss: 0.5798 - val_acc: 0.8661\n",
            "Epoch 11/20\n",
            "49/49 [==============================] - 1s 22ms/step - loss: 0.1477 - acc: 0.9398 - val_loss: 0.5938 - val_acc: 0.8691\n",
            "Epoch 12/20\n",
            "49/49 [==============================] - 1s 21ms/step - loss: 0.1464 - acc: 0.9406 - val_loss: 0.6090 - val_acc: 0.8679\n",
            "Epoch 13/20\n",
            "49/49 [==============================] - 1s 21ms/step - loss: 0.1464 - acc: 0.9426 - val_loss: 0.6044 - val_acc: 0.8690\n",
            "Epoch 14/20\n",
            "49/49 [==============================] - 2s 31ms/step - loss: 0.1412 - acc: 0.9435 - val_loss: 0.6225 - val_acc: 0.8678\n",
            "Epoch 15/20\n",
            "49/49 [==============================] - 2s 32ms/step - loss: 0.1392 - acc: 0.9468 - val_loss: 0.6319 - val_acc: 0.8682\n",
            "Epoch 16/20\n",
            "49/49 [==============================] - 1s 22ms/step - loss: 0.1378 - acc: 0.9445 - val_loss: 0.6678 - val_acc: 0.8698\n",
            "Epoch 17/20\n",
            "49/49 [==============================] - 1s 27ms/step - loss: 0.1393 - acc: 0.9476 - val_loss: 0.6600 - val_acc: 0.8689\n",
            "Epoch 18/20\n",
            "49/49 [==============================] - 1s 22ms/step - loss: 0.1419 - acc: 0.9460 - val_loss: 0.6355 - val_acc: 0.8665\n",
            "Epoch 19/20\n",
            "49/49 [==============================] - 1s 21ms/step - loss: 0.1368 - acc: 0.9476 - val_loss: 0.6773 - val_acc: 0.8676\n",
            "Epoch 20/20\n",
            "49/49 [==============================] - 1s 27ms/step - loss: 0.1359 - acc: 0.9489 - val_loss: 0.6600 - val_acc: 0.8658\n"
          ]
        }
      ],
      "source": [
        "dpt_model_hist = dpt_model.fit(x_train, y_train,\n",
        "                               epochs=20,\n",
        "                               batch_size=512,\n",
        "                               validation_data=(x_test, y_test))"
      ]
    },
    {
      "cell_type": "markdown",
      "metadata": {
        "id": "T6uEKy_WXV1q"
      },
      "source": [
        "Let's plot the results:"
      ]
    },
    {
      "cell_type": "code",
      "execution_count": 26,
      "metadata": {
        "id": "rPsfQHaKXV1q",
        "outputId": "e955ce8e-71fe-409a-9d06-2c97a236f2ca",
        "colab": {
          "base_uri": "https://localhost:8080/",
          "height": 449
        }
      },
      "outputs": [
        {
          "output_type": "display_data",
          "data": {
            "text/plain": [
              "<Figure size 640x480 with 1 Axes>"
            ],
            "image/png": "[encoded data removed]"
          },
          "metadata": {}
        }
      ],
      "source": [
        "dpt_model_val_loss = dpt_model_hist.history['val_loss']\n",
        "\n",
        "plt.plot(epochs, original_val_loss, 'b+', label='Original model')\n",
        "plt.plot(epochs, dpt_model_val_loss, 'bo', label='Dropout-regularized model')\n",
        "plt.xlabel('Epochs')\n",
        "plt.ylabel('Validation loss')\n",
        "plt.legend()\n",
        "\n",
        "plt.show()"
      ]
    },
    {
      "cell_type": "markdown",
      "metadata": {
        "id": "k2rRwdMMXV1q"
      },
      "source": [
        "\n",
        "Again, a clear improvement over the reference network.\n",
        "\n",
        "To recap: here the most common ways to prevent overfitting in neural networks:\n",
        "\n",
        "* Getting more training data.\n",
        "* Reducing the capacity of the network.\n",
        "* Adding weight regularization.\n",
        "* Adding dropout."
      ]
    }
  ],
  "metadata": {
    "kernelspec": {
      "display_name": "Python 3",
      "language": "python",
      "name": "python3"
    },
    "language_info": {
      "codemirror_mode": {
        "name": "ipython",
        "version": 3
      },
      "file_extension": ".py",
      "mimetype": "text/x-python",
      "name": "python",
      "nbconvert_exporter": "python",
      "pygments_lexer": "ipython3",
      "version": "3.5.2"
    },
    "colab": {
      "provenance": [],
      "include_colab_link": true
    }
  },
  "nbformat": 4,
  "nbformat_minor": 0
}