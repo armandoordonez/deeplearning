{
  "cells": [
    {
      "cell_type": "markdown",
      "metadata": {
        "id": "view-in-github",
        "colab_type": "text"
      },
      "source": [
        "<a href=\"https://colab.research.google.com/github/armandoordonez/deeplearning/blob/main/Pizza_Not_pizza_Hiperparameter_tunning.ipynb\" target=\"_parent\"><img src=\"https://colab.research.google.com/assets/colab-badge.svg\" alt=\"Open In Colab\"/></a>"
      ]
    },
    {
      "cell_type": "code",
      "execution_count": 1,
      "metadata": {
        "id": "Pp-nw9SoXV1X",
        "colab": {
          "base_uri": "https://localhost:8080/",
          "height": 321
        },
        "outputId": "ea668d20-3db1-4c9d-f3f3-45442949025b"
      },
      "outputs": [
        {
          "output_type": "error",
          "ename": "MessageError",
          "evalue": "Error: credential propagation was unsuccessful",
          "traceback": [
            "\u001b[0;31m---------------------------------------------------------------------------\u001b[0m",
            "\u001b[0;31mMessageError\u001b[0m                              Traceback (most recent call last)",
            "\u001b[0;32m<ipython-input-1-7dd549b36401>\u001b[0m in \u001b[0;36m<cell line: 14>\u001b[0;34m()\u001b[0m\n\u001b[1;32m     12\u001b[0m \u001b[0;32mimport\u001b[0m \u001b[0mpandas\u001b[0m \u001b[0;32mas\u001b[0m \u001b[0mpd\u001b[0m\u001b[0;34m\u001b[0m\u001b[0;34m\u001b[0m\u001b[0m\n\u001b[1;32m     13\u001b[0m \u001b[0;32mimport\u001b[0m \u001b[0mnumpy\u001b[0m \u001b[0;32mas\u001b[0m \u001b[0mnp\u001b[0m\u001b[0;34m\u001b[0m\u001b[0;34m\u001b[0m\u001b[0m\n\u001b[0;32m---> 14\u001b[0;31m \u001b[0mdrive\u001b[0m\u001b[0;34m.\u001b[0m\u001b[0mmount\u001b[0m\u001b[0;34m(\u001b[0m\u001b[0;34m'/content/drive'\u001b[0m\u001b[0;34m)\u001b[0m\u001b[0;34m\u001b[0m\u001b[0;34m\u001b[0m\u001b[0m\n\u001b[0m",
            "\u001b[0;32m/usr/local/lib/python3.10/dist-packages/google/colab/drive.py\u001b[0m in \u001b[0;36mmount\u001b[0;34m(mountpoint, force_remount, timeout_ms, readonly)\u001b[0m\n\u001b[1;32m     98\u001b[0m \u001b[0;32mdef\u001b[0m \u001b[0mmount\u001b[0m\u001b[0;34m(\u001b[0m\u001b[0mmountpoint\u001b[0m\u001b[0;34m,\u001b[0m \u001b[0mforce_remount\u001b[0m\u001b[0;34m=\u001b[0m\u001b[0;32mFalse\u001b[0m\u001b[0;34m,\u001b[0m \u001b[0mtimeout_ms\u001b[0m\u001b[0;34m=\u001b[0m\u001b[0;36m120000\u001b[0m\u001b[0;34m,\u001b[0m \u001b[0mreadonly\u001b[0m\u001b[0;34m=\u001b[0m\u001b[0;32mFalse\u001b[0m\u001b[0;34m)\u001b[0m\u001b[0;34m:\u001b[0m\u001b[0;34m\u001b[0m\u001b[0;34m\u001b[0m\u001b[0m\n\u001b[1;32m     99\u001b[0m   \u001b[0;34m\"\"\"Mount your Google Drive at the specified mountpoint path.\"\"\"\u001b[0m\u001b[0;34m\u001b[0m\u001b[0;34m\u001b[0m\u001b[0m\n\u001b[0;32m--> 100\u001b[0;31m   return _mount(\n\u001b[0m\u001b[1;32m    101\u001b[0m       \u001b[0mmountpoint\u001b[0m\u001b[0;34m,\u001b[0m\u001b[0;34m\u001b[0m\u001b[0;34m\u001b[0m\u001b[0m\n\u001b[1;32m    102\u001b[0m       \u001b[0mforce_remount\u001b[0m\u001b[0;34m=\u001b[0m\u001b[0mforce_remount\u001b[0m\u001b[0;34m,\u001b[0m\u001b[0;34m\u001b[0m\u001b[0;34m\u001b[0m\u001b[0m\n",
            "\u001b[0;32m/usr/local/lib/python3.10/dist-packages/google/colab/drive.py\u001b[0m in \u001b[0;36m_mount\u001b[0;34m(mountpoint, force_remount, timeout_ms, ephemeral, readonly)\u001b[0m\n\u001b[1;32m    131\u001b[0m   )\n\u001b[1;32m    132\u001b[0m   \u001b[0;32mif\u001b[0m \u001b[0mephemeral\u001b[0m\u001b[0;34m:\u001b[0m\u001b[0;34m\u001b[0m\u001b[0;34m\u001b[0m\u001b[0m\n\u001b[0;32m--> 133\u001b[0;31m     _message.blocking_request(\n\u001b[0m\u001b[1;32m    134\u001b[0m         \u001b[0;34m'request_auth'\u001b[0m\u001b[0;34m,\u001b[0m \u001b[0mrequest\u001b[0m\u001b[0;34m=\u001b[0m\u001b[0;34m{\u001b[0m\u001b[0;34m'authType'\u001b[0m\u001b[0;34m:\u001b[0m \u001b[0;34m'dfs_ephemeral'\u001b[0m\u001b[0;34m}\u001b[0m\u001b[0;34m,\u001b[0m \u001b[0mtimeout_sec\u001b[0m\u001b[0;34m=\u001b[0m\u001b[0;32mNone\u001b[0m\u001b[0;34m\u001b[0m\u001b[0;34m\u001b[0m\u001b[0m\n\u001b[1;32m    135\u001b[0m     )\n",
            "\u001b[0;32m/usr/local/lib/python3.10/dist-packages/google/colab/_message.py\u001b[0m in \u001b[0;36mblocking_request\u001b[0;34m(request_type, request, timeout_sec, parent)\u001b[0m\n\u001b[1;32m    174\u001b[0m       \u001b[0mrequest_type\u001b[0m\u001b[0;34m,\u001b[0m \u001b[0mrequest\u001b[0m\u001b[0;34m,\u001b[0m \u001b[0mparent\u001b[0m\u001b[0;34m=\u001b[0m\u001b[0mparent\u001b[0m\u001b[0;34m,\u001b[0m \u001b[0mexpect_reply\u001b[0m\u001b[0;34m=\u001b[0m\u001b[0;32mTrue\u001b[0m\u001b[0;34m\u001b[0m\u001b[0;34m\u001b[0m\u001b[0m\n\u001b[1;32m    175\u001b[0m   )\n\u001b[0;32m--> 176\u001b[0;31m   \u001b[0;32mreturn\u001b[0m \u001b[0mread_reply_from_input\u001b[0m\u001b[0;34m(\u001b[0m\u001b[0mrequest_id\u001b[0m\u001b[0;34m,\u001b[0m \u001b[0mtimeout_sec\u001b[0m\u001b[0;34m)\u001b[0m\u001b[0;34m\u001b[0m\u001b[0;34m\u001b[0m\u001b[0m\n\u001b[0m",
            "\u001b[0;32m/usr/local/lib/python3.10/dist-packages/google/colab/_message.py\u001b[0m in \u001b[0;36mread_reply_from_input\u001b[0;34m(message_id, timeout_sec)\u001b[0m\n\u001b[1;32m    101\u001b[0m     ):\n\u001b[1;32m    102\u001b[0m       \u001b[0;32mif\u001b[0m \u001b[0;34m'error'\u001b[0m \u001b[0;32min\u001b[0m \u001b[0mreply\u001b[0m\u001b[0;34m:\u001b[0m\u001b[0;34m\u001b[0m\u001b[0;34m\u001b[0m\u001b[0m\n\u001b[0;32m--> 103\u001b[0;31m         \u001b[0;32mraise\u001b[0m \u001b[0mMessageError\u001b[0m\u001b[0;34m(\u001b[0m\u001b[0mreply\u001b[0m\u001b[0;34m[\u001b[0m\u001b[0;34m'error'\u001b[0m\u001b[0;34m]\u001b[0m\u001b[0;34m)\u001b[0m\u001b[0;34m\u001b[0m\u001b[0;34m\u001b[0m\u001b[0m\n\u001b[0m\u001b[1;32m    104\u001b[0m       \u001b[0;32mreturn\u001b[0m \u001b[0mreply\u001b[0m\u001b[0;34m.\u001b[0m\u001b[0mget\u001b[0m\u001b[0;34m(\u001b[0m\u001b[0;34m'data'\u001b[0m\u001b[0;34m,\u001b[0m \u001b[0;32mNone\u001b[0m\u001b[0;34m)\u001b[0m\u001b[0;34m\u001b[0m\u001b[0;34m\u001b[0m\u001b[0m\n\u001b[1;32m    105\u001b[0m \u001b[0;34m\u001b[0m\u001b[0m\n",
            "\u001b[0;31mMessageError\u001b[0m: Error: credential propagation was unsuccessful"
          ]
        }
      ],
      "source": [
        "# Datos https://www.kaggle.com/code/rasikagurav/pizza-or-not-pizza\n",
        "\n",
        "\n",
        "import keras\n",
        "import cv2\n",
        "import pathlib\n",
        "import random\n",
        "import glob\n",
        "import os\n",
        "from keras.preprocessing.image import ImageDataGenerator\n",
        "from google.colab import drive\n",
        "import pandas as pd\n",
        "import numpy as np\n",
        "drive.mount('/content/drive')"
      ]
    },
    {
      "cell_type": "markdown",
      "metadata": {
        "id": "UGIDx8B1XV1Z"
      },
      "source": [
        "# Overfitting and underfitting with images dataset\n",
        "\n",
        "Based on the code of the book [Deep Learning with Python](https://www.manning.com/books/deep-learning-with-python?a_aid=keras&a_bid=76564dff)."
      ]
    },
    {
      "cell_type": "markdown",
      "metadata": {
        "id": "_uWQwaAnXV1b"
      },
      "source": [
        "Load data from google drive"
      ]
    },
    {
      "cell_type": "markdown",
      "metadata": {
        "id": "Zu2HRrdqXV1c"
      },
      "source": [
        "# Fighting overfitting\n",
        "\n",
        "## Reducing the network's size\n",
        "\n",
        "\n",
        "The simplest way to prevent overfitting is to reduce the size of the model, i.e. the number of learnable parameters in the model (which is\n",
        "determined by the number of layers and the number of units per layer). In deep learning, the number of learnable parameters in a model is\n",
        "often referred to as the model's \"capacity\". Intuitively, a model with more parameters will have more \"memorization capacity\" and therefore\n",
        "will be able to easily learn a perfect dictionary-like mapping between training samples and their targets, a mapping without any\n",
        "generalization power. For instance, a model with 500,000 binary parameters could easily be made to learn the class of every digits in the\n",
        "MNIST training set: we would only need 10 binary parameters for each of the 50,000 digits. Such a model would be useless for classifying\n",
        "new digit samples. Always keep this in mind: deep learning models tend to be good at fitting to the training data, but the real challenge\n",
        "is generalization, not fitting.\n",
        "\n",
        "On the other hand, if the network has limited memorization resources, it will not be able to learn this mapping as easily, and thus, in\n",
        "order to minimize its loss, it will have to resort to learning compressed representations that have predictive power regarding the targets\n",
        "-- precisely the type of representations that we are interested in. At the same time, keep in mind that you should be using models that have\n",
        "enough parameters that they won't be underfitting: your model shouldn't be starved for memorization resources. There is a compromise to be\n",
        "found between \"too much capacity\" and \"not enough capacity\".\n",
        "\n",
        "Unfortunately, there is no magical formula to determine what the right number of layers is, or what the right size for each layer is. You\n",
        "will have to evaluate an array of different architectures (on your validation set, not on your test set, of course) in order to find the\n",
        "right model size for your data. The general workflow to find an appropriate model size is to start with relatively few layers and\n",
        "parameters, and start increasing the size of the layers or adding new layers until you see diminishing returns with regard to the\n",
        "validation loss.\n",
        "\n",
        "Let's try this on our movie review classification network. Our original network was as such:"
      ]
    },
    {
      "cell_type": "code",
      "execution_count": null,
      "metadata": {
        "colab": {
          "base_uri": "https://localhost:8080/"
        },
        "id": "7qQBu2E29AVx",
        "outputId": "cf64673e-28ff-425f-dc6b-7d19cd1e7a93"
      },
      "outputs": [
        {
          "output_type": "stream",
          "name": "stdout",
          "text": [
            "No of images : 1966\n"
          ]
        }
      ],
      "source": [
        "path = '/content/drive/MyDrive/pizza_not_pizza (1)'\n",
        "data_dir=pathlib.Path(path)\n",
        "image=glob.glob(\"/content/drive/MyDrive/pizza_not_pizza (1)/*/*.jpg\")\n",
        "image=pd.Series(image)\n",
        "print(\"No of images :\",len(image))\n",
        "numero_imagenes = len(image)"
      ]
    },
    {
      "cell_type": "markdown",
      "metadata": {
        "id": "H-SNpNyg-_mI"
      },
      "source": [
        "# Setting train and test data"
      ]
    },
    {
      "cell_type": "code",
      "execution_count": null,
      "metadata": {
        "colab": {
          "base_uri": "https://localhost:8080/"
        },
        "id": "70vS511f_ECv",
        "outputId": "29a733a4-9884-4808-df25-ee7bbcfd2bc9"
      },
      "outputs": [
        {
          "output_type": "stream",
          "name": "stdout",
          "text": [
            "Found 1770 images belonging to 2 classes.\n",
            "Found 196 images belonging to 2 classes.\n"
          ]
        }
      ],
      "source": [
        "# Se importa la clase ImageDataGenerator de Keras para la generación de datos de imágenes para el entrenamiento.\n",
        "# Se especifica que se debe reescalar los valores de píxeles de las imágenes dividiéndolos por 255 para normalizarlos.\n",
        "# Se divide el conjunto de datos en un 90% para entrenamiento y un 10% para validación.\n",
        "train_data = ImageDataGenerator(rescale=1./255, validation_split=0.1)\n",
        "\n",
        "# Se crea un generador de datos de entrenamiento utilizando el método flow_from_directory de train_data.\n",
        "# Se especifica el directorio que contiene las imágenes.\n",
        "# Se indica que se utilizará un 80% de los datos para entrenamiento (subset='training').\n",
        "# Se establece el tamaño al que se redimensionarán las imágenes (224x224 píxeles).\n",
        "# Se establece el tamaño del lote (batch_size) en 32 imágenes.\n",
        "train_ds = train_data.flow_from_directory(\n",
        "    path,\n",
        "    subset='training',\n",
        "    target_size=(224, 224),\n",
        "    batch_size=32\n",
        ")\n",
        "\n",
        "# Se crea un generador de datos de validación utilizando el método flow_from_directory de train_data.\n",
        "# Se especifica el directorio que contiene las imágenes.\n",
        "# Se indica que se utilizará un 20% de los datos para validación (subset='validation').\n",
        "# Se establece el tamaño al que se redimensionarán las imágenes (224x224 píxeles).\n",
        "# Se establece el tamaño del lote (batch_size) en 32 imágenes.\n",
        "test_ds = train_data.flow_from_directory(\n",
        "    path,\n",
        "    subset='validation',\n",
        "    target_size=(224, 224),\n",
        "    batch_size=32\n",
        ")"
      ]
    },
    {
      "cell_type": "code",
      "execution_count": null,
      "metadata": {
        "collapsed": true,
        "id": "WDB5Wg1sXV1d",
        "colab": {
          "base_uri": "https://localhost:8080/"
        },
        "outputId": "0ef0dc04-0c69-4c07-9db8-8c6699ab27db"
      },
      "outputs": [
        {
          "output_type": "stream",
          "name": "stdout",
          "text": [
            "Downloading data from https://storage.googleapis.com/tensorflow/keras-applications/mobilenet/mobilenet_1_0_224_tf_no_top.h5\n",
            "17225924/17225924 [==============================] - 1s 0us/step\n"
          ]
        }
      ],
      "source": [
        "from keras import models\n",
        "from keras.layers import Dense , Flatten, GlobalAveragePooling2D\n",
        "from keras import layers\n",
        "from keras import optimizers\n",
        "from keras.applications import MobileNet\n",
        "\n",
        "#Optimizer\n",
        "optimizer = optimizers.legacy.SGD(learning_rate=0.001,momentum=0.09)\n",
        "\n",
        "#Arquitectura\n",
        "mobilenet=MobileNet(\n",
        "    input_shape=(224,224,3),\n",
        "    include_top=False,\n",
        "    weights='imagenet'\n",
        ")\n",
        "\n",
        "for layers in mobilenet.layers:\n",
        "    layers.trainable=False\n"
      ]
    },
    {
      "cell_type": "code",
      "source": [
        "original_model = models.Sequential()\n",
        "original_model.add(mobilenet)\n",
        "original_model.add(GlobalAveragePooling2D())\n",
        "original_model.add(Flatten(input_shape=(224,224,3)))\n",
        "original_model.add(Dense(16, activation='relu',input_shape=(224,224,3)))\n",
        "original_model.add(Dense(16, activation='relu'))\n",
        "original_model.add(Dense(2, activation='softmax'))\n",
        "original_model.compile(optimizer=optimizer,\n",
        "                       loss='categorical_crossentropy',\n",
        "                       metrics=['acc'])"
      ],
      "metadata": {
        "id": "Ae8rFFK-RFJ3"
      },
      "execution_count": null,
      "outputs": []
    },
    {
      "cell_type": "markdown",
      "metadata": {
        "id": "P4LCiCgRXV1d"
      },
      "source": [
        "Now let's try to replace it with this smaller network:"
      ]
    },
    {
      "cell_type": "code",
      "execution_count": null,
      "metadata": {
        "collapsed": true,
        "id": "oHo_-kBeXV1d"
      },
      "outputs": [],
      "source": [
        "smaller_model = models.Sequential()\n",
        "smaller_model.add(mobilenet)\n",
        "smaller_model.add(GlobalAveragePooling2D())\n",
        "smaller_model.add(Flatten(input_shape=(224,224,3)))\n",
        "smaller_model.add(Dense(4, activation='relu',input_shape=(224,224,3)))\n",
        "smaller_model.add(Dense(4, activation='relu'))\n",
        "smaller_model.add(Dense(2, activation='softmax'))\n",
        "\n",
        "smaller_model.compile(optimizer=optimizer,\n",
        "                      loss='categorical_crossentropy',\n",
        "                      metrics=['acc'])"
      ]
    },
    {
      "cell_type": "markdown",
      "metadata": {
        "id": "Y4-5Ah2YXV1d"
      },
      "source": [
        "\n",
        "Here's a comparison of the validation losses of the original network and the smaller network. The dots are the validation loss values of\n",
        "the smaller network, and the crosses are the initial network (remember: a lower validation loss signals a better model)."
      ]
    },
    {
      "cell_type": "code",
      "execution_count": null,
      "metadata": {
        "colab": {
          "base_uri": "https://localhost:8080/"
        },
        "id": "t4_W819wXV1d",
        "outputId": "9d3bd4e6-9c42-4483-f32e-d960f5305dac"
      },
      "outputs": [
        {
          "output_type": "stream",
          "name": "stdout",
          "text": [
            "Epoch 1/10\n",
            "56/56 [==============================] - 102s 2s/step - loss: 0.6070 - acc: 0.6667 - val_loss: 0.5558 - val_acc: 0.6786\n",
            "Epoch 2/10\n",
            "56/56 [==============================] - 102s 2s/step - loss: 0.5086 - acc: 0.7921 - val_loss: 0.4846 - val_acc: 0.7755\n",
            "Epoch 3/10\n",
            "56/56 [==============================] - 99s 2s/step - loss: 0.4230 - acc: 0.8418 - val_loss: 0.4098 - val_acc: 0.8418\n",
            "Epoch 4/10\n",
            "56/56 [==============================] - 109s 2s/step - loss: 0.3489 - acc: 0.8706 - val_loss: 0.3559 - val_acc: 0.8776\n",
            "Epoch 5/10\n",
            "56/56 [==============================] - 98s 2s/step - loss: 0.3006 - acc: 0.8842 - val_loss: 0.3193 - val_acc: 0.8929\n",
            "Epoch 6/10\n",
            "56/56 [==============================] - 111s 2s/step - loss: 0.2687 - acc: 0.8944 - val_loss: 0.2949 - val_acc: 0.8980\n",
            "Epoch 7/10\n",
            "56/56 [==============================] - 109s 2s/step - loss: 0.2460 - acc: 0.9056 - val_loss: 0.2798 - val_acc: 0.9031\n",
            "Epoch 8/10\n",
            "56/56 [==============================] - 109s 2s/step - loss: 0.2294 - acc: 0.9102 - val_loss: 0.2697 - val_acc: 0.9082\n",
            "Epoch 9/10\n",
            "56/56 [==============================] - 99s 2s/step - loss: 0.2162 - acc: 0.9192 - val_loss: 0.2602 - val_acc: 0.9082\n",
            "Epoch 10/10\n",
            "56/56 [==============================] - 99s 2s/step - loss: 0.2052 - acc: 0.9203 - val_loss: 0.2502 - val_acc: 0.9184\n"
          ]
        }
      ],
      "source": [
        "original_hist = original_model.fit(train_ds,\n",
        "                                   epochs=10,\n",
        "                                   validation_data=test_ds)"
      ]
    },
    {
      "cell_type": "code",
      "execution_count": null,
      "metadata": {
        "colab": {
          "base_uri": "https://localhost:8080/"
        },
        "id": "jIJZdPtUXV1e",
        "outputId": "053dc6b2-d135-49f1-9278-b91b6bf1bee4"
      },
      "outputs": [
        {
          "output_type": "stream",
          "name": "stdout",
          "text": [
            "Epoch 1/10\n",
            "56/56 [==============================] - 100s 2s/step - loss: 0.7062 - acc: 0.5158 - val_loss: 0.6999 - val_acc: 0.5459\n",
            "Epoch 2/10\n",
            "56/56 [==============================] - 108s 2s/step - loss: 0.6861 - acc: 0.5401 - val_loss: 0.6787 - val_acc: 0.5765\n",
            "Epoch 3/10\n",
            "56/56 [==============================] - 98s 2s/step - loss: 0.6679 - acc: 0.5757 - val_loss: 0.6555 - val_acc: 0.6173\n",
            "Epoch 4/10\n",
            "56/56 [==============================] - 99s 2s/step - loss: 0.6439 - acc: 0.6119 - val_loss: 0.6221 - val_acc: 0.6122\n",
            "Epoch 5/10\n",
            "56/56 [==============================] - 115s 2s/step - loss: 0.6110 - acc: 0.6689 - val_loss: 0.5797 - val_acc: 0.6990\n",
            "Epoch 6/10\n",
            "56/56 [==============================] - 100s 2s/step - loss: 0.5796 - acc: 0.7237 - val_loss: 0.5465 - val_acc: 0.7551\n",
            "Epoch 7/10\n",
            "56/56 [==============================] - 98s 2s/step - loss: 0.5532 - acc: 0.7672 - val_loss: 0.5195 - val_acc: 0.8112\n",
            "Epoch 8/10\n",
            "56/56 [==============================] - 109s 2s/step - loss: 0.5304 - acc: 0.8045 - val_loss: 0.4935 - val_acc: 0.8418\n",
            "Epoch 9/10\n",
            "56/56 [==============================] - 96s 2s/step - loss: 0.5111 - acc: 0.8175 - val_loss: 0.4761 - val_acc: 0.8571\n",
            "Epoch 10/10\n",
            "56/56 [==============================] - 93s 2s/step - loss: 0.4937 - acc: 0.8441 - val_loss: 0.4593 - val_acc: 0.8776\n"
          ]
        }
      ],
      "source": [
        "smaller_model_hist = smaller_model.fit(train_ds,\n",
        "                                   epochs=10,\n",
        "                                   validation_data=test_ds)"
      ]
    },
    {
      "cell_type": "code",
      "execution_count": null,
      "metadata": {
        "collapsed": true,
        "id": "d6zqoQ2MXV1e"
      },
      "outputs": [],
      "source": [
        "epochs = range(1, 11)\n",
        "original_val_loss = original_hist.history['val_loss']\n",
        "smaller_model_val_loss = smaller_model_hist.history['val_loss']"
      ]
    },
    {
      "cell_type": "code",
      "source": [
        "print(\"ORIGINAL: \",original_val_loss)\n",
        "print(\"SMALLER: \",smaller_model_val_loss)"
      ],
      "metadata": {
        "colab": {
          "base_uri": "https://localhost:8080/"
        },
        "id": "fTrRmR4yDWPm",
        "outputId": "bbd41951-361d-400e-ddef-2dd6a712349b"
      },
      "execution_count": null,
      "outputs": [
        {
          "output_type": "stream",
          "name": "stdout",
          "text": [
            "ORIGINAL:  [0.5558176040649414, 0.48463448882102966, 0.4098283350467682, 0.3558728098869324, 0.31925100088119507, 0.29494237899780273, 0.2798371911048889, 0.26974210143089294, 0.2602381706237793, 0.2502049505710602]\n",
            "SMALLER:  [0.6999046206474304, 0.6787309646606445, 0.6554997563362122, 0.6220924258232117, 0.5796797275543213, 0.5465444922447205, 0.5195380449295044, 0.4934883117675781, 0.4760952889919281, 0.45930546522140503]\n"
          ]
        }
      ]
    },
    {
      "cell_type": "code",
      "execution_count": null,
      "metadata": {
        "colab": {
          "base_uri": "https://localhost:8080/",
          "height": 449
        },
        "id": "MgIoiN_oXV1e",
        "outputId": "5ae289d7-e9a3-46c4-b370-0f693ee44931"
      },
      "outputs": [
        {
          "output_type": "display_data",
          "data": {
            "text/plain": [
              "<Figure size 640x480 with 1 Axes>"
            ],
            "image/png": "[encoded data removed]"
          },
          "metadata": {}
        }
      ],
      "source": [
        "import matplotlib.pyplot as plt\n",
        "\n",
        "# b+ is for \"blue cross\"\n",
        "plt.plot(epochs, original_val_loss, 'b+', label='Original model')\n",
        "# \"bo\" is for \"blue dot\"\n",
        "plt.plot(epochs, smaller_model_val_loss, 'bo', label='Smaller model')\n",
        "plt.xlabel('Epochs')\n",
        "plt.ylabel('Validation loss')\n",
        "plt.legend()\n",
        "\n",
        "plt.show()"
      ]
    },
    {
      "cell_type": "markdown",
      "metadata": {
        "id": "18b0hwyFXV1e"
      },
      "source": [
        "\n",
        "As you can see, the smaller network starts overfitting later than the reference one (after 6 epochs rather than 4) and its performance\n",
        "degrades much more slowly once it starts overfitting.\n",
        "\n",
        "Now, for kicks, let's add to this benchmark a network that has much more capacity, far more than the problem would warrant:"
      ]
    },
    {
      "cell_type": "code",
      "execution_count": null,
      "metadata": {
        "collapsed": true,
        "id": "3CjC78iqXV1e"
      },
      "outputs": [],
      "source": [
        "bigger_model = models.Sequential()\n",
        "bigger_model.add(mobilenet)\n",
        "bigger_model.add(GlobalAveragePooling2D())\n",
        "bigger_model.add(Flatten(input_shape=(224,224,3)))\n",
        "bigger_model.add(Dense(128, activation='relu', input_shape=(224,224,3)))\n",
        "bigger_model.add(Dense(128, activation='relu'))\n",
        "bigger_model.add(Dense(2, activation='softmax'))\n",
        "\n",
        "bigger_model.compile(optimizer=optimizer,\n",
        "                     loss='categorical_crossentropy',\n",
        "                     metrics=['acc'])"
      ]
    },
    {
      "cell_type": "code",
      "execution_count": null,
      "metadata": {
        "colab": {
          "base_uri": "https://localhost:8080/"
        },
        "id": "xy0AT7U6XV1f",
        "outputId": "03f262ea-cf78-451c-8c14-688ff10969aa"
      },
      "outputs": [
        {
          "output_type": "stream",
          "name": "stdout",
          "text": [
            "Epoch 1/10\n",
            "56/56 [==============================] - 97s 2s/step - loss: 0.7730 - acc: 0.5412 - val_loss: 0.5916 - val_acc: 0.7143\n",
            "Epoch 2/10\n",
            "56/56 [==============================] - 93s 2s/step - loss: 0.5381 - acc: 0.7554 - val_loss: 0.4645 - val_acc: 0.8367\n",
            "Epoch 3/10\n",
            "56/56 [==============================] - 107s 2s/step - loss: 0.4330 - acc: 0.8350 - val_loss: 0.3903 - val_acc: 0.8622\n",
            "Epoch 4/10\n",
            "56/56 [==============================] - 96s 2s/step - loss: 0.3685 - acc: 0.8689 - val_loss: 0.3405 - val_acc: 0.8980\n",
            "Epoch 5/10\n",
            "56/56 [==============================] - 101s 2s/step - loss: 0.3229 - acc: 0.8864 - val_loss: 0.3065 - val_acc: 0.9082\n",
            "Epoch 6/10\n",
            "56/56 [==============================] - 96s 2s/step - loss: 0.2917 - acc: 0.8966 - val_loss: 0.2833 - val_acc: 0.9082\n",
            "Epoch 7/10\n",
            "56/56 [==============================] - 96s 2s/step - loss: 0.2679 - acc: 0.9017 - val_loss: 0.2652 - val_acc: 0.9184\n",
            "Epoch 8/10\n",
            "56/56 [==============================] - 98s 2s/step - loss: 0.2499 - acc: 0.9073 - val_loss: 0.2521 - val_acc: 0.9286\n",
            "Epoch 9/10\n",
            "56/56 [==============================] - 98s 2s/step - loss: 0.2350 - acc: 0.9090 - val_loss: 0.2447 - val_acc: 0.9184\n",
            "Epoch 10/10\n",
            "56/56 [==============================] - 91s 2s/step - loss: 0.2236 - acc: 0.9158 - val_loss: 0.2351 - val_acc: 0.9235\n"
          ]
        }
      ],
      "source": [
        "bigger_model_hist = bigger_model.fit(train_ds,\n",
        "                                   epochs=10,\n",
        "                                   validation_data=test_ds)"
      ]
    },
    {
      "cell_type": "markdown",
      "metadata": {
        "id": "y-CtyiUYXV1f"
      },
      "source": [
        "Here's how the bigger network fares compared to the reference one. The dots are the validation loss values of the bigger network, and the\n",
        "crosses are the initial network."
      ]
    },
    {
      "cell_type": "code",
      "execution_count": null,
      "metadata": {
        "colab": {
          "base_uri": "https://localhost:8080/",
          "height": 449
        },
        "id": "sgiYswlpXV1f",
        "outputId": "4be8eeb1-1207-4928-cba8-8c15fcf879b0"
      },
      "outputs": [
        {
          "output_type": "display_data",
          "data": {
            "text/plain": [
              "<Figure size 640x480 with 1 Axes>"
            ],
            "image/png": "[encoded data removed]"
          },
          "metadata": {}
        }
      ],
      "source": [
        "bigger_model_val_loss = bigger_model_hist.history['val_loss']\n",
        "\n",
        "plt.plot(epochs, original_val_loss, 'b+', label='Original model')\n",
        "plt.plot(epochs, bigger_model_val_loss, 'bo', label='Bigger model')\n",
        "plt.xlabel('Epochs')\n",
        "plt.ylabel('Validation loss')\n",
        "plt.legend()\n",
        "\n",
        "plt.show()"
      ]
    },
    {
      "cell_type": "markdown",
      "metadata": {
        "id": "yyL0jejUXV1f"
      },
      "source": [
        "\n",
        "The bigger network starts overfitting almost right away, after just one epoch, and overfits much more severely. Its validation loss is also\n",
        "more noisy.\n",
        "\n",
        "Meanwhile, here are the training losses for our two networks:"
      ]
    },
    {
      "cell_type": "code",
      "execution_count": null,
      "metadata": {
        "colab": {
          "base_uri": "https://localhost:8080/",
          "height": 454
        },
        "id": "ITazn9utXV1f",
        "outputId": "7aef5d0b-afc6-40c5-e9c2-e448b0eb350b"
      },
      "outputs": [
        {
          "output_type": "display_data",
          "data": {
            "text/plain": [
              "<Figure size 640x480 with 1 Axes>"
            ],
            "image/png": "[encoded data removed]"
          },
          "metadata": {}
        }
      ],
      "source": [
        "original_train_loss = original_hist.history['loss']\n",
        "bigger_model_train_loss = bigger_model_hist.history['loss']\n",
        "\n",
        "plt.plot(epochs, original_train_loss, 'b+', label='Original model')\n",
        "plt.plot(epochs, bigger_model_train_loss, 'bo', label='Bigger model')\n",
        "plt.xlabel('Epochs')\n",
        "plt.ylabel('Training loss')\n",
        "plt.legend()\n",
        "\n",
        "plt.show()"
      ]
    },
    {
      "cell_type": "markdown",
      "metadata": {
        "id": "h408HGe8XV1f"
      },
      "source": [
        "As you can see, the bigger network gets its training loss near zero very quickly. The more capacity the network has, the quicker it will be\n",
        "able to model the training data (resulting in a low training loss), but the more susceptible it is to overfitting (resulting in a large\n",
        "difference between the training and validation loss)."
      ]
    },
    {
      "cell_type": "markdown",
      "metadata": {
        "id": "UDDpc7m1XV1f"
      },
      "source": [
        "## Adding weight regularization\n",
        "\n",
        "\n",
        "You may be familiar with _Occam's Razor_ principle: given two explanations for something, the explanation most likely to be correct is the\n",
        "\"simplest\" one, the one that makes the least amount of assumptions. This also applies to the models learned by neural networks: given some\n",
        "training data and a network architecture, there are multiple sets of weights values (multiple _models_) that could explain the data, and\n",
        "simpler models are less likely to overfit than complex ones.\n",
        "\n",
        "A \"simple model\" in this context is a model where the distribution of parameter values has less entropy (or a model with fewer\n",
        "parameters altogether, as we saw in the section above). Thus a common way to mitigate overfitting is to put constraints on the complexity\n",
        "of a network by forcing its weights to only take small values, which makes the distribution of weight values more \"regular\". This is called\n",
        "\"weight regularization\", and it is done by adding to the loss function of the network a _cost_ associated with having large weights. This\n",
        "cost comes in two flavors:\n",
        "\n",
        "* L1 regularization, where the cost added is proportional to the _absolute value of the weights coefficients_ (i.e. to what is called the\n",
        "\"L1 norm\" of the weights).\n",
        "* L2 regularization, where the cost added is proportional to the _square of the value of the weights coefficients_ (i.e. to what is called\n",
        "the \"L2 norm\" of the weights). L2 regularization is also called _weight decay_ in the context of neural networks. Don't let the different\n",
        "name confuse you: weight decay is mathematically the exact same as L2 regularization.\n",
        "\n",
        "In Keras, weight regularization is added by passing _weight regularizer instances_ to layers as keyword arguments. Let's add L2 weight\n",
        "regularization to our movie review classification network:"
      ]
    },
    {
      "cell_type": "code",
      "execution_count": null,
      "metadata": {
        "collapsed": true,
        "id": "g0XJXHnHXV1g"
      },
      "outputs": [],
      "source": [
        "from keras import regularizers\n",
        "l2_model = models.Sequential()\n",
        "l2_model.add(mobilenet)\n",
        "l2_model.add(GlobalAveragePooling2D())\n",
        "l2_model.add(Flatten(input_shape=(224, 224, 3)))\n",
        "l2_model.add(Dense(16, kernel_regularizer=regularizers.l2(0.001),\n",
        "                          activation='relu', input_shape=(224, 224, 3)))\n",
        "l2_model.add(Dense(16, kernel_regularizer=regularizers.l2(0.001),\n",
        "                          activation='relu'))\n",
        "l2_model.add(Dense(2, activation='softmax'))"
      ]
    },
    {
      "cell_type": "code",
      "execution_count": null,
      "metadata": {
        "collapsed": true,
        "id": "FXZK8v5JXV1g"
      },
      "outputs": [],
      "source": [
        "l2_model.compile(optimizer=optimizer,\n",
        "                 loss='categorical_crossentropy',\n",
        "                 metrics=['acc'])"
      ]
    },
    {
      "cell_type": "markdown",
      "metadata": {
        "id": "4Q67A5ARXV1g"
      },
      "source": [
        "`l2(0.001)` means that every coefficient in the weight matrix of the layer will add `0.001 * weight_coefficient_value` to the total loss of\n",
        "the network. Note that because this penalty is _only added at training time_, the loss for this network will be much higher at training\n",
        "than at test time.\n",
        "\n",
        "Here's the impact of our L2 regularization penalty:"
      ]
    },
    {
      "cell_type": "code",
      "execution_count": null,
      "metadata": {
        "colab": {
          "base_uri": "https://localhost:8080/"
        },
        "id": "0hKJt13hXV1g",
        "outputId": "8578a4d5-b3b1-4718-d7ba-00bc79842f65"
      },
      "outputs": [
        {
          "output_type": "stream",
          "name": "stdout",
          "text": [
            "Epoch 1/10\n",
            "56/56 [==============================] - 126s 2s/step - loss: 0.6755 - acc: 0.6542 - val_loss: 0.6118 - val_acc: 0.6990\n",
            "Epoch 2/10\n",
            "56/56 [==============================] - 93s 2s/step - loss: 0.5420 - acc: 0.7831 - val_loss: 0.5214 - val_acc: 0.7908\n",
            "Epoch 3/10\n",
            "56/56 [==============================] - 89s 2s/step - loss: 0.4632 - acc: 0.8260 - val_loss: 0.4536 - val_acc: 0.8418\n",
            "Epoch 4/10\n",
            "56/56 [==============================] - 90s 2s/step - loss: 0.4060 - acc: 0.8582 - val_loss: 0.3998 - val_acc: 0.8724\n",
            "Epoch 5/10\n",
            "56/56 [==============================] - 91s 2s/step - loss: 0.3661 - acc: 0.8734 - val_loss: 0.3626 - val_acc: 0.8878\n",
            "Epoch 6/10\n",
            "56/56 [==============================] - 90s 2s/step - loss: 0.3383 - acc: 0.8887 - val_loss: 0.3357 - val_acc: 0.8929\n",
            "Epoch 7/10\n",
            "56/56 [==============================] - 93s 2s/step - loss: 0.3178 - acc: 0.8983 - val_loss: 0.3161 - val_acc: 0.9031\n",
            "Epoch 8/10\n",
            "56/56 [==============================] - 88s 2s/step - loss: 0.3028 - acc: 0.9028 - val_loss: 0.2991 - val_acc: 0.9133\n",
            "Epoch 9/10\n",
            "56/56 [==============================] - 89s 2s/step - loss: 0.2895 - acc: 0.9034 - val_loss: 0.2877 - val_acc: 0.9286\n",
            "Epoch 10/10\n",
            "56/56 [==============================] - 90s 2s/step - loss: 0.2791 - acc: 0.9107 - val_loss: 0.2766 - val_acc: 0.9286\n"
          ]
        }
      ],
      "source": [
        "l2_model_hist = l2_model.fit(train_ds,\n",
        "                             epochs=10,\n",
        "                             validation_data=test_ds)"
      ]
    },
    {
      "cell_type": "code",
      "execution_count": null,
      "metadata": {
        "colab": {
          "base_uri": "https://localhost:8080/",
          "height": 449
        },
        "id": "GwUhpo1VXV1g",
        "outputId": "c4a90b09-8d92-4731-e747-21f13db50687"
      },
      "outputs": [
        {
          "output_type": "display_data",
          "data": {
            "text/plain": [
              "<Figure size 640x480 with 1 Axes>"
            ],
            "image/png": "[encoded data removed]"
          },
          "metadata": {}
        }
      ],
      "source": [
        "l2_model_val_loss = l2_model_hist.history['val_loss']\n",
        "\n",
        "plt.plot(epochs, original_val_loss, 'b+', label='Original model')\n",
        "plt.plot(epochs, l2_model_val_loss, 'bo', label='L2-regularized model')\n",
        "plt.xlabel('Epochs')\n",
        "plt.ylabel('Validation loss')\n",
        "plt.legend()\n",
        "\n",
        "plt.show()"
      ]
    },
    {
      "cell_type": "markdown",
      "metadata": {
        "id": "mbt1SbZ5XV1g"
      },
      "source": [
        "\n",
        "\n",
        "As you can see, the model with L2 regularization (dots) has become much more resistant to overfitting than the reference model (crosses),\n",
        "even though both models have the same number of parameters.\n",
        "\n",
        "As alternatives to L2 regularization, you could use one of the following Keras weight regularizers:"
      ]
    },
    {
      "cell_type": "code",
      "execution_count": null,
      "metadata": {
        "colab": {
          "base_uri": "https://localhost:8080/"
        },
        "collapsed": true,
        "id": "zg_gk3mdXV1g",
        "outputId": "1c7a59d6-20bd-4104-d836-9e9cbb7c0b12"
      },
      "outputs": [
        {
          "output_type": "execute_result",
          "data": {
            "text/plain": [
              "<keras.src.regularizers.L1L2 at 0x783cf26a00a0>"
            ]
          },
          "metadata": {},
          "execution_count": 33
        }
      ],
      "source": [
        "from keras import regularizers\n",
        "\n",
        "# L1 regularization\n",
        "regularizers.l1(0.001)\n",
        "\n",
        "# L1 and L2 regularization at the same time\n",
        "regularizers.l1_l2(l1=0.001, l2=0.001)"
      ]
    },
    {
      "cell_type": "markdown",
      "metadata": {
        "id": "iXQzABYYXV1g"
      },
      "source": [
        "## Adding dropout\n",
        "\n",
        "\n",
        "Dropout is one of the most effective and most commonly used regularization techniques for neural networks, developed by Hinton and his\n",
        "students at the University of Toronto. Dropout, applied to a layer, consists of randomly \"dropping out\" (i.e. setting to zero) a number of\n",
        "output features of the layer during training. Let's say a given layer would normally have returned a vector `[0.2, 0.5, 1.3, 0.8, 1.1]` for a\n",
        "given input sample during training; after applying dropout, this vector will have a few zero entries distributed at random, e.g. `[0, 0.5,\n",
        "1.3, 0, 1.1]`. The \"dropout rate\" is the fraction of the features that are being zeroed-out; it is usually set between 0.2 and 0.5. At test\n",
        "time, no units are dropped out, and instead the layer's output values are scaled down by a factor equal to the dropout rate, so as to\n",
        "balance for the fact that more units are active than at training time.\n",
        "\n",
        "Consider a Numpy matrix containing the output of a layer, `layer_output`, of shape `(batch_size, features)`. At training time, we would be\n",
        "zero-ing out at random a fraction of the values in the matrix:"
      ]
    },
    {
      "cell_type": "code",
      "execution_count": null,
      "metadata": {
        "collapsed": true,
        "id": "0cVolR9uXV1g"
      },
      "outputs": [],
      "source": [
        "# At training time: we drop out 50% of the units in the output\n",
        "layer_output *= np.randint(0, high=2, size=layer_output.shape)"
      ]
    },
    {
      "cell_type": "markdown",
      "metadata": {
        "id": "YoKLw7iFXV1h"
      },
      "source": [
        "\n",
        "At test time, we would be scaling the output down by the dropout rate. Here we scale by 0.5 (because we were previous dropping half the\n",
        "units):"
      ]
    },
    {
      "cell_type": "code",
      "execution_count": null,
      "metadata": {
        "collapsed": true,
        "id": "HjLReTcNXV1h",
        "colab": {
          "base_uri": "https://localhost:8080/",
          "height": 159
        },
        "outputId": "1a7a2045-371b-491a-b1fa-379f920100f5"
      },
      "outputs": [
        {
          "output_type": "error",
          "ename": "NameError",
          "evalue": "name 'layer_output' is not defined",
          "traceback": [
            "\u001b[0;31m---------------------------------------------------------------------------\u001b[0m",
            "\u001b[0;31mNameError\u001b[0m                                 Traceback (most recent call last)",
            "\u001b[0;32m<ipython-input-41-bfeb0a27d9eb>\u001b[0m in \u001b[0;36m<cell line: 2>\u001b[0;34m()\u001b[0m\n\u001b[1;32m      1\u001b[0m \u001b[0;31m# At test time:\u001b[0m\u001b[0;34m\u001b[0m\u001b[0;34m\u001b[0m\u001b[0m\n\u001b[0;32m----> 2\u001b[0;31m \u001b[0mlayer_output\u001b[0m \u001b[0;34m*=\u001b[0m \u001b[0;36m0.5\u001b[0m\u001b[0;34m\u001b[0m\u001b[0;34m\u001b[0m\u001b[0m\n\u001b[0m",
            "\u001b[0;31mNameError\u001b[0m: name 'layer_output' is not defined"
          ]
        }
      ],
      "source": [
        "# At test time:\n",
        "layer_output *= 0.5"
      ]
    },
    {
      "cell_type": "markdown",
      "metadata": {
        "id": "3zJYh2VBXV1h"
      },
      "source": [
        "\n",
        "Note that this process can be implemented by doing both operations at training time and leaving the output unchanged at test time, which is\n",
        "often the way it is implemented in practice:"
      ]
    },
    {
      "cell_type": "code",
      "execution_count": null,
      "metadata": {
        "collapsed": true,
        "id": "ADwhA1pOXV1h"
      },
      "outputs": [],
      "source": [
        "# At training time:\n",
        "layer_output *= np.randint(0, high=2, size=layer_output.shape)\n",
        "# Note that we are scaling *up* rather scaling *down* in this case\n",
        "layer_output /= 0.5"
      ]
    },
    {
      "cell_type": "markdown",
      "metadata": {
        "id": "u2kr2wdWXV1h"
      },
      "source": [
        "\n",
        "This technique may seem strange and arbitrary. Why would this help reduce overfitting? Geoff Hinton has said that he was inspired, among\n",
        "other things, by a fraud prevention mechanism used by banks -- in his own words: _\"I went to my bank. The tellers kept changing and I asked\n",
        "one of them why. He said he didn’t know but they got moved around a lot. I figured it must be because it would require cooperation\n",
        "between employees to successfully defraud the bank. This made me realize that randomly removing a different subset of neurons on each\n",
        "example would prevent conspiracies and thus reduce overfitting\"_.\n",
        "\n",
        "The core idea is that introducing noise in the output values of a layer can break up happenstance patterns that are not significant (what\n",
        "Hinton refers to as \"conspiracies\"), which the network would start memorizing if no noise was present.\n",
        "\n",
        "In Keras you can introduce dropout in a network via the `Dropout` layer, which gets applied to the output of layer right before it, e.g.:"
      ]
    },
    {
      "cell_type": "code",
      "execution_count": null,
      "metadata": {
        "collapsed": true,
        "id": "HNQn84NNXV1h"
      },
      "outputs": [],
      "source": [
        "model.add(layers.Dropout(0.5))"
      ]
    },
    {
      "cell_type": "markdown",
      "metadata": {
        "id": "C09_xrBKXV1h"
      },
      "source": [
        "Let's add two `Dropout` layers in our IMDB network to see how well they do at reducing overfitting:"
      ]
    },
    {
      "cell_type": "code",
      "execution_count": null,
      "metadata": {
        "collapsed": true,
        "id": "kAxu9jBNXV1h"
      },
      "outputs": [],
      "source": [
        "from keras.layers import Dropout\n",
        "dpt_model = models.Sequential()\n",
        "dpt_model.add(mobilenet)\n",
        "dpt_model.add(GlobalAveragePooling2D())\n",
        "dpt_model.add(Flatten(input_shape=(224, 224, 3)))\n",
        "dpt_model.add(Dense(16, activation='relu', input_shape=(224, 224, 3)))\n",
        "dpt_model.add(Dropout(0.5))\n",
        "dpt_model.add(Dense(16, activation='relu'))\n",
        "dpt_model.add(Dropout(0.5))\n",
        "dpt_model.add(Dense(2, activation='softmax'))\n",
        "\n",
        "dpt_model.compile(optimizer=optimizer,\n",
        "                  loss='categorical_crossentropy',\n",
        "                  metrics=['acc'])"
      ]
    },
    {
      "cell_type": "code",
      "execution_count": null,
      "metadata": {
        "colab": {
          "base_uri": "https://localhost:8080/"
        },
        "id": "jK9iDBHJXV1q",
        "outputId": "61b75a5a-1a1a-46c4-e5c3-14c4d96ee05f"
      },
      "outputs": [
        {
          "output_type": "stream",
          "name": "stdout",
          "text": [
            "Epoch 1/10\n",
            "56/56 [==============================] - 96s 2s/step - loss: 0.9021 - acc: 0.5463 - val_loss: 0.5928 - val_acc: 0.7092\n",
            "Epoch 2/10\n",
            "56/56 [==============================] - 90s 2s/step - loss: 0.7391 - acc: 0.5667 - val_loss: 0.5799 - val_acc: 0.7398\n",
            "Epoch 3/10\n",
            "56/56 [==============================] - 93s 2s/step - loss: 0.6740 - acc: 0.5944 - val_loss: 0.5744 - val_acc: 0.7653\n",
            "Epoch 4/10\n",
            "56/56 [==============================] - 90s 2s/step - loss: 0.6365 - acc: 0.6181 - val_loss: 0.5271 - val_acc: 0.8367\n",
            "Epoch 5/10\n",
            "56/56 [==============================] - 90s 2s/step - loss: 0.6034 - acc: 0.6644 - val_loss: 0.4927 - val_acc: 0.8673\n",
            "Epoch 6/10\n",
            "56/56 [==============================] - 90s 2s/step - loss: 0.5988 - acc: 0.6661 - val_loss: 0.4810 - val_acc: 0.8827\n",
            "Epoch 7/10\n",
            "56/56 [==============================] - 91s 2s/step - loss: 0.5714 - acc: 0.6859 - val_loss: 0.4567 - val_acc: 0.8724\n",
            "Epoch 8/10\n",
            "56/56 [==============================] - 92s 2s/step - loss: 0.5530 - acc: 0.6972 - val_loss: 0.4309 - val_acc: 0.8827\n",
            "Epoch 9/10\n",
            "56/56 [==============================] - 91s 2s/step - loss: 0.5567 - acc: 0.7017 - val_loss: 0.4144 - val_acc: 0.8724\n",
            "Epoch 10/10\n",
            "56/56 [==============================] - 92s 2s/step - loss: 0.5294 - acc: 0.7192 - val_loss: 0.4026 - val_acc: 0.8724\n"
          ]
        }
      ],
      "source": [
        "dpt_model_hist = dpt_model.fit(train_ds,\n",
        "                               epochs=10,\n",
        "                               validation_data=test_ds)"
      ]
    },
    {
      "cell_type": "markdown",
      "metadata": {
        "id": "T6uEKy_WXV1q"
      },
      "source": [
        "Let's plot the results:"
      ]
    },
    {
      "cell_type": "code",
      "execution_count": null,
      "metadata": {
        "colab": {
          "base_uri": "https://localhost:8080/",
          "height": 449
        },
        "id": "rPsfQHaKXV1q",
        "outputId": "0b138bc5-9b64-439a-a496-342659184749"
      },
      "outputs": [
        {
          "output_type": "display_data",
          "data": {
            "text/plain": [
              "<Figure size 640x480 with 1 Axes>"
            ],
            "image/png": "[encoded data removed]"
          },
          "metadata": {}
        }
      ],
      "source": [
        "dpt_model_val_loss = dpt_model_hist.history['val_loss']\n",
        "\n",
        "plt.plot(epochs, original_val_loss, 'b+', label='Original model')\n",
        "plt.plot(epochs, dpt_model_val_loss, 'bo', label='Dropout-regularized model')\n",
        "plt.xlabel('Epochs')\n",
        "plt.ylabel('Validation loss')\n",
        "plt.legend()\n",
        "\n",
        "plt.show()"
      ]
    },
    {
      "cell_type": "markdown",
      "metadata": {
        "id": "k2rRwdMMXV1q"
      },
      "source": [
        "\n",
        "Again, a clear improvement over the reference network.\n",
        "\n",
        "To recap: here the most common ways to prevent overfitting in neural networks:\n",
        "\n",
        "* Getting more training data.\n",
        "* Reducing the capacity of the network.\n",
        "* Adding weight regularization.\n",
        "* Adding dropout."
      ]
    },
    {
      "cell_type": "markdown",
      "source": [
        "# GRID SEARCH"
      ],
      "metadata": {
        "id": "THT0CBQ2yjBw"
      }
    },
    {
      "cell_type": "code",
      "source": [
        "\n",
        "!pip install scikeras"
      ],
      "metadata": {
        "colab": {
          "base_uri": "https://localhost:8080/"
        },
        "id": "e07qDLmd1h-g",
        "outputId": "e9997e1d-2648-42ac-a4d1-175170c6ff58"
      },
      "execution_count": null,
      "outputs": [
        {
          "output_type": "stream",
          "name": "stdout",
          "text": [
            "Collecting scikeras\n",
            "  Downloading scikeras-0.12.0-py3-none-any.whl (27 kB)\n",
            "Requirement already satisfied: packaging>=0.21 in /usr/local/lib/python3.10/dist-packages (from scikeras) (24.0)\n",
            "Requirement already satisfied: scikit-learn>=1.0.0 in /usr/local/lib/python3.10/dist-packages (from scikeras) (1.2.2)\n",
            "Requirement already satisfied: numpy>=1.17.3 in /usr/local/lib/python3.10/dist-packages (from scikit-learn>=1.0.0->scikeras) (1.25.2)\n",
            "Requirement already satisfied: scipy>=1.3.2 in /usr/local/lib/python3.10/dist-packages (from scikit-learn>=1.0.0->scikeras) (1.11.4)\n",
            "Requirement already satisfied: joblib>=1.1.1 in /usr/local/lib/python3.10/dist-packages (from scikit-learn>=1.0.0->scikeras) (1.3.2)\n",
            "Requirement already satisfied: threadpoolctl>=2.0.0 in /usr/local/lib/python3.10/dist-packages (from scikit-learn>=1.0.0->scikeras) (3.4.0)\n",
            "Installing collected packages: scikeras\n",
            "Successfully installed scikeras-0.12.0\n"
          ]
        }
      ]
    },
    {
      "cell_type": "code",
      "source": [
        "import tensorflow as tf\n",
        "from sklearn.model_selection import GridSearchCV\n",
        "from keras.layers import Dense, Conv2D, Dropout, BatchNormalization, MaxPooling2D, Flatten, Activation\n",
        "from scikeras.wrappers import KerasClassifier, KerasRegressor"
      ],
      "metadata": {
        "id": "h-djxH5ambaZ"
      },
      "execution_count": null,
      "outputs": []
    },
    {
      "cell_type": "code",
      "source": [
        "seed = 7\n",
        "tf.random.set_seed(seed)\n",
        "\n",
        "mobilenet=MobileNet(\n",
        "    input_shape=(224,224,3),\n",
        "    include_top=False,\n",
        "    weights='imagenet'\n",
        ")\n",
        "\n",
        "for layers in mobilenet.layers:\n",
        "    layers.trainable=False\n",
        "\n",
        "\n",
        "original_model = models.Sequential()\n",
        "original_model.add(mobilenet)\n",
        "original_model.add(GlobalAveragePooling2D())\n",
        "original_model.add(Flatten(input_shape=(224,224,3)))\n",
        "original_model.add(Dense(16, activation='relu',input_shape=(224,224,3)))\n",
        "original_model.add(Dense(16, activation='relu'))\n",
        "original_model.add(Dense(1, activation='softmax'))\n",
        "original_model.compile(optimizer=\"adam\",\n",
        "                       loss='binary_crossentropy',\n",
        "                       metrics=['acc'])"
      ],
      "metadata": {
        "id": "lBYyKiZ4xxI7"
      },
      "execution_count": null,
      "outputs": []
    },
    {
      "cell_type": "code",
      "source": [
        "datagen = ImageDataGenerator(rescale=1./255, validation_split=0.1)\n",
        "\n",
        "data = datagen.flow_from_directory(\n",
        "    path,\n",
        "    target_size=(224, 224),  # Tamaño al que se redimensionarán las imágenes\n",
        "    batch_size=32,\n",
        "    class_mode='binary',  # Tipo de problema: 'binary' para clasificación binaria\n",
        "    subset='training'  # Indica que es el conjunto de entrenamiento\n",
        ")\n",
        "\n",
        "X , Y = data.next()\n",
        "print(X.shape)\n",
        "print(Y.shape)"
      ],
      "metadata": {
        "colab": {
          "base_uri": "https://localhost:8080/"
        },
        "id": "DGORvGozEZpb",
        "outputId": "08b2c505-344e-4461-d6d6-3dbecf3f8c61"
      },
      "execution_count": null,
      "outputs": [
        {
          "output_type": "stream",
          "name": "stdout",
          "text": [
            "Found 1770 images belonging to 2 classes.\n",
            "(32, 224, 224, 3)\n",
            "(32,)\n"
          ]
        }
      ]
    },
    {
      "cell_type": "code",
      "source": [
        "# create model\n",
        "model = KerasClassifier(model=original_model, loss=\"binary_crossentropy\", epochs=100, batch_size=10, verbose=0)\n",
        "\n",
        "# define the grid search parameters\n",
        "optimizer = ['SGD', 'RMSprop', 'Adagrad', 'Adadelta', 'Adam', 'Adamax', 'Nadam']\n",
        "batch_size = [10, 20, 40, 60, 80, 100]\n",
        "epochs = [10, 50, 100]\n",
        "\n",
        "param_grid = dict(optimizer=optimizer,batch_size=batch_size, epochs=epochs)\n",
        "grid = GridSearchCV(estimator=model, param_grid=param_grid, n_jobs=-1, cv=3)\n",
        "grid_result = grid.fit(X, Y)\n",
        "\n",
        "# summarize results\n",
        "print(\"Best: %f using %s\" % (grid_result.best_score_, grid_result.best_params_))\n",
        "means = grid_result.cv_results_['mean_test_score']\n",
        "stds = grid_result.cv_results_['std_test_score']\n",
        "params = grid_result.cv_results_['params']\n",
        "for mean, stdev, param in zip(means, stds, params):\n",
        "    print(\"%f (%f) with: %r\" % (mean, stdev, param))"
      ],
      "metadata": {
        "id": "SElsc3Vpzc1W"
      },
      "execution_count": null,
      "outputs": []
    }
  ],
  "metadata": {
    "colab": {
      "provenance": [],
      "include_colab_link": true
    },
    "kernelspec": {
      "display_name": "Python 3",
      "language": "python",
      "name": "python3"
    },
    "language_info": {
      "codemirror_mode": {
        "name": "ipython",
        "version": 3
      },
      "file_extension": ".py",
      "mimetype": "text/x-python",
      "name": "python",
      "nbconvert_exporter": "python",
      "pygments_lexer": "ipython3",
      "version": "3.5.2"
    }
  },
  "nbformat": 4,
  "nbformat_minor": 0
}