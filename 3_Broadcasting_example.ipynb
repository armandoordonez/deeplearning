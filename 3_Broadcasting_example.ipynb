{
  "nbformat": 4,
  "nbformat_minor": 0,
  "metadata": {
    "colab": {
      "provenance": [],
      "authorship_tag": "ABX9TyMnr/mkrjr2reM7LVRYDjaB",
      "include_colab_link": true
    },
    "kernelspec": {
      "name": "python3",
      "display_name": "Python 3"
    },
    "language_info": {
      "name": "python"
    }
  },
  "cells": [
    {
      "cell_type": "markdown",
      "metadata": {
        "id": "view-in-github",
        "colab_type": "text"
      },
      "source": [
        "<a href=\"https://colab.research.google.com/github/armandoordonez/deeplearning/blob/main/Broadcasting_example.ipynb\" target=\"_parent\"><img src=\"https://colab.research.google.com/assets/colab-badge.svg\" alt=\"Open In Colab\"/></a>"
      ]
    },
    {
      "cell_type": "code",
      "execution_count": null,
      "metadata": {
        "colab": {
          "base_uri": "https://localhost:8080/"
        },
        "id": "e-igmitTeSpI",
        "outputId": "8156e816-9691-4185-db52-918dd6ea2e18"
      },
      "outputs": [
        {
          "output_type": "stream",
          "name": "stdout",
          "text": [
            "[[10.   0.   4.5 68. ]\n",
            " [30.   5.   4.5 68. ]\n",
            " [40.   4.   0.5 68. ]\n",
            " [20.   1.   0.5 67. ]]\n"
          ]
        }
      ],
      "source": [
        "import numpy as np\n",
        "\n",
        "A = np.array([[10.0,0.0,4.5,68.0],[30.0,5.0,4.5,68.0],[40.0,4.0,0.5,68.0],[20.0,1.0,0.5,67.0]])\n",
        "print (A)"
      ]
    },
    {
      "cell_type": "code",
      "source": [
        "suma = np.sum(A, axis=0)\n",
        "print(suma)"
      ],
      "metadata": {
        "colab": {
          "base_uri": "https://localhost:8080/"
        },
        "id": "-li3f4ibe3Kt",
        "outputId": "6b331551-0a29-4b99-d414-c56e17f714a3"
      },
      "execution_count": null,
      "outputs": [
        {
          "output_type": "stream",
          "name": "stdout",
          "text": [
            "[100.  10.  10. 271.]\n"
          ]
        }
      ]
    },
    {
      "cell_type": "code",
      "source": [
        "print(A/suma)"
      ],
      "metadata": {
        "colab": {
          "base_uri": "https://localhost:8080/"
        },
        "id": "bJsqwPRpfW2N",
        "outputId": "63767a71-401a-41be-97ac-ddef888bd5bb"
      },
      "execution_count": null,
      "outputs": [
        {
          "output_type": "stream",
          "name": "stdout",
          "text": [
            "[[0.1        0.         0.45       0.25092251]\n",
            " [0.3        0.5        0.45       0.25092251]\n",
            " [0.4        0.4        0.05       0.25092251]\n",
            " [0.2        0.1        0.05       0.24723247]]\n"
          ]
        }
      ]
    },
    {
      "cell_type": "code",
      "source": [
        "import numpy as np\n",
        "\n",
        "a= np.random.randn(5)"
      ],
      "metadata": {
        "id": "HlLPU2m2_8Z0"
      },
      "execution_count": 3,
      "outputs": []
    },
    {
      "cell_type": "code",
      "source": [
        "print(a)"
      ],
      "metadata": {
        "id": "TAkTfNuTAuL3",
        "outputId": "58aa2986-8e34-4db5-cbce-f6acc67ba569",
        "colab": {
          "base_uri": "https://localhost:8080/"
        }
      },
      "execution_count": 6,
      "outputs": [
        {
          "output_type": "stream",
          "name": "stdout",
          "text": [
            "[-0.86977553  0.12963981 -0.52143128 -0.55235979 -0.60844076]\n"
          ]
        }
      ]
    },
    {
      "cell_type": "code",
      "source": [
        "print(a.shape)"
      ],
      "metadata": {
        "id": "-0S27rlX_896",
        "outputId": "6d9acaca-6696-40f5-aaa9-820c2dd12037",
        "colab": {
          "base_uri": "https://localhost:8080/"
        }
      },
      "execution_count": 7,
      "outputs": [
        {
          "output_type": "stream",
          "name": "stdout",
          "text": [
            "(5,)\n"
          ]
        }
      ]
    },
    {
      "cell_type": "code",
      "source": [
        "print(a.T)"
      ],
      "metadata": {
        "id": "usUb1M5r_9BC",
        "outputId": "63114aa3-cdf5-4b30-98bd-f2b3214c6e45",
        "colab": {
          "base_uri": "https://localhost:8080/"
        }
      },
      "execution_count": 8,
      "outputs": [
        {
          "output_type": "stream",
          "name": "stdout",
          "text": [
            "[-0.86977553  0.12963981 -0.52143128 -0.55235979 -0.60844076]\n"
          ]
        }
      ]
    },
    {
      "cell_type": "code",
      "source": [
        "print(a.T.shape)"
      ],
      "metadata": {
        "id": "lYV_8XFOfbMu",
        "outputId": "482c28aa-d1e8-45e5-8e18-cb591bd620cf",
        "colab": {
          "base_uri": "https://localhost:8080/"
        }
      },
      "execution_count": 10,
      "outputs": [
        {
          "output_type": "stream",
          "name": "stdout",
          "text": [
            "(5,)\n"
          ]
        }
      ]
    },
    {
      "cell_type": "code",
      "source": [
        "print(np.dot(a, a.T))"
      ],
      "metadata": {
        "id": "V7qmwJUmAx8f",
        "outputId": "1d517f71-189a-41ce-d28a-088c857ddca3",
        "colab": {
          "base_uri": "https://localhost:8080/"
        }
      },
      "execution_count": 11,
      "outputs": [
        {
          "output_type": "stream",
          "name": "stdout",
          "text": [
            "1.720508033790523\n"
          ]
        }
      ]
    },
    {
      "cell_type": "code",
      "source": [
        "a.reshape(5,1)"
      ],
      "metadata": {
        "id": "7GcvQNdaA81d",
        "outputId": "f9356ba3-352f-4322-b173-772f7aeb85da",
        "colab": {
          "base_uri": "https://localhost:8080/"
        }
      },
      "execution_count": 12,
      "outputs": [
        {
          "output_type": "execute_result",
          "data": {
            "text/plain": [
              "array([[-0.86977553],\n",
              "       [ 0.12963981],\n",
              "       [-0.52143128],\n",
              "       [-0.55235979],\n",
              "       [-0.60844076]])"
            ]
          },
          "metadata": {},
          "execution_count": 12
        }
      ]
    },
    {
      "cell_type": "code",
      "source": [
        "b= np.random.randn(5,1)\n",
        "print(b)\n",
        "print(b.shape)"
      ],
      "metadata": {
        "id": "pa_mf0LaBDHo",
        "outputId": "532c995a-ef2b-431b-abc9-9961bc509428",
        "colab": {
          "base_uri": "https://localhost:8080/"
        }
      },
      "execution_count": 13,
      "outputs": [
        {
          "output_type": "stream",
          "name": "stdout",
          "text": [
            "[[ 0.46561186]\n",
            " [ 0.17309037]\n",
            " [ 1.02132353]\n",
            " [-0.12807953]\n",
            " [-0.89278251]]\n",
            "(5, 1)\n"
          ]
        }
      ]
    },
    {
      "cell_type": "code",
      "source": [
        "print(np.dot(b, b.T))"
      ],
      "metadata": {
        "id": "65LjTysIBQnx",
        "outputId": "ffaf7445-5bcd-4153-c70d-212b51e0937a",
        "colab": {
          "base_uri": "https://localhost:8080/"
        }
      },
      "execution_count": 14,
      "outputs": [
        {
          "output_type": "stream",
          "name": "stdout",
          "text": [
            "[[ 0.21679441  0.08059293  0.47554035 -0.05963535 -0.41569013]\n",
            " [ 0.08059293  0.02996028  0.17678127 -0.02216933 -0.15453206]\n",
            " [ 0.47554035  0.17678127  1.04310176 -0.13081064 -0.91181979]\n",
            " [-0.05963535 -0.02216933 -0.13081064  0.01640437  0.11434717]\n",
            " [-0.41569013 -0.15453206 -0.91181979  0.11434717  0.79706061]]\n"
          ]
        }
      ]
    },
    {
      "cell_type": "code",
      "source": [
        "assert(b.shape==(5,1))"
      ],
      "metadata": {
        "id": "YBB63PloBbF_"
      },
      "execution_count": 21,
      "outputs": []
    },
    {
      "cell_type": "code",
      "source": [],
      "metadata": {
        "id": "DBAhdHanCCXB"
      },
      "execution_count": null,
      "outputs": []
    }
  ]
}