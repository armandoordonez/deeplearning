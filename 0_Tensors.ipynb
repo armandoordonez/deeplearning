{
  "cells": [
    {
      "cell_type": "markdown",
      "metadata": {
        "colab_type": "text",
        "id": "view-in-github"
      },
      "source": [
        "<a href=\"https://colab.research.google.com/github/armandoordonez/deeplearning/blob/main/2_Tensors.ipynb\" target=\"_parent\"><img src=\"https://colab.research.google.com/assets/colab-badge.svg\" alt=\"Open In Colab\"/></a>"
      ]
    },
    {
      "cell_type": "markdown",
      "metadata": {
        "id": "OzaQva1TDxqD"
      },
      "source": [
        "Scalars (0D tensors)"
      ]
    },
    {
      "cell_type": "code",
      "execution_count": 20,
      "metadata": {
        "id": "A_PpT0SBDx-K"
      },
      "outputs": [],
      "source": [
        "# Este notebook muestra los tipos de tensores que existen en el mundo de deep learning\n",
        "# Importamos la libreria numpy\n",
        "\n",
        "import numpy as np\n",
        "x = np.array(12)"
      ]
    },
    {
      "cell_type": "code",
      "execution_count": 21,
      "metadata": {
        "colab": {
          "base_uri": "https://localhost:8080/"
        },
        "id": "5OjNFttmD4Wv",
        "outputId": "7bbdaae8-6d71-4e67-f999-c081c88192a6"
      },
      "outputs": [
        {
          "data": {
            "text/plain": [
              "array(12)"
            ]
          },
          "execution_count": 21,
          "metadata": {},
          "output_type": "execute_result"
        }
      ],
      "source": [
        "# imprimimos el tensor\n",
        "x\n",
        "# esta linea imprime el tensor"
      ]
    },
    {
      "cell_type": "code",
      "execution_count": 22,
      "metadata": {
        "colab": {
          "base_uri": "https://localhost:8080/"
        },
        "id": "EvfO0w4dD6Nt",
        "outputId": "8280ffcf-1244-4c35-ab44-329bac4aef23"
      },
      "outputs": [
        {
          "data": {
            "text/plain": [
              "0"
            ]
          },
          "execution_count": 22,
          "metadata": {},
          "output_type": "execute_result"
        }
      ],
      "source": [
        "# imprimimos el numero de dimensiones del tensor\n",
        "x.ndim"
      ]
    },
    {
      "cell_type": "markdown",
      "metadata": {
        "id": "qM4RL-CSD9YA"
      },
      "source": [
        "Vectors (1D tensors)"
      ]
    },
    {
      "cell_type": "code",
      "execution_count": 23,
      "metadata": {
        "id": "gtiOmOKWD6fb"
      },
      "outputs": [],
      "source": [
        "# creamos un vector\n",
        "x = np.array([12, 3, 6, 14])"
      ]
    },
    {
      "cell_type": "code",
      "execution_count": 24,
      "metadata": {
        "colab": {
          "base_uri": "https://localhost:8080/"
        },
        "id": "B3YoLoC7ECsH",
        "outputId": "e924c57d-8647-4a57-80a9-a30ac3536d6a"
      },
      "outputs": [
        {
          "data": {
            "text/plain": [
              "array([12,  3,  6, 14])"
            ]
          },
          "execution_count": 24,
          "metadata": {},
          "output_type": "execute_result"
        }
      ],
      "source": [
        "# imprimimos el vector\n",
        "x"
      ]
    },
    {
      "cell_type": "code",
      "execution_count": 25,
      "metadata": {
        "colab": {
          "base_uri": "https://localhost:8080/"
        },
        "id": "q5rBLjZuEDAG",
        "outputId": "85e0ce36-d24a-4891-a5fc-f4395fa72af4"
      },
      "outputs": [
        {
          "data": {
            "text/plain": [
              "1"
            ]
          },
          "execution_count": 25,
          "metadata": {},
          "output_type": "execute_result"
        }
      ],
      "source": [
        "# imprimimos el numero  de dimensiones del vector\n",
        "\n",
        "x.ndim\n",
        "# 5-dimensional vector.  A 5D vector has only one axis and has five dimensions along its axis,"
      ]
    },
    {
      "cell_type": "markdown",
      "metadata": {
        "id": "gnDFWmdsEabc"
      },
      "source": [
        "Matrices (2D tensors)"
      ]
    },
    {
      "cell_type": "code",
      "execution_count": 26,
      "metadata": {
        "id": "hb4BzlDoEEfX"
      },
      "outputs": [],
      "source": [
        "#   esta linea   \n",
        "\n",
        "x = np.array([[5, 78, 2, 34, 0],\n",
        "[6, 79, 3, 35, 1],\n",
        "[7, 80, 4, 36, 2]])"
      ]
    },
    {
      "cell_type": "code",
      "execution_count": 27,
      "metadata": {},
      "outputs": [
        {
          "data": {
            "text/plain": [
              "(3, 5)"
            ]
          },
          "execution_count": 27,
          "metadata": {},
          "output_type": "execute_result"
        }
      ],
      "source": [
        "# imprimimos el shape del tensor\n",
        "x.shape"
      ]
    },
    {
      "cell_type": "code",
      "execution_count": 28,
      "metadata": {
        "colab": {
          "base_uri": "https://localhost:8080/"
        },
        "id": "eM6QTL8dEeuI",
        "outputId": "eecdfc84-4d62-4c5d-e0c5-fd38ab927b81"
      },
      "outputs": [
        {
          "data": {
            "text/plain": [
              "2"
            ]
          },
          "execution_count": 28,
          "metadata": {},
          "output_type": "execute_result"
        }
      ],
      "source": [
        "x.ndim"
      ]
    },
    {
      "cell_type": "code",
      "execution_count": 29,
      "metadata": {
        "id": "FUnYxntLEfzz"
      },
      "outputs": [],
      "source": [
        "x = np.array([[[5, 78, 2, 34, 0],\n",
        "[6, 79, 3, 35, 1],\n",
        "[7, 80, 4, 36, 2]],\n",
        "[[5, 78, 2, 34, 0],\n",
        "[6, 79, 3, 35, 1],\n",
        "[7, 80, 4, 36, 2]],\n",
        "[[5, 78, 2, 34, 0],\n",
        "[6, 79, 3, 35, 1],\n",
        "[7, 80, 4, 36, 2]]])"
      ]
    },
    {
      "cell_type": "code",
      "execution_count": 30,
      "metadata": {},
      "outputs": [
        {
          "data": {
            "text/plain": [
              "(3, 3, 5)"
            ]
          },
          "execution_count": 30,
          "metadata": {},
          "output_type": "execute_result"
        }
      ],
      "source": [
        "# imprimimos el shape del tensor\n",
        "x.shape"
      ]
    },
    {
      "cell_type": "code",
      "execution_count": 31,
      "metadata": {
        "colab": {
          "base_uri": "https://localhost:8080/"
        },
        "id": "SJOhWtxmEpHA",
        "outputId": "72ea545b-08ca-4675-d1c9-6a8319a317bf"
      },
      "outputs": [
        {
          "data": {
            "text/plain": [
              "3"
            ]
          },
          "execution_count": 31,
          "metadata": {},
          "output_type": "execute_result"
        }
      ],
      "source": [
        "# imprimo el numero de dimensiones del tensor\n",
        "x.ndim"
      ]
    },
    {
      "cell_type": "code",
      "execution_count": 32,
      "metadata": {
        "colab": {
          "base_uri": "https://localhost:8080/"
        },
        "id": "A3_BlsdsEqyA",
        "outputId": "144809f8-3556-4e5c-9392-8025a2d4425b"
      },
      "outputs": [],
      "source": [
        "# Importamos la libreria keras\n",
        "from keras.datasets import mnist\n",
        "\n",
        "# cargamos el dataset mnist este dataset contiene imagenes de digitos escritos a mano\n",
        "# el dataset contiene 60,000 imagenes de entrenamiento y 10,000 imagenes de test\n",
        "# cada imagen tiene un tamaño de 28x28 pixeles\n",
        "# cada imagen tiene un solo canal de color\n",
        "# cada imagen es un tensor de rango 3\n",
        "\n",
        "(train_images, train_labels), (test_images, test_labels) = mnist.load_data()"
      ]
    },
    {
      "cell_type": "code",
      "execution_count": 33,
      "metadata": {
        "colab": {
          "base_uri": "https://localhost:8080/"
        },
        "id": "y4ZC4h_5Fb1o",
        "outputId": "beeb499f-299a-4f97-a396-215a87026483"
      },
      "outputs": [
        {
          "name": "stdout",
          "output_type": "stream",
          "text": [
            "3\n"
          ]
        }
      ],
      "source": [
        "print(train_images.ndim)"
      ]
    },
    {
      "cell_type": "code",
      "execution_count": 34,
      "metadata": {
        "colab": {
          "base_uri": "https://localhost:8080/"
        },
        "id": "Rm5XteXuFfk-",
        "outputId": "e1361e79-9493-4e2a-c7fe-38ca0d5355a8"
      },
      "outputs": [
        {
          "data": {
            "text/plain": [
              "(60000, 28, 28)"
            ]
          },
          "execution_count": 34,
          "metadata": {},
          "output_type": "execute_result"
        }
      ],
      "source": [
        "train_images.shape"
      ]
    },
    {
      "cell_type": "code",
      "execution_count": 35,
      "metadata": {
        "colab": {
          "base_uri": "https://localhost:8080/",
          "height": 430
        },
        "id": "hZ__B1R1Ff5e",
        "outputId": "0c507991-21bf-4228-f240-2493a16a21e8"
      },
      "outputs": [
        {
          "data": {
            "image/png": "[encoded data removed]",
            "text/plain": [
              "<Figure size 640x480 with 1 Axes>"
            ]
          },
          "metadata": {},
          "output_type": "display_data"
        }
      ],
      "source": [
        "digit = train_images[4]\n",
        "\n",
        "import matplotlib.pyplot as plt\n",
        "\n",
        "plt.imshow(digit, cmap=plt.cm.binary)\n",
        "plt.show()"
      ]
    },
    {
      "cell_type": "code",
      "execution_count": 36,
      "metadata": {
        "colab": {
          "base_uri": "https://localhost:8080/"
        },
        "id": "dGwCw34DFkum",
        "outputId": "fd0dd8f5-8fcf-430a-b6e5-7bd6882761f5"
      },
      "outputs": [
        {
          "name": "stdout",
          "output_type": "stream",
          "text": [
            "(90, 28, 28)\n"
          ]
        }
      ],
      "source": [
        "# seleccionamos un slice de la imagen\n",
        "\n",
        "my_slice = train_images[10:100]\n",
        "print(my_slice.shape)"
      ]
    },
    {
      "cell_type": "code",
      "execution_count": 37,
      "metadata": {
        "colab": {
          "base_uri": "https://localhost:8080/"
        },
        "id": "436tFpVAFvfJ",
        "outputId": "538d69e4-45a5-4a5e-cd66-50fb4c68d0bc"
      },
      "outputs": [
        {
          "data": {
            "text/plain": [
              "(90, 28, 28)"
            ]
          },
          "execution_count": 37,
          "metadata": {},
          "output_type": "execute_result"
        }
      ],
      "source": [
        "#  seleccionamos un slice de la imagen\n",
        "\n",
        "my_slice = train_images[10:100, :, :] # Igual al anterior\n",
        "my_slice.shape\n"
      ]
    },
    {
      "cell_type": "code",
      "execution_count": 38,
      "metadata": {
        "colab": {
          "base_uri": "https://localhost:8080/"
        },
        "id": "YqssL5tGF3mi",
        "outputId": "3321e22e-e52f-45d4-d4b4-df1d59bbd97a"
      },
      "outputs": [
        {
          "data": {
            "text/plain": [
              "(90, 28, 28)"
            ]
          },
          "execution_count": 38,
          "metadata": {},
          "output_type": "execute_result"
        }
      ],
      "source": [
        "my_slice = train_images[10:100, 0:28, 0:28] # Igual al anterior\n",
        "my_slice.shape"
      ]
    },
    {
      "cell_type": "code",
      "execution_count": 39,
      "metadata": {},
      "outputs": [
        {
          "data": {
            "text/plain": [
              "3"
            ]
          },
          "execution_count": 39,
          "metadata": {},
          "output_type": "execute_result"
        }
      ],
      "source": [
        "# vemos las dimensiones de los tensores\n",
        "my_slice.ndim"
      ]
    },
    {
      "cell_type": "markdown",
      "metadata": {
        "id": "bgVSTZrRGE4L"
      },
      "source": [
        "14 × 14 pixels in the bottom-right corner of all images, you\n",
        "do this:"
      ]
    },
    {
      "cell_type": "code",
      "execution_count": 40,
      "metadata": {
        "colab": {
          "base_uri": "https://localhost:8080/",
          "height": 430
        },
        "id": "AXVjBLX2F6kf",
        "outputId": "e544409e-ef7d-4477-c94f-d736f2b88fae"
      },
      "outputs": [
        {
          "data": {
            "image/png": "[encoded data removed]",
            "text/plain": [
              "<Figure size 640x480 with 1 Axes>"
            ]
          },
          "metadata": {},
          "output_type": "display_data"
        }
      ],
      "source": [
        "my_slice = train_images[4, 14:, 14:]\n",
        "\n",
        "digit = my_slice\n",
        "\n",
        "import matplotlib.pyplot as plt\n",
        "\n",
        "plt.imshow(digit, cmap=plt.cm.binary)\n",
        "plt.show()"
      ]
    },
    {
      "cell_type": "markdown",
      "metadata": {
        "id": "89hJaWTTGPEU"
      },
      "source": [
        "Indica una posición relativa al final del eje actual. Para recortar las imágenes en parches de 14 × 14 píxeles centrados en el medio, haga lo siguiente"
      ]
    },
    {
      "cell_type": "code",
      "execution_count": 41,
      "metadata": {
        "id": "RlVGZWtXGHIL"
      },
      "outputs": [],
      "source": [
        "my_slice = train_images[:, 7:-7, 7:-7]"
      ]
    },
    {
      "cell_type": "code",
      "execution_count": 42,
      "metadata": {
        "id": "IZ5-wUbtGQDa"
      },
      "outputs": [],
      "source": [
        "batch = train_images[:128] # Batch 1"
      ]
    },
    {
      "cell_type": "code",
      "execution_count": 44,
      "metadata": {
        "id": "OByqymiJGZag"
      },
      "outputs": [],
      "source": [
        "# seleccionamos un batch de imagenes de 128 imagenes\n",
        "\n",
        "batch = train_images[128:256] # Batch 2 batchN = train_images[128 * n:128 * (n + 1)] (axis 0) is called the batch axis or batch dimension."
      ]
    },
    {
      "cell_type": "code",
      "execution_count": 45,
      "metadata": {
        "id": "C-XvEqXGLGY9"
      },
      "outputs": [],
      "source": [
        "# esta funcion es una funcion de activacion\n",
        "# esta funcion toma un tensor y lo transforma en otro tensor\n",
        "# la funcion relu es max(x, 0)\n",
        "\n",
        "\n",
        "def naive_relu(x):\n",
        "  assert len(x.shape) == 2\n",
        "  x = x.copy()\n",
        "  for i in range(x.shape[0]):\n",
        "    for j in range(x.shape[1]):\n",
        "      x[i, j] = max(x[i, j], 0)\n",
        "      return x"
      ]
    },
    {
      "cell_type": "code",
      "execution_count": 46,
      "metadata": {
        "id": "CEGxKKroLGc7"
      },
      "outputs": [],
      "source": [
        "def naive_add(x, y):\n",
        "  assert len(x.shape) == 2\n",
        "  assert x.shape == y.shape\n",
        "  x = x.copy()\n",
        "  for i in range(x.shape[0]):\n",
        "    for j in range(x.shape[1]):\n",
        "      x[i, j] += y[i, j]\n",
        "      return x"
      ]
    },
    {
      "cell_type": "code",
      "execution_count": 48,
      "metadata": {
        "colab": {
          "base_uri": "https://localhost:8080/"
        },
        "id": "L0rj_QmfLGhK",
        "outputId": "943a9f19-f9d7-4c6d-968e-2e56f13f45ad"
      },
      "outputs": [
        {
          "name": "stdout",
          "output_type": "stream",
          "text": [
            "z original: [14  6 12 28]\n",
            "z con relu: \n"
          ]
        }
      ],
      "source": [
        "\n",
        "\n",
        "import numpy as np\n",
        "\n",
        "x = np.array([12, 3, 6, 14])\n",
        "y = np.array([2, 3, 6, 14])\n",
        "\n",
        "\n",
        "z = x + y\n",
        "\n",
        "print(\"z original:\", z)\n",
        "# esta funcion np.maximum(x, 0.) compara cada elemento de x con 0 y devuelve el mayor de los dos\n",
        "# esta funcion es una funcion de activacion\n",
        "# esta funcion toma un tensor y lo transforma en otro tensor\n",
        "# la funcion relu es max(x, 0)\n",
        "\n",
        "z = np.maximum(z, 0.)\n",
        "print(\"z con relu: \",)"
      ]
    },
    {
      "cell_type": "markdown",
      "metadata": {
        "id": "k0_TcaETM8Gt"
      },
      "source": [
        "Broadcast"
      ]
    },
    {
      "cell_type": "code",
      "execution_count": 25,
      "metadata": {
        "colab": {
          "base_uri": "https://localhost:8080/"
        },
        "id": "G5x4BlOzLew6",
        "outputId": "339f90b7-60ed-4185-e464-19619411987c"
      },
      "outputs": [
        {
          "data": {
            "text/plain": [
              "array([[[[0.75552863, 0.90867052, 0.74717721, ..., 0.66016738,\n",
              "          0.56788009, 0.98621079],\n",
              "         [0.92038699, 0.30813736, 0.76522549, ..., 0.81998059,\n",
              "          0.55391621, 0.93091073],\n",
              "         [0.45795962, 0.75651653, 0.808668  , ..., 0.05575452,\n",
              "          0.78798218, 0.81434989],\n",
              "         ...,\n",
              "         [0.95684354, 0.97314027, 0.67813533, ..., 0.24867166,\n",
              "          0.92238629, 0.96312038],\n",
              "         [0.46265428, 0.58008003, 0.91251585, ..., 0.90125486,\n",
              "          0.77729746, 0.5228687 ],\n",
              "         [0.86199632, 0.97854125, 0.75730621, ..., 0.82593291,\n",
              "          0.44107884, 0.57551178]],\n",
              "\n",
              "        [[0.39848036, 0.8148099 , 0.91911883, ..., 0.88901601,\n",
              "          0.09911397, 0.90551961],\n",
              "         [0.92038699, 0.30813736, 0.75802385, ..., 0.23507668,\n",
              "          0.2620825 , 0.86226893],\n",
              "         [0.45795962, 0.92899459, 0.61285043, ..., 0.10010155,\n",
              "          0.99361688, 0.81434989],\n",
              "         ...,\n",
              "         [0.94655767, 0.97314027, 0.11309384, ..., 0.20782177,\n",
              "          0.92238629, 0.56162918],\n",
              "         [0.46265428, 0.80401301, 0.91251585, ..., 0.90125486,\n",
              "          0.77729746, 0.5228687 ],\n",
              "         [0.86199632, 0.97854125, 0.75730621, ..., 0.07769868,\n",
              "          0.13639659, 0.15991387]],\n",
              "\n",
              "        [[0.75736662, 0.96915169, 0.74717721, ..., 0.68322643,\n",
              "          0.88936615, 0.90551961],\n",
              "         [0.92038699, 0.52960556, 0.75802385, ..., 0.95566874,\n",
              "          0.87292901, 0.86226893],\n",
              "         [0.45795962, 0.75651653, 0.37299972, ..., 0.88603197,\n",
              "          0.62260009, 0.88386559],\n",
              "         ...,\n",
              "         [0.88919096, 0.97314027, 0.8079812 , ..., 0.75365751,\n",
              "          0.92238629, 0.21427011],\n",
              "         [0.9695541 , 0.55905534, 0.91251585, ..., 0.90125486,\n",
              "          0.77729746, 0.67723291],\n",
              "         [0.86199632, 0.97854125, 0.75730621, ..., 0.98591731,\n",
              "          0.68295288, 0.1289558 ]]],\n",
              "\n",
              "\n",
              "       [[[0.53721893, 0.8148099 , 0.74717721, ..., 0.66632154,\n",
              "          0.09911397, 0.90551961],\n",
              "         [0.92038699, 0.41493688, 0.75802385, ..., 0.27727733,\n",
              "          0.81815913, 0.86226893],\n",
              "         [0.79351996, 0.75651653, 0.70490723, ..., 0.33451652,\n",
              "          0.62260009, 0.90568754],\n",
              "         ...,\n",
              "         [0.7374518 , 0.97314027, 0.42587521, ..., 0.04919399,\n",
              "          0.92238629, 0.7037059 ],\n",
              "         [0.69529771, 0.57706597, 0.91251585, ..., 0.90125486,\n",
              "          0.98688131, 0.5228687 ],\n",
              "         [0.86199632, 0.97854125, 0.75730621, ..., 0.46342893,\n",
              "          0.44373385, 0.63220207]],\n",
              "\n",
              "        [[0.48590842, 0.8148099 , 0.74717721, ..., 0.66016738,\n",
              "          0.19792756, 0.90551961],\n",
              "         [0.92038699, 0.78770251, 0.87758653, ..., 0.28267411,\n",
              "          0.64808153, 0.86226893],\n",
              "         [0.45795962, 0.75651653, 0.40948885, ..., 0.99872015,\n",
              "          0.62260009, 0.81434989],\n",
              "         ...,\n",
              "         [0.67773558, 0.97314027, 0.17469877, ..., 0.95431144,\n",
              "          0.92238629, 0.30328306],\n",
              "         [0.46265428, 0.77177304, 0.91251585, ..., 0.90125486,\n",
              "          0.77729746, 0.5228687 ],\n",
              "         [0.86199632, 0.97854125, 0.75730621, ..., 0.07769868,\n",
              "          0.34036998, 0.12668997]],\n",
              "\n",
              "        [[0.13307366, 0.8148099 , 0.74717721, ..., 0.66016738,\n",
              "          0.73202354, 0.90551961],\n",
              "         [0.92038699, 0.32447096, 0.92895842, ..., 0.84768954,\n",
              "          0.83368168, 0.86226893],\n",
              "         [0.45795962, 0.75651653, 0.37299972, ..., 0.61290526,\n",
              "          0.62260009, 0.81434989],\n",
              "         ...,\n",
              "         [0.92666885, 0.97314027, 0.68047902, ..., 0.16048517,\n",
              "          0.92238629, 0.36277854],\n",
              "         [0.46265428, 0.91104856, 0.91251585, ..., 0.90125486,\n",
              "          0.77729746, 0.5228687 ],\n",
              "         [0.86199632, 0.97854125, 0.75730621, ..., 0.14546082,\n",
              "          0.45706955, 0.93585847]]],\n",
              "\n",
              "\n",
              "       [[[0.98164234, 0.8148099 , 0.74717721, ..., 0.66016738,\n",
              "          0.65730471, 0.97315965],\n",
              "         [0.92038699, 0.84771708, 0.75802385, ..., 0.47644514,\n",
              "          0.2434303 , 0.86226893],\n",
              "         [0.45795962, 0.98863206, 0.37299972, ..., 0.17157144,\n",
              "          0.66534463, 0.81434989],\n",
              "         ...,\n",
              "         [0.52813877, 0.97314027, 0.36597684, ..., 0.97751061,\n",
              "          0.92238629, 0.24038853],\n",
              "         [0.46265428, 0.74536486, 0.94790048, ..., 0.90125486,\n",
              "          0.77729746, 0.71639471],\n",
              "         [0.86199632, 0.97854125, 0.75730621, ..., 0.8221914 ,\n",
              "          0.83529255, 0.59066987]],\n",
              "\n",
              "        [[0.84134399, 0.8148099 , 0.74717721, ..., 0.66016738,\n",
              "          0.68017475, 0.90551961],\n",
              "         [0.92038699, 0.906486  , 0.75802385, ..., 0.23507668,\n",
              "          0.42729058, 0.86226893],\n",
              "         [0.99195509, 0.75651653, 0.37299972, ..., 0.84434931,\n",
              "          0.71471042, 0.99648203],\n",
              "         ...,\n",
              "         [0.8717823 , 0.97314027, 0.35763474, ..., 0.95002828,\n",
              "          0.92238629, 0.21427011],\n",
              "         [0.88255542, 0.74692282, 0.91251585, ..., 0.90125486,\n",
              "          0.86244551, 0.60272501],\n",
              "         [0.86199632, 0.97854125, 0.94742412, ..., 0.79198463,\n",
              "          0.41491994, 0.40916418]],\n",
              "\n",
              "        [[0.98425979, 0.8148099 , 0.74717721, ..., 0.92672091,\n",
              "          0.11831918, 0.90551961],\n",
              "         [0.92038699, 0.62830653, 0.75802385, ..., 0.59399101,\n",
              "          0.93670559, 0.86226893],\n",
              "         [0.65064781, 0.75651653, 0.55723047, ..., 0.36711924,\n",
              "          0.88899204, 0.81434989],\n",
              "         ...,\n",
              "         [0.71815687, 0.97314027, 0.67915499, ..., 0.93863242,\n",
              "          0.92238629, 0.92121576],\n",
              "         [0.80488988, 0.49801309, 0.91251585, ..., 0.90125486,\n",
              "          0.77729746, 0.5228687 ],\n",
              "         [0.86199632, 0.97854125, 0.91627522, ..., 0.96760831,\n",
              "          0.94917747, 0.78847008]]],\n",
              "\n",
              "\n",
              "       ...,\n",
              "\n",
              "\n",
              "       [[[0.60234284, 0.8148099 , 0.74717721, ..., 0.8722224 ,\n",
              "          0.09911397, 0.90551961],\n",
              "         [0.92038699, 0.76922234, 0.75802385, ..., 0.79252232,\n",
              "          0.62159824, 0.86226893],\n",
              "         [0.77250003, 0.79434097, 0.37299972, ..., 0.29067209,\n",
              "          0.62260009, 0.81434989],\n",
              "         ...,\n",
              "         [0.61637394, 0.97314027, 0.65228808, ..., 0.65468431,\n",
              "          0.92238629, 0.5933808 ],\n",
              "         [0.46265428, 0.13571477, 0.91251585, ..., 0.90125486,\n",
              "          0.91294301, 0.5228687 ],\n",
              "         [0.86199632, 0.97854125, 0.77141885, ..., 0.36960232,\n",
              "          0.28192015, 0.12668997]],\n",
              "\n",
              "        [[0.13307366, 0.8148099 , 0.88659889, ..., 0.78800778,\n",
              "          0.11629701, 0.90551961],\n",
              "         [0.98278359, 0.30813736, 0.75802385, ..., 0.92142817,\n",
              "          0.46214861, 0.86226893],\n",
              "         [0.45795962, 0.75651653, 0.95740378, ..., 0.85857456,\n",
              "          0.62260009, 0.81434989],\n",
              "         ...,\n",
              "         [0.32381387, 0.97314027, 0.1676019 , ..., 0.76949793,\n",
              "          0.92238629, 0.75548181],\n",
              "         [0.85590902, 0.36015382, 0.91251585, ..., 0.90125486,\n",
              "          0.77729746, 0.5228687 ],\n",
              "         [0.86199632, 0.97854125, 0.76156483, ..., 0.23454764,\n",
              "          0.12390409, 0.95462168]],\n",
              "\n",
              "        [[0.58000929, 0.8148099 , 0.74717721, ..., 0.66016738,\n",
              "          0.65546615, 0.90551961],\n",
              "         [0.92038699, 0.63167707, 0.75802385, ..., 0.23507668,\n",
              "          0.6053478 , 0.89393276],\n",
              "         [0.56245061, 0.75651653, 0.37299972, ..., 0.30819979,\n",
              "          0.62260009, 0.81434989],\n",
              "         ...,\n",
              "         [0.38611873, 0.97314027, 0.51219685, ..., 0.188027  ,\n",
              "          0.92238629, 0.46387501],\n",
              "         [0.46265428, 0.25724434, 0.91251585, ..., 0.90125486,\n",
              "          0.77729746, 0.5228687 ],\n",
              "         [0.86199632, 0.97854125, 0.75730621, ..., 0.18336313,\n",
              "          0.12390409, 0.83803428]]],\n",
              "\n",
              "\n",
              "       [[[0.96500625, 0.8148099 , 0.74717721, ..., 0.66016738,\n",
              "          0.18739391, 0.90551961],\n",
              "         [0.92038699, 0.80184699, 0.75802385, ..., 0.43782724,\n",
              "          0.50042886, 0.86226893],\n",
              "         [0.83684689, 0.75651653, 0.72911817, ..., 0.66451276,\n",
              "          0.70437823, 0.81434989],\n",
              "         ...,\n",
              "         [0.93653769, 0.99183448, 0.93320501, ..., 0.86026544,\n",
              "          0.92238629, 0.93123072],\n",
              "         [0.46265428, 0.48559093, 0.91251585, ..., 0.90125486,\n",
              "          0.77729746, 0.61794056],\n",
              "         [0.86199632, 0.97854125, 0.93263652, ..., 0.55567763,\n",
              "          0.78103696, 0.22864251]],\n",
              "\n",
              "        [[0.29514898, 0.91351025, 0.74717721, ..., 0.66016738,\n",
              "          0.84234607, 0.90551961],\n",
              "         [0.92038699, 0.30813736, 0.75802385, ..., 0.79694433,\n",
              "          0.22093753, 0.86226893],\n",
              "         [0.45795962, 0.75651653, 0.53750442, ..., 0.29762673,\n",
              "          0.62260009, 0.9081156 ],\n",
              "         ...,\n",
              "         [0.80141545, 0.97314027, 0.92780691, ..., 0.29233231,\n",
              "          0.92238629, 0.76852276],\n",
              "         [0.46265428, 0.07510115, 0.91251585, ..., 0.90125486,\n",
              "          0.77729746, 0.5228687 ],\n",
              "         [0.86199632, 0.97854125, 0.90698918, ..., 0.07769868,\n",
              "          0.67589434, 0.49589666]],\n",
              "\n",
              "        [[0.7589575 , 0.8148099 , 0.74717721, ..., 0.66016738,\n",
              "          0.37637681, 0.94247373],\n",
              "         [0.92038699, 0.85562127, 0.75802385, ..., 0.45949844,\n",
              "          0.22093753, 0.86226893],\n",
              "         [0.78525683, 0.75651653, 0.57964673, ..., 0.95531852,\n",
              "          0.62260009, 0.81434989],\n",
              "         ...,\n",
              "         [0.36638825, 0.97314027, 0.37186011, ..., 0.26952465,\n",
              "          0.92238629, 0.75100126],\n",
              "         [0.46265428, 0.92773335, 0.91251585, ..., 0.90125486,\n",
              "          0.77729746, 0.67991727],\n",
              "         [0.86199632, 0.97854125, 0.75730621, ..., 0.45549385,\n",
              "          0.12390409, 0.56271604]]],\n",
              "\n",
              "\n",
              "       [[[0.75086867, 0.8148099 , 0.74717721, ..., 0.66016738,\n",
              "          0.87175265, 0.99421075],\n",
              "         [0.92038699, 0.48719551, 0.75802385, ..., 0.23507668,\n",
              "          0.22093753, 0.86226893],\n",
              "         [0.59847721, 0.75765735, 0.37299972, ..., 0.61552916,\n",
              "          0.81129007, 0.81434989],\n",
              "         ...,\n",
              "         [0.72263604, 0.97314027, 0.47249737, ..., 0.05086438,\n",
              "          0.92238629, 0.54654227],\n",
              "         [0.79761514, 0.20049617, 0.91251585, ..., 0.90125486,\n",
              "          0.77729746, 0.83296107],\n",
              "         [0.86199632, 0.97854125, 0.75730621, ..., 0.48725017,\n",
              "          0.6401046 , 0.76229559]],\n",
              "\n",
              "        [[0.82899628, 0.8148099 , 0.74717721, ..., 0.66016738,\n",
              "          0.19514903, 0.99369518],\n",
              "         [0.92038699, 0.92486572, 0.75802385, ..., 0.66084697,\n",
              "          0.22093753, 0.86226893],\n",
              "         [0.5354051 , 0.75651653, 0.48447941, ..., 0.639873  ,\n",
              "          0.62260009, 0.81434989],\n",
              "         ...,\n",
              "         [0.88745332, 0.97314027, 0.07503376, ..., 0.46837779,\n",
              "          0.92238629, 0.21427011],\n",
              "         [0.63538302, 0.22555673, 0.91251585, ..., 0.93889874,\n",
              "          0.77729746, 0.80590937],\n",
              "         [0.86199632, 0.97854125, 0.88984504, ..., 0.65003612,\n",
              "          0.96685177, 0.2155884 ]],\n",
              "\n",
              "        [[0.87445938, 0.8148099 , 0.74717721, ..., 0.66016738,\n",
              "          0.38565537, 0.90551961],\n",
              "         [0.92038699, 0.5384902 , 0.75802385, ..., 0.23507668,\n",
              "          0.78127608, 0.86226893],\n",
              "         [0.45795962, 0.75651653, 0.52483413, ..., 0.20190103,\n",
              "          0.8402604 , 0.91311898],\n",
              "         ...,\n",
              "         [0.33504912, 0.97314027, 0.33763462, ..., 0.38655072,\n",
              "          0.92238629, 0.42379752],\n",
              "         [0.46265428, 0.10712126, 0.91251585, ..., 0.90125486,\n",
              "          0.77729746, 0.5228687 ],\n",
              "         [0.86199632, 0.97854125, 0.75730621, ..., 0.69423372,\n",
              "          0.41356326, 0.53059612]]]])"
            ]
          },
          "execution_count": 25,
          "metadata": {},
          "output_type": "execute_result"
        }
      ],
      "source": [
        "import numpy as np\n",
        "x = np.random.random((64, 3, 32, 10))\n",
        "y = np.random.random((32, 10))\n",
        "z = np.maximum(x, y)\n",
        "z"
      ]
    },
    {
      "cell_type": "markdown",
      "metadata": {
        "id": "CHpRahNYOzwI"
      },
      "source": [
        "Reshape"
      ]
    },
    {
      "cell_type": "code",
      "execution_count": 26,
      "metadata": {
        "colab": {
          "base_uri": "https://localhost:8080/"
        },
        "id": "UmRn8vYUM9rZ",
        "outputId": "0be86167-5d54-44b9-ed4c-bad76dfd84df"
      },
      "outputs": [
        {
          "name": "stdout",
          "output_type": "stream",
          "text": [
            "(3, 2)\n"
          ]
        }
      ],
      "source": [
        "x= np.array([[0., 1.],\n",
        "[2., 3.],\n",
        "[4., 5.]])\n",
        "print(x.shape)"
      ]
    },
    {
      "cell_type": "code",
      "execution_count": 27,
      "metadata": {
        "colab": {
          "base_uri": "https://localhost:8080/"
        },
        "id": "n5uEiPxiO7v9",
        "outputId": "3dca35cf-ff9b-43b2-ef45-c3fce01ab621"
      },
      "outputs": [
        {
          "data": {
            "text/plain": [
              "array([[0.],\n",
              "       [1.],\n",
              "       [2.],\n",
              "       [3.],\n",
              "       [4.],\n",
              "       [5.]])"
            ]
          },
          "execution_count": 27,
          "metadata": {},
          "output_type": "execute_result"
        }
      ],
      "source": [
        "x = x.reshape((6, 1))\n",
        "x"
      ]
    },
    {
      "cell_type": "code",
      "execution_count": 28,
      "metadata": {
        "colab": {
          "base_uri": "https://localhost:8080/"
        },
        "id": "qrwvFynGPGg8",
        "outputId": "5b2270e5-b636-4972-9d6c-f5732857e8bd"
      },
      "outputs": [
        {
          "data": {
            "text/plain": [
              "array([[0., 1., 2.],\n",
              "       [3., 4., 5.]])"
            ]
          },
          "execution_count": 28,
          "metadata": {},
          "output_type": "execute_result"
        }
      ],
      "source": [
        "x = x.reshape((2, 3))\n",
        "x\n"
      ]
    },
    {
      "cell_type": "code",
      "execution_count": 29,
      "metadata": {
        "colab": {
          "base_uri": "https://localhost:8080/"
        },
        "id": "c02yM2JWPKP6",
        "outputId": "9ee9223d-43ab-4652-8a30-a83a0be9c5b2"
      },
      "outputs": [
        {
          "name": "stdout",
          "output_type": "stream",
          "text": [
            "(20, 300)\n"
          ]
        }
      ],
      "source": [
        "#Transpose\n",
        "\n",
        "x = np.zeros((300, 20))\n",
        "x = np.transpose(x)\n",
        "print(x.shape)"
      ]
    }
  ],
  "metadata": {
    "colab": {
      "authorship_tag": "ABX9TyOPAg2LrEAVWuuPbg9r/pDO",
      "include_colab_link": true,
      "provenance": []
    },
    "kernelspec": {
      "display_name": ".venv",
      "language": "python",
      "name": "python3"
    },
    "language_info": {
      "codemirror_mode": {
        "name": "ipython",
        "version": 3
      },
      "file_extension": ".py",
      "mimetype": "text/x-python",
      "name": "python",
      "nbconvert_exporter": "python",
      "pygments_lexer": "ipython3",
      "version": "3.11.0"
    }
  },
  "nbformat": 4,
  "nbformat_minor": 0
}
