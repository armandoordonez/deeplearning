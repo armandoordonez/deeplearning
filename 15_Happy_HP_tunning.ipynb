{
  "cells": [
    {
      "cell_type": "markdown",
      "metadata": {
        "id": "view-in-github",
        "colab_type": "text"
      },
      "source": [
        "<a href=\"https://colab.research.google.com/github/armandoordonez/deeplearning/blob/main/Happy_HP_tunning.ipynb\" target=\"_parent\"><img src=\"https://colab.research.google.com/assets/colab-badge.svg\" alt=\"Open In Colab\"/></a>"
      ]
    },
    {
      "cell_type": "markdown",
      "source": [
        "# Facial Expressions Analysis With Logistic Regression and Neural Network"
      ],
      "metadata": {
        "id": "137fQxwz2_Iq"
      }
    },
    {
      "cell_type": "markdown",
      "source": [
        "---\n",
        "\n",
        "\n",
        "Duvan Ricardo Cuero Colorado\n",
        "\n",
        "Alejandra Diaz Parra\n",
        "\n",
        "\n",
        "---\n",
        "\n"
      ],
      "metadata": {
        "id": "6dlEE5PdpDKt"
      }
    },
    {
      "cell_type": "markdown",
      "source": [
        "In this notebook it is shown how to use a single layer neural network logic with logistic regression to classify facial expressions as happy or not happy."
      ],
      "metadata": {
        "id": "Jh8YBPw03Bq5"
      }
    },
    {
      "cell_type": "markdown",
      "source": [
        "Importing necessary libraries:"
      ],
      "metadata": {
        "id": "GAtzfWGWcAHK"
      }
    },
    {
      "cell_type": "code",
      "source": [
        "import numpy as np\n",
        "import matplotlib.pyplot as plt\n",
        "import h5py\n",
        "import scipy\n",
        "from PIL import Image\n",
        "from scipy import ndimage\n",
        "#from lr_utils import load_dataset\n",
        "\n",
        "%matplotlib inline"
      ],
      "metadata": {
        "id": "QNM8A_P2WMd2"
      },
      "execution_count": null,
      "outputs": []
    },
    {
      "cell_type": "markdown",
      "source": [
        "The datasets will be loaded from a train and a test h5 files, as shown below."
      ],
      "metadata": {
        "id": "HUxhovtW3J-X"
      }
    },
    {
      "cell_type": "code",
      "execution_count": null,
      "metadata": {
        "id": "wtGGA2klWHzl"
      },
      "outputs": [],
      "source": [
        "\n",
        "def load_dataset():\n",
        "    train_dataset = h5py.File('train_happy.h5', \"r\")\n",
        "    train_set_x_orig = np.array(train_dataset[\"train_set_x\"][:]) # your train set features\n",
        "    train_set_y_orig = np.array(train_dataset[\"train_set_y\"][:]) # your train set labels\n",
        "\n",
        "    test_dataset = h5py.File('test_happy.h5', \"r\")\n",
        "    test_set_x_orig = np.array(test_dataset[\"test_set_x\"][:]) # your test set features\n",
        "    test_set_y_orig = np.array(test_dataset[\"test_set_y\"][:]) # your test set labels\n",
        "\n",
        "    classes = np.array(test_dataset[\"list_classes\"][:]) # the list of classes\n",
        "\n",
        "    train_set_y_orig = train_set_y_orig.reshape((1, train_set_y_orig.shape[0]))\n",
        "    test_set_y_orig = test_set_y_orig.reshape((1, test_set_y_orig.shape[0]))\n",
        "\n",
        "    return train_set_x_orig, train_set_y_orig, test_set_x_orig, test_set_y_orig, classes\n"
      ]
    },
    {
      "cell_type": "code",
      "execution_count": null,
      "metadata": {
        "id": "6e2f6wXsWHzr"
      },
      "outputs": [],
      "source": [
        "train_set_x_orig, train_set_y, test_set_x_orig, test_set_y, classes = load_dataset()"
      ]
    },
    {
      "cell_type": "markdown",
      "source": [
        "The x's datasets contain the pictures, where each pixel is represented by a vector of three numbers ranging from 0 to 255, corresponding to the red, green and blue channels (RGB)."
      ],
      "metadata": {
        "id": "UAk_vVJy393Z"
      }
    },
    {
      "cell_type": "code",
      "source": [
        "train_set_x_orig"
      ],
      "metadata": {
        "colab": {
          "base_uri": "https://localhost:8080/"
        },
        "id": "mXv_IdCA3YQQ",
        "outputId": "959b1c88-ee1a-47a4-e104-d49ddf461fe0"
      },
      "execution_count": null,
      "outputs": [
        {
          "output_type": "execute_result",
          "data": {
            "text/plain": [
              "array([[[[178, 190, 163],\n",
              "         [172, 181, 173],\n",
              "         [188, 196, 184],\n",
              "         ...,\n",
              "         [255, 255, 254],\n",
              "         [254, 255, 250],\n",
              "         [249, 253, 222]],\n",
              "\n",
              "        [[184, 201, 165],\n",
              "         [149, 154, 142],\n",
              "         [149, 158, 139],\n",
              "         ...,\n",
              "         [255, 255, 253],\n",
              "         [254, 255, 250],\n",
              "         [251, 255, 230]],\n",
              "\n",
              "        [[198, 207, 165],\n",
              "         [141, 147, 128],\n",
              "         [168, 184, 154],\n",
              "         ...,\n",
              "         [253, 255, 244],\n",
              "         [254, 255, 248],\n",
              "         [253, 255, 233]],\n",
              "\n",
              "        ...,\n",
              "\n",
              "        [[ 77,  82,  89],\n",
              "         [ 60,  64,  68],\n",
              "         [ 49,  53,  55],\n",
              "         ...,\n",
              "         [ 31,  32,  30],\n",
              "         [ 47,  48,  46],\n",
              "         [ 75,  75,  75]],\n",
              "\n",
              "        [[ 68,  71,  76],\n",
              "         [ 55,  58,  59],\n",
              "         [ 44,  47,  47],\n",
              "         ...,\n",
              "         [ 30,  31,  29],\n",
              "         [ 40,  41,  39],\n",
              "         [ 63,  64,  63]],\n",
              "\n",
              "        [[ 61,  64,  66],\n",
              "         [ 52,  54,  54],\n",
              "         [ 45,  47,  46],\n",
              "         ...,\n",
              "         [ 30,  31,  29],\n",
              "         [ 38,  38,  36],\n",
              "         [ 56,  56,  54]]],\n",
              "\n",
              "\n",
              "       [[[193, 204, 168],\n",
              "         [188, 203, 155],\n",
              "         [215, 227, 181],\n",
              "         ...,\n",
              "         [219, 215, 208],\n",
              "         [191, 185, 170],\n",
              "         [173, 165, 142]],\n",
              "\n",
              "        [[201, 213, 182],\n",
              "         [200, 214, 169],\n",
              "         [204, 215, 164],\n",
              "         ...,\n",
              "         [254, 254, 252],\n",
              "         [224, 231, 222],\n",
              "         [201, 212, 184]],\n",
              "\n",
              "        [[204, 213, 178],\n",
              "         [211, 220, 184],\n",
              "         [207, 215, 175],\n",
              "         ...,\n",
              "         [242, 248, 240],\n",
              "         [200, 219, 197],\n",
              "         [184, 204, 176]],\n",
              "\n",
              "        ...,\n",
              "\n",
              "        [[167, 185, 199],\n",
              "         [135, 149, 174],\n",
              "         [118, 127, 147],\n",
              "         ...,\n",
              "         [ 36,  31,  28],\n",
              "         [ 36,  31,  28],\n",
              "         [ 34,  31,  27]],\n",
              "\n",
              "        [[139, 154, 179],\n",
              "         [115, 126, 145],\n",
              "         [104, 111, 125],\n",
              "         ...,\n",
              "         [ 35,  30,  27],\n",
              "         [ 35,  30,  27],\n",
              "         [ 37,  33,  29]],\n",
              "\n",
              "        [[119, 130, 149],\n",
              "         [104, 110, 124],\n",
              "         [ 93,  98, 108],\n",
              "         ...,\n",
              "         [ 34,  29,  26],\n",
              "         [ 33,  29,  25],\n",
              "         [ 37,  33,  29]]],\n",
              "\n",
              "\n",
              "       [[[ 82,  97,  50],\n",
              "         [ 77,  92,  58],\n",
              "         [ 82,  93,  62],\n",
              "         ...,\n",
              "         [112, 128,  74],\n",
              "         [126, 144,  86],\n",
              "         [118, 134,  78]],\n",
              "\n",
              "        [[ 69,  79,  48],\n",
              "         [ 79,  89,  58],\n",
              "         [ 89,  98,  68],\n",
              "         ...,\n",
              "         [116, 134,  78],\n",
              "         [119, 136,  83],\n",
              "         [114, 129,  77]],\n",
              "\n",
              "        [[ 77,  83,  54],\n",
              "         [ 79,  84,  58],\n",
              "         [ 82,  88,  62],\n",
              "         ...,\n",
              "         [126, 142,  84],\n",
              "         [119, 132,  84],\n",
              "         [126, 139,  97]],\n",
              "\n",
              "        ...,\n",
              "\n",
              "        [[ 30,  34,  25],\n",
              "         [ 37,  40,  29],\n",
              "         [ 29,  35,  27],\n",
              "         ...,\n",
              "         [ 14,  14,  11],\n",
              "         [ 14,  14,  12],\n",
              "         [ 13,  14,  11]],\n",
              "\n",
              "        [[ 45,  47,  33],\n",
              "         [ 38,  42,  32],\n",
              "         [ 35,  41,  32],\n",
              "         ...,\n",
              "         [ 13,  13,  11],\n",
              "         [ 13,  13,  11],\n",
              "         [ 13,  13,  11]],\n",
              "\n",
              "        [[ 43,  46,  32],\n",
              "         [ 36,  41,  32],\n",
              "         [ 58,  60,  46],\n",
              "         ...,\n",
              "         [ 13,  13,  11],\n",
              "         [ 12,  13,  11],\n",
              "         [ 13,  13,  10]]],\n",
              "\n",
              "\n",
              "       ...,\n",
              "\n",
              "\n",
              "       [[[204, 195, 158],\n",
              "         [215, 205, 173],\n",
              "         [212, 206, 166],\n",
              "         ...,\n",
              "         [255, 255, 254],\n",
              "         [255, 255, 255],\n",
              "         [255, 255, 255]],\n",
              "\n",
              "        [[212, 200, 163],\n",
              "         [217, 207, 170],\n",
              "         [210, 203, 167],\n",
              "         ...,\n",
              "         [255, 255, 253],\n",
              "         [254, 254, 254],\n",
              "         [233, 240, 239]],\n",
              "\n",
              "        [[216, 208, 170],\n",
              "         [204, 195, 160],\n",
              "         [219, 215, 177],\n",
              "         ...,\n",
              "         [255, 255, 255],\n",
              "         [250, 250, 248],\n",
              "         [215, 221, 219]],\n",
              "\n",
              "        ...,\n",
              "\n",
              "        [[255, 255, 253],\n",
              "         [255, 255, 255],\n",
              "         [255, 255, 255],\n",
              "         ...,\n",
              "         [105,  71,  49],\n",
              "         [110,  76,  52],\n",
              "         [112,  77,  52]],\n",
              "\n",
              "        [[255, 255, 247],\n",
              "         [255, 255, 255],\n",
              "         [255, 255, 255],\n",
              "         ...,\n",
              "         [ 97,  67,  47],\n",
              "         [102,  70,  49],\n",
              "         [103,  71,  49]],\n",
              "\n",
              "        [[255, 255, 252],\n",
              "         [255, 255, 255],\n",
              "         [255, 255, 255],\n",
              "         ...,\n",
              "         [ 88,  61,  44],\n",
              "         [ 92,  64,  45],\n",
              "         [ 95,  66,  45]]],\n",
              "\n",
              "\n",
              "       [[[245, 249, 239],\n",
              "         [251, 253, 247],\n",
              "         [245, 249, 239],\n",
              "         ...,\n",
              "         [255, 255, 255],\n",
              "         [255, 255, 255],\n",
              "         [255, 255, 255]],\n",
              "\n",
              "        [[245, 249, 235],\n",
              "         [249, 253, 238],\n",
              "         [244, 250, 234],\n",
              "         ...,\n",
              "         [255, 255, 255],\n",
              "         [255, 255, 255],\n",
              "         [255, 255, 255]],\n",
              "\n",
              "        [[229, 240, 216],\n",
              "         [235, 243, 218],\n",
              "         [234, 242, 224],\n",
              "         ...,\n",
              "         [255, 255, 255],\n",
              "         [255, 255, 255],\n",
              "         [255, 255, 255]],\n",
              "\n",
              "        ...,\n",
              "\n",
              "        [[253, 254, 239],\n",
              "         [182, 196, 155],\n",
              "         [123, 145, 102],\n",
              "         ...,\n",
              "         [ 60,  67,  62],\n",
              "         [ 63,  70,  64],\n",
              "         [ 67,  75,  67]],\n",
              "\n",
              "        [[254, 254, 237],\n",
              "         [191, 202, 173],\n",
              "         [121, 142, 100],\n",
              "         ...,\n",
              "         [ 56,  61,  57],\n",
              "         [ 59,  65,  59],\n",
              "         [ 62,  69,  62]],\n",
              "\n",
              "        [[254, 254, 230],\n",
              "         [197, 208, 178],\n",
              "         [119, 141,  98],\n",
              "         ...,\n",
              "         [ 51,  57,  52],\n",
              "         [ 54,  60,  55],\n",
              "         [ 58,  64,  57]]],\n",
              "\n",
              "\n",
              "       [[[252, 253, 248],\n",
              "         [254, 255, 252],\n",
              "         [254, 254, 253],\n",
              "         ...,\n",
              "         [255, 255, 255],\n",
              "         [255, 255, 255],\n",
              "         [255, 255, 255]],\n",
              "\n",
              "        [[250, 252, 245],\n",
              "         [251, 253, 246],\n",
              "         [252, 253, 247],\n",
              "         ...,\n",
              "         [255, 255, 255],\n",
              "         [255, 255, 255],\n",
              "         [255, 255, 255]],\n",
              "\n",
              "        [[247, 249, 239],\n",
              "         [237, 240, 226],\n",
              "         [245, 246, 233],\n",
              "         ...,\n",
              "         [255, 255, 255],\n",
              "         [255, 255, 255],\n",
              "         [255, 255, 255]],\n",
              "\n",
              "        ...,\n",
              "\n",
              "        [[254, 255, 244],\n",
              "         [255, 255, 249],\n",
              "         [255, 255, 246],\n",
              "         ...,\n",
              "         [234, 245, 192],\n",
              "         [230, 234, 198],\n",
              "         [233, 238, 200]],\n",
              "\n",
              "        [[254, 255, 247],\n",
              "         [255, 255, 248],\n",
              "         [254, 254, 227],\n",
              "         ...,\n",
              "         [247, 250, 226],\n",
              "         [240, 245, 214],\n",
              "         [228, 236, 193]],\n",
              "\n",
              "        [[254, 255, 242],\n",
              "         [255, 255, 250],\n",
              "         [254, 254, 238],\n",
              "         ...,\n",
              "         [248, 248, 233],\n",
              "         [236, 242, 194],\n",
              "         [230, 238, 186]]]], dtype=uint8)"
            ]
          },
          "metadata": {},
          "execution_count": 80
        }
      ]
    },
    {
      "cell_type": "markdown",
      "source": [
        "The y datasets contain the classification of the photo as a person with a happy ot not happy expression. In this, the happy faces are marked with a 1, and and the not happy faces are marked with a 0."
      ],
      "metadata": {
        "id": "inHioq5I4JNv"
      }
    },
    {
      "cell_type": "code",
      "source": [
        "classes"
      ],
      "metadata": {
        "colab": {
          "base_uri": "https://localhost:8080/"
        },
        "id": "I9YG2iIbjZej",
        "outputId": "26013eb2-f273-4987-f16a-c265addfc6ac"
      },
      "execution_count": null,
      "outputs": [
        {
          "output_type": "execute_result",
          "data": {
            "text/plain": [
              "array([0, 1])"
            ]
          },
          "metadata": {},
          "execution_count": 81
        }
      ]
    },
    {
      "cell_type": "code",
      "source": [
        "train_set_y"
      ],
      "metadata": {
        "colab": {
          "base_uri": "https://localhost:8080/"
        },
        "id": "1fNgSzP_3eVZ",
        "outputId": "39f5f36d-9439-4616-b647-d658acd3ba4a"
      },
      "execution_count": null,
      "outputs": [
        {
          "output_type": "execute_result",
          "data": {
            "text/plain": [
              "array([[0, 1, 1, 1, 1, 1, 0, 0, 0, 1, 0, 0, 1, 1, 1, 1, 1, 0, 0, 0, 0, 1,\n",
              "        1, 0, 1, 0, 1, 1, 1, 1, 1, 1, 0, 1, 0, 1, 0, 0, 1, 1, 1, 0, 1, 0,\n",
              "        1, 1, 0, 1, 0, 1, 1, 0, 1, 0, 0, 0, 0, 1, 0, 1, 1, 1, 0, 1, 1, 1,\n",
              "        1, 0, 1, 0, 1, 1, 0, 1, 1, 0, 1, 1, 1, 0, 1, 1, 0, 0, 0, 0, 1, 0,\n",
              "        1, 0, 1, 1, 0, 0, 1, 1, 0, 1, 1, 0, 1, 0, 1, 0, 0, 1, 0, 0, 1, 1,\n",
              "        1, 0, 0, 0, 1, 0, 0, 1, 1, 0, 1, 0, 0, 1, 0, 1, 1, 0, 1, 0, 0, 0,\n",
              "        1, 0, 0, 0, 1, 1, 0, 1, 1, 0, 0, 1, 1, 1, 1, 1, 1, 1, 1, 1, 0, 0,\n",
              "        1, 0, 0, 0, 0, 0, 1, 0, 0, 0, 0, 0, 1, 1, 1, 1, 0, 0, 1, 0, 1, 0,\n",
              "        1, 1, 1, 0, 0, 1, 0, 0, 0, 1, 0, 1, 0, 0, 0, 0, 0, 1, 1, 0, 1, 0,\n",
              "        0, 0, 0, 1, 1, 1, 0, 0, 0, 1, 1, 0, 0, 0, 1, 0, 0, 1, 0, 0, 1, 1,\n",
              "        0, 1, 0, 1, 1, 1, 0, 1, 1, 1, 1, 1, 0, 0, 0, 1, 1, 1, 0, 1, 0, 1,\n",
              "        0, 1, 0, 1, 1, 1, 1, 0, 0, 0, 1, 1, 0, 0, 1, 1, 0, 1, 1, 1, 0, 1,\n",
              "        1, 0, 1, 1, 1, 0, 0, 0, 0, 1, 0, 0, 0, 1, 0, 1, 1, 0, 1, 1, 1, 0,\n",
              "        0, 1, 1, 0, 0, 0, 1, 0, 0, 0, 1, 0, 1, 0, 1, 1, 1, 0, 1, 0, 1, 0,\n",
              "        0, 0, 1, 0, 0, 1, 0, 1, 1, 0, 0, 0, 1, 0, 0, 0, 1, 0, 0, 1, 1, 1,\n",
              "        0, 0, 1, 0, 0, 1, 0, 0, 1, 0, 1, 1, 1, 1, 0, 0, 1, 0, 1, 1, 1, 0,\n",
              "        1, 1, 0, 1, 0, 0, 0, 1, 0, 0, 0, 1, 1, 0, 1, 1, 0, 0, 1, 0, 1, 0,\n",
              "        0, 0, 1, 0, 0, 1, 1, 1, 1, 1, 0, 1, 0, 1, 1, 1, 0, 0, 1, 1, 1, 1,\n",
              "        0, 0, 1, 1, 1, 1, 1, 1, 0, 1, 0, 1, 0, 0, 0, 1, 1, 0, 1, 0, 0, 0,\n",
              "        1, 0, 1, 1, 1, 1, 1, 1, 0, 0, 0, 1, 1, 1, 1, 0, 0, 1, 1, 0, 0, 1,\n",
              "        0, 0, 0, 0, 0, 0, 1, 0, 1, 0, 0, 0, 0, 1, 1, 0, 1, 0, 1, 0, 0, 0,\n",
              "        0, 0, 1, 0, 1, 0, 1, 1, 1, 0, 0, 0, 1, 1, 1, 1, 1, 1, 0, 1, 0, 0,\n",
              "        0, 1, 0, 0, 1, 0, 0, 0, 1, 0, 0, 0, 1, 1, 0, 1, 1, 0, 0, 1, 1, 0,\n",
              "        0, 1, 0, 0, 1, 1, 1, 0, 1, 1, 1, 1, 1, 0, 0, 1, 0, 1, 1, 1, 0, 0,\n",
              "        0, 0, 0, 0, 0, 0, 0, 0, 0, 1, 0, 1, 1, 0, 0, 1, 0, 1, 0, 0, 1, 1,\n",
              "        0, 0, 1, 0, 1, 0, 1, 1, 0, 0, 0, 0, 1, 1, 0, 1, 0, 0, 1, 0, 1, 1,\n",
              "        1, 0, 1, 1, 0, 1, 1, 0, 0, 0, 1, 1, 1, 0, 1, 1, 1, 0, 1, 0, 0, 1,\n",
              "        0, 1, 0, 0, 0, 0]])"
            ]
          },
          "metadata": {},
          "execution_count": 82
        }
      ]
    },
    {
      "cell_type": "markdown",
      "source": [
        "Below it is shown the example of a picture from the train dataset."
      ],
      "metadata": {
        "id": "U0k2RH1O3sOo"
      }
    },
    {
      "cell_type": "code",
      "execution_count": null,
      "metadata": {
        "colab": {
          "base_uri": "https://localhost:8080/",
          "height": 449
        },
        "id": "eDMg6inRWHzs",
        "outputId": "436d8c15-ce1d-4180-f9fe-1279456a688e"
      },
      "outputs": [
        {
          "output_type": "execute_result",
          "data": {
            "text/plain": [
              "<matplotlib.image.AxesImage at 0x7a763c63ece0>"
            ]
          },
          "metadata": {},
          "execution_count": 83
        },
        {
          "output_type": "display_data",
          "data": {
            "text/plain": [
              "<Figure size 640x480 with 1 Axes>"
            ],
            "image/png": "[encoded data removed]"
          },
          "metadata": {}
        }
      ],
      "source": [
        "index =10\n",
        "plt.imshow(train_set_x_orig[index])\n"
      ]
    },
    {
      "cell_type": "markdown",
      "source": [
        "The code below shows the dimensions of the datasets and the images."
      ],
      "metadata": {
        "id": "p2wV2yNguErE"
      }
    },
    {
      "cell_type": "code",
      "execution_count": null,
      "metadata": {
        "id": "7VSKu7SlWHzu",
        "outputId": "af05c212-a0be-47e3-9724-c2bd5dccacc5",
        "colab": {
          "base_uri": "https://localhost:8080/"
        }
      },
      "outputs": [
        {
          "output_type": "stream",
          "name": "stdout",
          "text": [
            "Number of training examples: m_train = 600\n",
            "Number of testing examples: m_test = 150\n",
            "Height/Width of each image: num_px = 64\n",
            "Each image is of size: (64, 64, 3)\n",
            "train_set_x shape: (600, 64, 64, 3)\n",
            "train_set_y shape: (1, 600)\n",
            "test_set_x shape: (150, 64, 64, 3)\n",
            "test_set_y shape: (1, 150)\n"
          ]
        }
      ],
      "source": [
        "m_train = train_set_x_orig.shape[0]\n",
        "m_test =  test_set_x_orig.shape[0]\n",
        "num_px = train_set_x_orig.shape[1]\n",
        "\n",
        "print (\"Number of training examples: m_train = \" + str(m_train))\n",
        "print (\"Number of testing examples: m_test = \" + str(m_test))\n",
        "print (\"Height/Width of each image: num_px = \" + str(num_px))\n",
        "print (\"Each image is of size: (\" + str(num_px) + \", \" + str(num_px) + \", 3)\")\n",
        "print (\"train_set_x shape: \" + str(train_set_x_orig.shape))\n",
        "print (\"train_set_y shape: \" + str(train_set_y.shape))\n",
        "print (\"test_set_x shape: \" + str(test_set_x_orig.shape))\n",
        "print (\"test_set_y shape: \" + str(test_set_y.shape))"
      ]
    },
    {
      "cell_type": "markdown",
      "source": [
        "Makes the images unidimensional so that they can be processed by the model:"
      ],
      "metadata": {
        "id": "N-q-B7JBN0wW"
      }
    },
    {
      "cell_type": "code",
      "execution_count": null,
      "metadata": {
        "id": "XzFGgC8wWHzv",
        "outputId": "fe36597e-1780-423a-af23-78ece398c208",
        "colab": {
          "base_uri": "https://localhost:8080/"
        }
      },
      "outputs": [
        {
          "output_type": "stream",
          "name": "stdout",
          "text": [
            "train_set_x_flatten shape: (600, 12288)\n",
            "train_set_y shape: (1, 600)\n",
            "test_set_x_flatten shape: (150, 12288)\n",
            "test_set_y shape: (1, 150)\n",
            "sanity check after reshaping: [178 193  82 188 207]\n"
          ]
        }
      ],
      "source": [
        "# Reshape the training and test examples\n",
        "train_set_x_flatten = train_set_x_orig.reshape(train_set_x_orig.shape[0], train_set_x_orig.shape[1] * train_set_x_orig.shape[2] * train_set_x_orig.shape[3])\n",
        "test_set_x_flatten = test_set_x_orig.reshape(test_set_x_orig.shape[0], test_set_x_orig.shape[1] * test_set_x_orig.shape[2] * test_set_x_orig.shape[3])\n",
        "\n",
        "print (\"train_set_x_flatten shape: \" + str(train_set_x_flatten.shape))\n",
        "print (\"train_set_y shape: \" + str(train_set_y.shape))\n",
        "print (\"test_set_x_flatten shape: \" + str(test_set_x_flatten.shape))\n",
        "print (\"test_set_y shape: \" + str(test_set_y.shape))\n",
        "print (\"sanity check after reshaping: \" + str(train_set_x_flatten[0:5,0]))"
      ]
    },
    {
      "cell_type": "markdown",
      "source": [
        "To center and standardize the dataset, every row of the dataset is divided by 255 (the maximum value of a pixel channel)."
      ],
      "metadata": {
        "id": "bnnTZB60Bkz4"
      }
    },
    {
      "cell_type": "code",
      "execution_count": null,
      "metadata": {
        "id": "1JlZBuNmWHzw"
      },
      "outputs": [],
      "source": [
        "train_set_x = train_set_x_flatten/255.\n",
        "test_set_x = test_set_x_flatten/255."
      ]
    },
    {
      "cell_type": "code",
      "source": [
        "type(train_set_x)"
      ],
      "metadata": {
        "colab": {
          "base_uri": "https://localhost:8080/"
        },
        "id": "g_bA82UdaRbD",
        "outputId": "42db96f1-c0b2-4575-a159-a6169a718bad"
      },
      "execution_count": null,
      "outputs": [
        {
          "output_type": "execute_result",
          "data": {
            "text/plain": [
              "numpy.ndarray"
            ]
          },
          "metadata": {},
          "execution_count": 87
        }
      ]
    },
    {
      "cell_type": "code",
      "source": [
        "plt.imshow(train_set_x_orig[5])"
      ],
      "metadata": {
        "colab": {
          "base_uri": "https://localhost:8080/",
          "height": 449
        },
        "id": "uGAnQ_yxRZ2D",
        "outputId": "5229e2d2-9bf2-41b1-8a20-157fc24508ce"
      },
      "execution_count": null,
      "outputs": [
        {
          "output_type": "execute_result",
          "data": {
            "text/plain": [
              "<matplotlib.image.AxesImage at 0x7a763c3db430>"
            ]
          },
          "metadata": {},
          "execution_count": 88
        },
        {
          "output_type": "display_data",
          "data": {
            "text/plain": [
              "<Figure size 640x480 with 1 Axes>"
            ],
            "image/png": "[encoded data removed]"
          },
          "metadata": {}
        }
      ]
    },
    {
      "cell_type": "markdown",
      "source": [
        "Now we are gonna use the Sequential model from Keras to create a neural network.\n",
        "The shape of the input for the first layer is going to be 64x64x3 because the pictures are of 64x64 size, and they're represented by RGB pixels which have 3 dimensions (red, green and blue).\n",
        "The last layer is going to be of size 1, because there's only one possible output for an image: its classification as a picture that contains a happy (1) or non happy (0) expression."
      ],
      "metadata": {
        "id": "FA0Jgh9corNN"
      }
    },
    {
      "cell_type": "code",
      "source": [
        "# find best hyperparameters using grid search\n",
        "from sklearn.model_selection import GridSearchCV\n",
        "import keras\n",
        "keras.__version__\n",
        "from keras import models\n",
        "from keras import layers\n",
        "\n",
        "model = models.Sequential()\n",
        "model.add(layers.Dense(16, activation='relu', input_shape=(64 * 64 * 3,)))\n",
        "model.add(layers.Dense(16, activation='relu'))\n",
        "model.add(layers.Dense(1, activation='sigmoid'))   # 1 salida: es una expresion feliz o no\n",
        "model.summary()\n"
      ],
      "metadata": {
        "colab": {
          "base_uri": "https://localhost:8080/"
        },
        "id": "Hn6QTNegOuwn",
        "outputId": "1fcddbc9-de49-46e3-9bfc-28465b0abb13"
      },
      "execution_count": null,
      "outputs": [
        {
          "output_type": "stream",
          "name": "stdout",
          "text": [
            "Model: \"sequential_17\"\n",
            "_________________________________________________________________\n",
            " Layer (type)                Output Shape              Param #   \n",
            "=================================================================\n",
            " dense_51 (Dense)            (None, 16)                196624    \n",
            "                                                                 \n",
            " dense_52 (Dense)            (None, 16)                272       \n",
            "                                                                 \n",
            " dense_53 (Dense)            (None, 1)                 17        \n",
            "                                                                 \n",
            "=================================================================\n",
            "Total params: 196913 (769.19 KB)\n",
            "Trainable params: 196913 (769.19 KB)\n",
            "Non-trainable params: 0 (0.00 Byte)\n",
            "_________________________________________________________________\n"
          ]
        }
      ]
    },
    {
      "cell_type": "code",
      "source": [
        "model.compile(optimizer='adam', loss='binary_crossentropy', metrics=['acc'])\n",
        "original_hist = model.fit(train_set_x, train_set_y[0],\n",
        "                                   epochs=20,\n",
        "                                   batch_size=512,\n",
        "                                   validation_data=(test_set_x, test_set_y[0]))"
      ],
      "metadata": {
        "colab": {
          "base_uri": "https://localhost:8080/"
        },
        "id": "PZyu6eIeO7DI",
        "outputId": "7ee9eda6-f2c2-49f0-8515-01a54a8933ee"
      },
      "execution_count": null,
      "outputs": [
        {
          "output_type": "stream",
          "name": "stdout",
          "text": [
            "Epoch 1/20\n",
            "2/2 [==============================] - 57s 261ms/step - loss: 0.9999 - acc: 0.5067 - val_loss: 0.6736 - val_acc: 0.5533\n",
            "Epoch 2/20\n",
            "2/2 [==============================] - 0s 68ms/step - loss: 0.7859 - acc: 0.4867 - val_loss: 1.3352 - val_acc: 0.4400\n",
            "Epoch 3/20\n",
            "2/2 [==============================] - 0s 68ms/step - loss: 1.1964 - acc: 0.5000 - val_loss: 1.0489 - val_acc: 0.4400\n",
            "Epoch 4/20\n",
            "2/2 [==============================] - 0s 61ms/step - loss: 0.9383 - acc: 0.5000 - val_loss: 0.7667 - val_acc: 0.4400\n",
            "Epoch 5/20\n",
            "2/2 [==============================] - 0s 61ms/step - loss: 0.7229 - acc: 0.5000 - val_loss: 0.6927 - val_acc: 0.5600\n",
            "Epoch 6/20\n",
            "2/2 [==============================] - 0s 54ms/step - loss: 0.6932 - acc: 0.5000 - val_loss: 0.6926 - val_acc: 0.5600\n",
            "Epoch 7/20\n",
            "2/2 [==============================] - 0s 111ms/step - loss: 0.6932 - acc: 0.5000 - val_loss: 0.6925 - val_acc: 0.5600\n",
            "Epoch 8/20\n",
            "2/2 [==============================] - 0s 58ms/step - loss: 0.6932 - acc: 0.5000 - val_loss: 0.6925 - val_acc: 0.5600\n",
            "Epoch 9/20\n",
            "2/2 [==============================] - 0s 71ms/step - loss: 0.6932 - acc: 0.5000 - val_loss: 0.6925 - val_acc: 0.5600\n",
            "Epoch 10/20\n",
            "2/2 [==============================] - 0s 58ms/step - loss: 0.6932 - acc: 0.5000 - val_loss: 0.6924 - val_acc: 0.5600\n",
            "Epoch 11/20\n",
            "2/2 [==============================] - 0s 55ms/step - loss: 0.6932 - acc: 0.5000 - val_loss: 0.6924 - val_acc: 0.5600\n",
            "Epoch 12/20\n",
            "2/2 [==============================] - 0s 57ms/step - loss: 0.6932 - acc: 0.5000 - val_loss: 0.6924 - val_acc: 0.5600\n",
            "Epoch 13/20\n",
            "2/2 [==============================] - 0s 67ms/step - loss: 0.6932 - acc: 0.5000 - val_loss: 0.6924 - val_acc: 0.5600\n",
            "Epoch 14/20\n",
            "2/2 [==============================] - 0s 61ms/step - loss: 0.6932 - acc: 0.5000 - val_loss: 0.6924 - val_acc: 0.5600\n",
            "Epoch 15/20\n",
            "2/2 [==============================] - 0s 60ms/step - loss: 0.6932 - acc: 0.5000 - val_loss: 0.6924 - val_acc: 0.5600\n",
            "Epoch 16/20\n",
            "2/2 [==============================] - 0s 60ms/step - loss: 0.6932 - acc: 0.5000 - val_loss: 0.6924 - val_acc: 0.5600\n",
            "Epoch 17/20\n",
            "2/2 [==============================] - 0s 46ms/step - loss: 0.6932 - acc: 0.5000 - val_loss: 0.6924 - val_acc: 0.5600\n",
            "Epoch 18/20\n",
            "2/2 [==============================] - 0s 68ms/step - loss: 0.6932 - acc: 0.5000 - val_loss: 0.6924 - val_acc: 0.5600\n",
            "Epoch 19/20\n",
            "2/2 [==============================] - 0s 53ms/step - loss: 0.6932 - acc: 0.5000 - val_loss: 0.6924 - val_acc: 0.5600\n",
            "Epoch 20/20\n",
            "2/2 [==============================] - 0s 54ms/step - loss: 0.6932 - acc: 0.5000 - val_loss: 0.6924 - val_acc: 0.5600\n"
          ]
        }
      ]
    },
    {
      "cell_type": "code",
      "source": [
        "test_loss, test_acc = model.evaluate(test_set_x, test_set_y[0])\n",
        "print('test_acc:', test_acc)"
      ],
      "metadata": {
        "id": "bHOK10qSgkrZ",
        "outputId": "b9bfeb81-9758-4a16-db7a-b23e4f3cc5d2",
        "colab": {
          "base_uri": "https://localhost:8080/"
        }
      },
      "execution_count": null,
      "outputs": [
        {
          "output_type": "stream",
          "name": "stdout",
          "text": [
            "5/5 [==============================] - 0s 3ms/step - loss: 0.6924 - acc: 0.5600\n",
            "test_acc: 0.5600000023841858\n"
          ]
        }
      ]
    },
    {
      "cell_type": "code",
      "source": [
        "import keras\n",
        "keras.__version__\n",
        "from keras import models\n",
        "from keras import layers"
      ],
      "metadata": {
        "id": "I5uPAzYljFiQ"
      },
      "execution_count": null,
      "outputs": []
    },
    {
      "cell_type": "code",
      "source": [
        "\n",
        "from keras.preprocessing.text import Tokenizer\n",
        "from keras.preprocessing.sequence import pad_sequences\n",
        "from keras.models import Sequential, Model\n",
        "from keras.layers import Dense, Embedding, LSTM, Dropout, Activation, Flatten, Input, SimpleRNN\n",
        "from keras.callbacks import EarlyStopping"
      ],
      "metadata": {
        "id": "Yl-lMq7rj-mu"
      },
      "execution_count": null,
      "outputs": []
    },
    {
      "cell_type": "markdown",
      "source": [
        "Run the following command to install the module scikeras:"
      ],
      "metadata": {
        "id": "g3I-3TErq1s5"
      }
    },
    {
      "cell_type": "code",
      "source": [
        "!pip install scikeras"
      ],
      "metadata": {
        "colab": {
          "base_uri": "https://localhost:8080/"
        },
        "id": "IOFsTYFdc3IF",
        "outputId": "c168362b-0eb7-4857-d83b-72c82e1c0017"
      },
      "execution_count": null,
      "outputs": [
        {
          "output_type": "stream",
          "name": "stdout",
          "text": [
            "Requirement already satisfied: scikeras in /usr/local/lib/python3.10/dist-packages (0.12.0)\n",
            "Requirement already satisfied: packaging>=0.21 in /usr/local/lib/python3.10/dist-packages (from scikeras) (24.0)\n",
            "Requirement already satisfied: scikit-learn>=1.0.0 in /usr/local/lib/python3.10/dist-packages (from scikeras) (1.2.2)\n",
            "Requirement already satisfied: numpy>=1.17.3 in /usr/local/lib/python3.10/dist-packages (from scikit-learn>=1.0.0->scikeras) (1.25.2)\n",
            "Requirement already satisfied: scipy>=1.3.2 in /usr/local/lib/python3.10/dist-packages (from scikit-learn>=1.0.0->scikeras) (1.11.4)\n",
            "Requirement already satisfied: joblib>=1.1.1 in /usr/local/lib/python3.10/dist-packages (from scikit-learn>=1.0.0->scikeras) (1.3.2)\n",
            "Requirement already satisfied: threadpoolctl>=2.0.0 in /usr/local/lib/python3.10/dist-packages (from scikit-learn>=1.0.0->scikeras) (3.4.0)\n"
          ]
        }
      ]
    },
    {
      "cell_type": "markdown",
      "source": [
        "Now we're going to use grid search to find best hyperparameters for the neural network model."
      ],
      "metadata": {
        "id": "UlH52TVMrDRw"
      }
    },
    {
      "cell_type": "code",
      "source": [
        "from scikeras.wrappers import KerasClassifier\n",
        "from sklearn.model_selection import GridSearchCV\n",
        "\n",
        "def create_model(optimizer='rmsprop', loss='binary_crossentropy'):\n",
        "    model = models.Sequential()\n",
        "    model.add(layers.Dense(16, activation='relu', input_shape=(64 * 64 * 3,)))\n",
        "    model.add(layers.Dense(16, activation='relu'))\n",
        "    model.add(layers.Dense(1, activation='sigmoid'))\n",
        "    model.compile(optimizer=optimizer,  loss=\"binary_crossentropy\", metrics=['acc'])\n",
        "\n",
        "    return model\n",
        "\n",
        "model = KerasClassifier(build_fn=create_model, verbose=0)\n"
      ],
      "metadata": {
        "id": "PRT0MD1ZcjQo"
      },
      "execution_count": null,
      "outputs": []
    },
    {
      "cell_type": "code",
      "source": [
        "param_grid = {'batch_size': [16,32, 64, 128],\n",
        "                'epochs': [10, 15, 20,25,30],\n",
        "                'optimizer': ['adam', 'rmsprop']}\n",
        "\n",
        "grid = GridSearchCV(estimator=model, param_grid=param_grid, n_jobs=-1, cv=3)\n",
        "grid_result = grid.fit(train_set_x, train_set_y[0])"
      ],
      "metadata": {
        "colab": {
          "base_uri": "https://localhost:8080/"
        },
        "id": "4KPHIe5LgpNn",
        "outputId": "9f59e03c-b78a-45f5-a279-e5551729d46c"
      },
      "execution_count": null,
      "outputs": [
        {
          "output_type": "stream",
          "name": "stderr",
          "text": [
            "/usr/local/lib/python3.10/dist-packages/joblib/externals/loky/backend/fork_exec.py:38: RuntimeWarning: os.fork() was called. os.fork() is incompatible with multithreaded code, and JAX is multithreaded, so this will likely lead to a deadlock.\n",
            "  pid = os.fork()\n",
            "/usr/local/lib/python3.10/dist-packages/joblib/externals/loky/process_executor.py:752: UserWarning: A worker stopped while some jobs were given to the executor. This can be caused by a too short worker timeout or by a memory leak.\n",
            "  warnings.warn(\n",
            "/usr/local/lib/python3.10/dist-packages/scikeras/wrappers.py:915: UserWarning: ``build_fn`` will be renamed to ``model`` in a future release, at which point use of ``build_fn`` will raise an Error instead.\n",
            "  X, y = self._initialize(X, y)\n"
          ]
        }
      ]
    },
    {
      "cell_type": "markdown",
      "source": [
        "Printing the metrics for the model:"
      ],
      "metadata": {
        "id": "J_TE2Ry-rYVk"
      }
    },
    {
      "cell_type": "code",
      "source": [
        "print(\"Best: %f using %s\" % (grid_result.best_score_, grid_result.best_params_))\n",
        "means = grid_result.cv_results_['mean_test_score']\n",
        "stds = grid_result.cv_results_['std_test_score']\n",
        "params = grid_result.cv_results_['params']\n",
        "for mean, stdev, param in zip(means, stds, params):\n",
        "    print(\"%f (%f) with: %r\" % (mean, stdev, param))"
      ],
      "metadata": {
        "id": "ygb3Px4Td_Wr",
        "colab": {
          "base_uri": "https://localhost:8080/"
        },
        "outputId": "e6791f2e-6136-44c7-bd02-83677ecc9ca5"
      },
      "execution_count": null,
      "outputs": [
        {
          "output_type": "stream",
          "name": "stdout",
          "text": [
            "Best: 0.895000 using {'batch_size': 16, 'epochs': 30, 'optimizer': 'rmsprop'}\n",
            "0.500000 (0.000000) with: {'batch_size': 16, 'epochs': 10, 'optimizer': 'adam'}\n",
            "0.628333 (0.098686) with: {'batch_size': 16, 'epochs': 10, 'optimizer': 'rmsprop'}\n",
            "0.583333 (0.117851) with: {'batch_size': 16, 'epochs': 15, 'optimizer': 'adam'}\n",
            "0.648333 (0.114915) with: {'batch_size': 16, 'epochs': 15, 'optimizer': 'rmsprop'}\n",
            "0.671667 (0.122225) with: {'batch_size': 16, 'epochs': 20, 'optimizer': 'adam'}\n",
            "0.553333 (0.075425) with: {'batch_size': 16, 'epochs': 20, 'optimizer': 'rmsprop'}\n",
            "0.701667 (0.152880) with: {'batch_size': 16, 'epochs': 25, 'optimizer': 'adam'}\n",
            "0.640000 (0.197990) with: {'batch_size': 16, 'epochs': 25, 'optimizer': 'rmsprop'}\n",
            "0.780000 (0.126557) with: {'batch_size': 16, 'epochs': 30, 'optimizer': 'adam'}\n",
            "0.895000 (0.038944) with: {'batch_size': 16, 'epochs': 30, 'optimizer': 'rmsprop'}\n",
            "0.590000 (0.081343) with: {'batch_size': 32, 'epochs': 10, 'optimizer': 'adam'}\n",
            "0.496667 (0.142906) with: {'batch_size': 32, 'epochs': 10, 'optimizer': 'rmsprop'}\n",
            "0.633333 (0.117071) with: {'batch_size': 32, 'epochs': 15, 'optimizer': 'adam'}\n",
            "0.771667 (0.016499) with: {'batch_size': 32, 'epochs': 15, 'optimizer': 'rmsprop'}\n",
            "0.595000 (0.134350) with: {'batch_size': 32, 'epochs': 20, 'optimizer': 'adam'}\n",
            "0.796667 (0.068475) with: {'batch_size': 32, 'epochs': 20, 'optimizer': 'rmsprop'}\n",
            "0.590000 (0.127279) with: {'batch_size': 32, 'epochs': 25, 'optimizer': 'adam'}\n",
            "0.616667 (0.082597) with: {'batch_size': 32, 'epochs': 25, 'optimizer': 'rmsprop'}\n",
            "0.720000 (0.156418) with: {'batch_size': 32, 'epochs': 30, 'optimizer': 'adam'}\n",
            "0.605000 (0.148492) with: {'batch_size': 32, 'epochs': 30, 'optimizer': 'rmsprop'}\n",
            "0.500000 (0.000000) with: {'batch_size': 64, 'epochs': 10, 'optimizer': 'adam'}\n",
            "0.500000 (0.000000) with: {'batch_size': 64, 'epochs': 10, 'optimizer': 'rmsprop'}\n",
            "0.613333 (0.112645) with: {'batch_size': 64, 'epochs': 15, 'optimizer': 'adam'}\n",
            "0.570000 (0.098995) with: {'batch_size': 64, 'epochs': 15, 'optimizer': 'rmsprop'}\n",
            "0.518333 (0.013123) with: {'batch_size': 64, 'epochs': 20, 'optimizer': 'adam'}\n",
            "0.595000 (0.134350) with: {'batch_size': 64, 'epochs': 20, 'optimizer': 'rmsprop'}\n",
            "0.643333 (0.122837) with: {'batch_size': 64, 'epochs': 25, 'optimizer': 'adam'}\n",
            "0.740000 (0.077889) with: {'batch_size': 64, 'epochs': 25, 'optimizer': 'rmsprop'}\n",
            "0.590000 (0.127279) with: {'batch_size': 64, 'epochs': 30, 'optimizer': 'adam'}\n",
            "0.738333 (0.123648) with: {'batch_size': 64, 'epochs': 30, 'optimizer': 'rmsprop'}\n",
            "0.543333 (0.061283) with: {'batch_size': 128, 'epochs': 10, 'optimizer': 'adam'}\n",
            "0.550000 (0.070711) with: {'batch_size': 128, 'epochs': 10, 'optimizer': 'rmsprop'}\n",
            "0.528333 (0.040069) with: {'batch_size': 128, 'epochs': 15, 'optimizer': 'adam'}\n",
            "0.588333 (0.078138) with: {'batch_size': 128, 'epochs': 15, 'optimizer': 'rmsprop'}\n",
            "0.596667 (0.086538) with: {'batch_size': 128, 'epochs': 20, 'optimizer': 'adam'}\n",
            "0.590000 (0.116833) with: {'batch_size': 128, 'epochs': 20, 'optimizer': 'rmsprop'}\n",
            "0.666667 (0.118486) with: {'batch_size': 128, 'epochs': 25, 'optimizer': 'adam'}\n",
            "0.675000 (0.124164) with: {'batch_size': 128, 'epochs': 25, 'optimizer': 'rmsprop'}\n",
            "0.678333 (0.034238) with: {'batch_size': 128, 'epochs': 30, 'optimizer': 'adam'}\n",
            "0.741667 (0.037044) with: {'batch_size': 128, 'epochs': 30, 'optimizer': 'rmsprop'}\n"
          ]
        }
      ]
    },
    {
      "cell_type": "code",
      "source": [
        "# print metrics using best hyperparameters\n",
        "model = Sequential()\n",
        "model.add(layers.Dense(16, activation='relu', input_shape=(64 * 64 * 3,)))     ##El input es 64*64*3 debido a que las imágenes son de tamaño 64*64 y están en formato RGB.\n",
        "model.add(layers.Dense(16, activation='relu'))\n",
        "model.add(layers.Dense(1, activation='sigmoid'))   # 1 salida: es una expresion feliz o no\n",
        "model.compile(optimizer='adam', loss='binary_crossentropy', metrics=['acc'])\n",
        "#model.compile(optimizer='rmsprop', loss='binary_crossentropy', metrics=['acc', 'Precision', 'Recall', 'TruePositives', 'TrueNegatives', 'FalsePositives', 'FalseNegatives'])\n",
        "model.summary()\n",
        "\n",
        "model.fit(train_set_x, train_set_y[0], batch_size=16, epochs=30) #, validation_split=0.2)"
      ],
      "metadata": {
        "id": "4h96ouUMeJr7",
        "colab": {
          "base_uri": "https://localhost:8080/"
        },
        "outputId": "6d82dfa3-749a-422b-f150-dc3b1f26ff56"
      },
      "execution_count": null,
      "outputs": [
        {
          "output_type": "stream",
          "name": "stdout",
          "text": [
            "Model: \"sequential_19\"\n",
            "_________________________________________________________________\n",
            " Layer (type)                Output Shape              Param #   \n",
            "=================================================================\n",
            " dense_57 (Dense)            (None, 16)                196624    \n",
            "                                                                 \n",
            " dense_58 (Dense)            (None, 16)                272       \n",
            "                                                                 \n",
            " dense_59 (Dense)            (None, 1)                 17        \n",
            "                                                                 \n",
            "=================================================================\n",
            "Total params: 196913 (769.19 KB)\n",
            "Trainable params: 196913 (769.19 KB)\n",
            "Non-trainable params: 0 (0.00 Byte)\n",
            "_________________________________________________________________\n",
            "Epoch 1/30\n",
            "38/38 [==============================] - 2s 10ms/step - loss: 0.7788 - acc: 0.5500\n",
            "Epoch 2/30\n",
            "38/38 [==============================] - 0s 10ms/step - loss: 0.5548 - acc: 0.6950\n",
            "Epoch 3/30\n",
            "38/38 [==============================] - 0s 4ms/step - loss: 0.4600 - acc: 0.7583\n",
            "Epoch 4/30\n",
            "38/38 [==============================] - 0s 4ms/step - loss: 0.2927 - acc: 0.8850\n",
            "Epoch 5/30\n",
            "38/38 [==============================] - 0s 4ms/step - loss: 0.2796 - acc: 0.8900\n",
            "Epoch 6/30\n",
            "38/38 [==============================] - 0s 5ms/step - loss: 0.5873 - acc: 0.7300\n",
            "Epoch 7/30\n",
            "38/38 [==============================] - 0s 8ms/step - loss: 0.2963 - acc: 0.8800\n",
            "Epoch 8/30\n",
            "38/38 [==============================] - 0s 7ms/step - loss: 0.2006 - acc: 0.9133\n",
            "Epoch 9/30\n",
            "38/38 [==============================] - 0s 10ms/step - loss: 0.1671 - acc: 0.9350\n",
            "Epoch 10/30\n",
            "38/38 [==============================] - 0s 8ms/step - loss: 0.1718 - acc: 0.9383\n",
            "Epoch 11/30\n",
            "38/38 [==============================] - 0s 10ms/step - loss: 0.1670 - acc: 0.9450\n",
            "Epoch 12/30\n",
            "38/38 [==============================] - 0s 9ms/step - loss: 0.1448 - acc: 0.9500\n",
            "Epoch 13/30\n",
            "38/38 [==============================] - 0s 8ms/step - loss: 0.1256 - acc: 0.9583\n",
            "Epoch 14/30\n",
            "38/38 [==============================] - 0s 9ms/step - loss: 0.1993 - acc: 0.9133\n",
            "Epoch 15/30\n",
            "38/38 [==============================] - 0s 10ms/step - loss: 0.1701 - acc: 0.9317\n",
            "Epoch 16/30\n",
            "38/38 [==============================] - 0s 13ms/step - loss: 0.2154 - acc: 0.9200\n",
            "Epoch 17/30\n",
            "38/38 [==============================] - 0s 11ms/step - loss: 0.1136 - acc: 0.9717\n",
            "Epoch 18/30\n",
            "38/38 [==============================] - 0s 10ms/step - loss: 0.1015 - acc: 0.9717\n",
            "Epoch 19/30\n",
            "38/38 [==============================] - 0s 9ms/step - loss: 0.1182 - acc: 0.9633\n",
            "Epoch 20/30\n",
            "38/38 [==============================] - 0s 8ms/step - loss: 0.1202 - acc: 0.9550\n",
            "Epoch 21/30\n",
            "38/38 [==============================] - 0s 8ms/step - loss: 0.0924 - acc: 0.9650\n",
            "Epoch 22/30\n",
            "38/38 [==============================] - 0s 8ms/step - loss: 0.1036 - acc: 0.9633\n",
            "Epoch 23/30\n",
            "38/38 [==============================] - 0s 8ms/step - loss: 0.0796 - acc: 0.9767\n",
            "Epoch 24/30\n",
            "38/38 [==============================] - 0s 8ms/step - loss: 0.1081 - acc: 0.9583\n",
            "Epoch 25/30\n",
            "38/38 [==============================] - 0s 8ms/step - loss: 0.1099 - acc: 0.9583\n",
            "Epoch 26/30\n",
            "38/38 [==============================] - 0s 8ms/step - loss: 0.1027 - acc: 0.9633\n",
            "Epoch 27/30\n",
            "38/38 [==============================] - 0s 8ms/step - loss: 0.0902 - acc: 0.9683\n",
            "Epoch 28/30\n",
            "38/38 [==============================] - 0s 9ms/step - loss: 0.1038 - acc: 0.9567\n",
            "Epoch 29/30\n",
            "38/38 [==============================] - 0s 8ms/step - loss: 0.0810 - acc: 0.9717\n",
            "Epoch 30/30\n",
            "38/38 [==============================] - 0s 7ms/step - loss: 0.0822 - acc: 0.9650\n"
          ]
        },
        {
          "output_type": "execute_result",
          "data": {
            "text/plain": [
              "<keras.src.callbacks.History at 0x7a7646fc4ac0>"
            ]
          },
          "metadata": {},
          "execution_count": 98
        }
      ]
    },
    {
      "cell_type": "markdown",
      "source": [
        "Evaluating the model in the test dataset:"
      ],
      "metadata": {
        "id": "SivLBoytth0j"
      }
    },
    {
      "cell_type": "code",
      "source": [
        "\n",
        "test_loss, test_acc = model.evaluate(test_set_x, test_set_y[0])\n",
        "print('test_acc:', test_acc)\n"
      ],
      "metadata": {
        "id": "zFyo0tuSi88R",
        "colab": {
          "base_uri": "https://localhost:8080/"
        },
        "outputId": "8ca09e24-0920-4afd-bcf3-09adac729733"
      },
      "execution_count": null,
      "outputs": [
        {
          "output_type": "stream",
          "name": "stdout",
          "text": [
            "5/5 [==============================] - 0s 9ms/step - loss: 0.1237 - acc: 0.9533\n",
            "test_acc: 0.95333331823349\n"
          ]
        }
      ]
    },
    {
      "cell_type": "markdown",
      "source": [
        "Now we're gonna calculate the best learning rate and momentum for the model:"
      ],
      "metadata": {
        "id": "-08LzvNI6ckf"
      }
    },
    {
      "cell_type": "code",
      "source": [
        "model = KerasClassifier(model=create_model, loss=\"binary_crossentropy\", optimizer=\"Adam\", epochs=30, batch_size=16, verbose=0)\n",
        "# define the grid search parameters\n",
        "learn_rate = [0.001, 0.01, 0.1, 0.2, 0.3]\n",
        "momentum = [0.0, 0.2, 0.4, 0.6, 0.8, 0.9]\n",
        "param_grid = dict(optimizer__learning_rate=learn_rate, optimizer__momentum=momentum)\n",
        "grid = GridSearchCV(estimator=model, param_grid=param_grid, n_jobs=-1, cv=3)\n",
        "grid_result = grid.fit(train_set_x, train_set_y[0])\n",
        "# summarize results\n",
        "print(\"Best: %f using %s\" % (grid_result.best_score_, grid_result.best_params_))\n",
        "means = grid_result.cv_results_['mean_test_score']\n",
        "stds = grid_result.cv_results_['std_test_score']\n",
        "params = grid_result.cv_results_['params']\n",
        "for mean, stdev, param in zip(means, stds, params):\n",
        "    print(\"%f (%f) with: %r\" % (mean, stdev, param))"
      ],
      "metadata": {
        "id": "K4gQxJJtmmCq",
        "colab": {
          "base_uri": "https://localhost:8080/"
        },
        "outputId": "8cc272da-0b04-406e-b96d-d5d450fd1cb7"
      },
      "execution_count": null,
      "outputs": [
        {
          "output_type": "stream",
          "name": "stderr",
          "text": [
            "/usr/local/lib/python3.10/dist-packages/joblib/externals/loky/backend/fork_exec.py:38: RuntimeWarning: os.fork() was called. os.fork() is incompatible with multithreaded code, and JAX is multithreaded, so this will likely lead to a deadlock.\n",
            "  pid = os.fork()\n",
            "/usr/local/lib/python3.10/dist-packages/joblib/externals/loky/process_executor.py:752: UserWarning: A worker stopped while some jobs were given to the executor. This can be caused by a too short worker timeout or by a memory leak.\n",
            "  warnings.warn(\n"
          ]
        },
        {
          "output_type": "stream",
          "name": "stdout",
          "text": [
            "Best: 0.916667 using {'optimizer__learning_rate': 0.001, 'optimizer__momentum': 0.9}\n",
            "0.646667 (0.207418) with: {'optimizer__learning_rate': 0.001, 'optimizer__momentum': 0.0}\n",
            "0.596667 (0.136707) with: {'optimizer__learning_rate': 0.001, 'optimizer__momentum': 0.2}\n",
            "0.886667 (0.055126) with: {'optimizer__learning_rate': 0.001, 'optimizer__momentum': 0.4}\n",
            "0.781667 (0.199680) with: {'optimizer__learning_rate': 0.001, 'optimizer__momentum': 0.6}\n",
            "0.643333 (0.202704) with: {'optimizer__learning_rate': 0.001, 'optimizer__momentum': 0.8}\n",
            "0.916667 (0.023570) with: {'optimizer__learning_rate': 0.001, 'optimizer__momentum': 0.9}\n",
            "0.678333 (0.133187) with: {'optimizer__learning_rate': 0.01, 'optimizer__momentum': 0.0}\n",
            "0.841667 (0.061283) with: {'optimizer__learning_rate': 0.01, 'optimizer__momentum': 0.2}\n",
            "0.910000 (0.030822) with: {'optimizer__learning_rate': 0.01, 'optimizer__momentum': 0.4}\n",
            "0.810000 (0.089815) with: {'optimizer__learning_rate': 0.01, 'optimizer__momentum': 0.6}\n",
            "0.760000 (0.184029) with: {'optimizer__learning_rate': 0.01, 'optimizer__momentum': 0.8}\n",
            "0.785000 (0.201536) with: {'optimizer__learning_rate': 0.01, 'optimizer__momentum': 0.9}\n",
            "0.865000 (0.031885) with: {'optimizer__learning_rate': 0.1, 'optimizer__momentum': 0.0}\n",
            "0.813333 (0.136768) with: {'optimizer__learning_rate': 0.1, 'optimizer__momentum': 0.2}\n",
            "0.908333 (0.022485) with: {'optimizer__learning_rate': 0.1, 'optimizer__momentum': 0.4}\n",
            "0.693333 (0.180847) with: {'optimizer__learning_rate': 0.1, 'optimizer__momentum': 0.6}\n",
            "0.745000 (0.174690) with: {'optimizer__learning_rate': 0.1, 'optimizer__momentum': 0.8}\n",
            "0.656667 (0.207579) with: {'optimizer__learning_rate': 0.1, 'optimizer__momentum': 0.9}\n",
            "0.501667 (0.002357) with: {'optimizer__learning_rate': 0.2, 'optimizer__momentum': 0.0}\n",
            "0.706667 (0.142614) with: {'optimizer__learning_rate': 0.2, 'optimizer__momentum': 0.2}\n",
            "0.645000 (0.205061) with: {'optimizer__learning_rate': 0.2, 'optimizer__momentum': 0.4}\n",
            "0.783333 (0.143836) with: {'optimizer__learning_rate': 0.2, 'optimizer__momentum': 0.6}\n",
            "0.891667 (0.038801) with: {'optimizer__learning_rate': 0.2, 'optimizer__momentum': 0.8}\n",
            "0.701667 (0.163316) with: {'optimizer__learning_rate': 0.2, 'optimizer__momentum': 0.9}\n",
            "0.746667 (0.180108) with: {'optimizer__learning_rate': 0.3, 'optimizer__momentum': 0.0}\n",
            "0.641667 (0.200347) with: {'optimizer__learning_rate': 0.3, 'optimizer__momentum': 0.2}\n",
            "0.760000 (0.189253) with: {'optimizer__learning_rate': 0.3, 'optimizer__momentum': 0.4}\n",
            "0.608333 (0.153206) with: {'optimizer__learning_rate': 0.3, 'optimizer__momentum': 0.6}\n",
            "0.635000 (0.190919) with: {'optimizer__learning_rate': 0.3, 'optimizer__momentum': 0.8}\n",
            "0.780000 (0.199499) with: {'optimizer__learning_rate': 0.3, 'optimizer__momentum': 0.9}\n"
          ]
        }
      ]
    },
    {
      "cell_type": "code",
      "source": [
        "\n",
        "# print metrics using best hyperparameters\n",
        "model = Sequential()\n",
        "model.add(layers.Dense(16, activation='relu', input_shape=(64 * 64 * 3,)))     ##El input es 64*64*3 debido a que las imágenes son de tamaño 64*64 y están en formato RGB.\n",
        "model.add(layers.Dense(16, activation='relu'))\n",
        "model.add(layers.Dense(1, activation='sigmoid'))   # 1 salida: es una expresion feliz o no\n",
        "optimizer = keras.optimizers.Adam(learning_rate=0.001,ema_momentum=0.9)\n",
        "model.compile(optimizer=optimizer,loss='binary_crossentropy', metrics=['acc'])\n",
        "\n",
        "model.summary()\n",
        "\n",
        "model.fit(train_set_x, train_set_y[0], batch_size=16, epochs=30) #, validation_split=0.2)"
      ],
      "metadata": {
        "colab": {
          "base_uri": "https://localhost:8080/"
        },
        "id": "DbEDCHJechQm",
        "outputId": "1407156f-698b-48df-b1c0-bbf339829a98"
      },
      "execution_count": null,
      "outputs": [
        {
          "output_type": "stream",
          "name": "stdout",
          "text": [
            "Model: \"sequential_21\"\n",
            "_________________________________________________________________\n",
            " Layer (type)                Output Shape              Param #   \n",
            "=================================================================\n",
            " dense_63 (Dense)            (None, 16)                196624    \n",
            "                                                                 \n",
            " dense_64 (Dense)            (None, 16)                272       \n",
            "                                                                 \n",
            " dense_65 (Dense)            (None, 1)                 17        \n",
            "                                                                 \n",
            "=================================================================\n",
            "Total params: 196913 (769.19 KB)\n",
            "Trainable params: 196913 (769.19 KB)\n",
            "Non-trainable params: 0 (0.00 Byte)\n",
            "_________________________________________________________________\n",
            "Epoch 1/30\n",
            "38/38 [==============================] - 2s 4ms/step - loss: 2.0595 - acc: 0.5517\n",
            "Epoch 2/30\n",
            "38/38 [==============================] - 0s 4ms/step - loss: 0.7223 - acc: 0.6267\n",
            "Epoch 3/30\n",
            "38/38 [==============================] - 0s 4ms/step - loss: 0.4614 - acc: 0.7750\n",
            "Epoch 4/30\n",
            "38/38 [==============================] - 0s 4ms/step - loss: 0.3892 - acc: 0.8150\n",
            "Epoch 5/30\n",
            "38/38 [==============================] - 0s 4ms/step - loss: 0.3842 - acc: 0.8267\n",
            "Epoch 6/30\n",
            "38/38 [==============================] - 0s 5ms/step - loss: 0.2799 - acc: 0.8733\n",
            "Epoch 7/30\n",
            "38/38 [==============================] - 0s 4ms/step - loss: 0.1918 - acc: 0.9283\n",
            "Epoch 8/30\n",
            "38/38 [==============================] - 0s 4ms/step - loss: 0.3883 - acc: 0.8267\n",
            "Epoch 9/30\n",
            "38/38 [==============================] - 0s 4ms/step - loss: 0.1887 - acc: 0.9283\n",
            "Epoch 10/30\n",
            "38/38 [==============================] - 0s 4ms/step - loss: 0.2727 - acc: 0.8800\n",
            "Epoch 11/30\n",
            "38/38 [==============================] - 0s 4ms/step - loss: 0.1441 - acc: 0.9433\n",
            "Epoch 12/30\n",
            "38/38 [==============================] - 0s 5ms/step - loss: 0.1451 - acc: 0.9517\n",
            "Epoch 13/30\n",
            "38/38 [==============================] - 0s 5ms/step - loss: 0.1773 - acc: 0.9267\n",
            "Epoch 14/30\n",
            "38/38 [==============================] - 0s 5ms/step - loss: 0.2390 - acc: 0.9083\n",
            "Epoch 15/30\n",
            "38/38 [==============================] - 0s 5ms/step - loss: 0.2059 - acc: 0.9133\n",
            "Epoch 16/30\n",
            "38/38 [==============================] - 0s 5ms/step - loss: 0.1404 - acc: 0.9450\n",
            "Epoch 17/30\n",
            "38/38 [==============================] - 0s 8ms/step - loss: 0.0892 - acc: 0.9717\n",
            "Epoch 18/30\n",
            "38/38 [==============================] - 0s 9ms/step - loss: 0.0833 - acc: 0.9717\n",
            "Epoch 19/30\n",
            "38/38 [==============================] - 0s 10ms/step - loss: 0.2568 - acc: 0.8833\n",
            "Epoch 20/30\n",
            "38/38 [==============================] - 0s 9ms/step - loss: 0.1347 - acc: 0.9500\n",
            "Epoch 21/30\n",
            "38/38 [==============================] - 0s 12ms/step - loss: 0.3123 - acc: 0.8933\n",
            "Epoch 22/30\n",
            "38/38 [==============================] - 1s 17ms/step - loss: 0.1089 - acc: 0.9667\n",
            "Epoch 23/30\n",
            "38/38 [==============================] - 1s 14ms/step - loss: 0.2127 - acc: 0.9033\n",
            "Epoch 24/30\n",
            "38/38 [==============================] - 1s 16ms/step - loss: 0.0881 - acc: 0.9667\n",
            "Epoch 25/30\n",
            "38/38 [==============================] - 1s 15ms/step - loss: 0.0758 - acc: 0.9783\n",
            "Epoch 26/30\n",
            "38/38 [==============================] - 0s 12ms/step - loss: 0.1847 - acc: 0.9250\n",
            "Epoch 27/30\n",
            "38/38 [==============================] - 1s 17ms/step - loss: 0.0873 - acc: 0.9767\n",
            "Epoch 28/30\n",
            "38/38 [==============================] - 0s 9ms/step - loss: 0.0691 - acc: 0.9833\n",
            "Epoch 29/30\n",
            "38/38 [==============================] - 0s 10ms/step - loss: 0.0905 - acc: 0.9650\n",
            "Epoch 30/30\n",
            "38/38 [==============================] - 0s 10ms/step - loss: 0.2468 - acc: 0.8950\n"
          ]
        },
        {
          "output_type": "execute_result",
          "data": {
            "text/plain": [
              "<keras.src.callbacks.History at 0x7a76beaa6e30>"
            ]
          },
          "metadata": {},
          "execution_count": 101
        }
      ]
    },
    {
      "cell_type": "code",
      "source": [
        "test_loss, test_acc = model.evaluate(test_set_x, test_set_y[0])\n",
        "print('test_acc:', test_acc)"
      ],
      "metadata": {
        "colab": {
          "base_uri": "https://localhost:8080/"
        },
        "id": "TdZ5srKCi5Bs",
        "outputId": "708958b2-a2cc-4cbd-812c-b0a25bea0cf0"
      },
      "execution_count": null,
      "outputs": [
        {
          "output_type": "stream",
          "name": "stdout",
          "text": [
            "5/5 [==============================] - 0s 7ms/step - loss: 0.1905 - acc: 0.9200\n",
            "test_acc: 0.9200000166893005\n"
          ]
        }
      ]
    },
    {
      "cell_type": "markdown",
      "source": [
        "Calculating the bias, variance and overfitting for the train and the test set:"
      ],
      "metadata": {
        "id": "vkgtzysQuZ-h"
      }
    },
    {
      "cell_type": "code",
      "source": [
        "import sklearn.metrics as metrics\n",
        "\n",
        "y_pred_train = model.predict(train_set_x)\n",
        "y_true_train = train_set_y[0]\n",
        "\n",
        "bias_train = metrics.mean_squared_error(y_true_train, y_pred_train)\n",
        "variance_train = np.var(y_pred_train)\n",
        "overfitting_train = bias_train + variance_train\n",
        "\n",
        "y_pred_test = model.predict(test_set_x)\n",
        "y_true_test = test_set_y[0]\n",
        "\n",
        "bias_test = metrics.mean_squared_error(y_true_test, y_pred_test)\n",
        "variance_test = np.var(y_pred_test)\n",
        "overfitting_test = bias_test + variance_test\n",
        "\n",
        "# Print the results\n",
        "print(\"Train bias:\", bias_train)\n",
        "print(\"Train variance:\", variance_train)\n",
        "print(\"Train overfitting:\", overfitting_train)\n",
        "\n",
        "print(\"Test bias:\", bias_test)\n",
        "print(\"Test variance:\", variance_test)\n",
        "print(\"Test overfitting:\", overfitting_test)\n"
      ],
      "metadata": {
        "id": "-ycfIrcmlnWr",
        "colab": {
          "base_uri": "https://localhost:8080/"
        },
        "outputId": "597ba4c3-13ea-4aa0-89ce-6390e6e1243d"
      },
      "execution_count": null,
      "outputs": [
        {
          "output_type": "stream",
          "name": "stdout",
          "text": [
            "19/19 [==============================] - 0s 2ms/step\n",
            "5/5 [==============================] - 0s 3ms/step\n",
            "Train bias: 0.0269389370711917\n",
            "Train variance: 0.21123534\n",
            "Train overfitting: 0.23817428148113434\n",
            "Test bias: 0.05905292188558294\n",
            "Test variance: 0.19085905\n",
            "Test overfitting: 0.24991197144422247\n"
          ]
        }
      ]
    },
    {
      "cell_type": "markdown",
      "source": [
        "The results show that the bias for the train and the test set are very low."
      ],
      "metadata": {
        "id": "7lGdmyil6RGD"
      }
    },
    {
      "cell_type": "code",
      "source": [
        "def create_model(init_mode='uniform'):\n",
        "  model = Sequential()\n",
        "  model.add(layers.Dense(16,kernel_initializer=init_mode,activation='relu', input_shape=(64 * 64 * 3,)))     ##El input es 64*64*3 debido a que las imágenes son de tamaño 64*64 y están en formato RGB.\n",
        "  model.add(layers.Dense(16,kernel_initializer=init_mode, activation='relu'))\n",
        "  model.add(layers.Dense(1,kernel_initializer=init_mode,activation='sigmoid'))   # 1 salida: es una expresion feliz o no\n",
        "  optimizer = keras.optimizers.Adam(learning_rate=0.01,ema_momentum=0.4)\n",
        "  model.compile(optimizer=optimizer,loss='binary_crossentropy', metrics=['acc'])\n",
        "  return model\n",
        "\n",
        "# create model\n",
        "model = KerasClassifier(model=create_model, epochs=100, batch_size=10, verbose=0)\n",
        "# define the grid search parameters\n",
        "init_mode = ['uniform', 'lecun_uniform', 'normal', 'zero', 'glorot_normal', 'glorot_uniform', 'he_normal', 'he_uniform']\n",
        "param_grid = dict(model__init_mode=init_mode)\n",
        "grid = GridSearchCV(estimator=model, param_grid=param_grid, n_jobs=-1, cv=3)\n",
        "grid_result = grid.fit(train_set_x, train_set_y[0])\n",
        "# summarize results\n",
        "print(\"Best: %f using %s\" % (grid_result.best_score_, grid_result.best_params_))\n",
        "means = grid_result.cv_results_['mean_test_score']\n",
        "stds = grid_result.cv_results_['std_test_score']\n",
        "params = grid_result.cv_results_['params']\n",
        "for mean, stdev, param in zip(means, stds, params):\n",
        "    print(\"%f (%f) with: %r\" % (mean, stdev, param))"
      ],
      "metadata": {
        "colab": {
          "base_uri": "https://localhost:8080/"
        },
        "id": "IWwJfbd-ncK8",
        "outputId": "62d2087f-63cc-4835-cfb9-95d085da9538"
      },
      "execution_count": null,
      "outputs": [
        {
          "output_type": "stream",
          "name": "stderr",
          "text": [
            "/usr/local/lib/python3.10/dist-packages/joblib/externals/loky/process_executor.py:752: UserWarning: A worker stopped while some jobs were given to the executor. This can be caused by a too short worker timeout or by a memory leak.\n",
            "  warnings.warn(\n",
            "/usr/local/lib/python3.10/dist-packages/joblib/externals/loky/backend/fork_exec.py:38: RuntimeWarning: os.fork() was called. os.fork() is incompatible with multithreaded code, and JAX is multithreaded, so this will likely lead to a deadlock.\n",
            "  pid = os.fork()\n"
          ]
        },
        {
          "output_type": "stream",
          "name": "stdout",
          "text": [
            "Best: 0.655000 using {'model__init_mode': 'glorot_normal'}\n",
            "0.500000 (0.000000) with: {'model__init_mode': 'uniform'}\n",
            "0.500000 (0.000000) with: {'model__init_mode': 'lecun_uniform'}\n",
            "0.500000 (0.000000) with: {'model__init_mode': 'normal'}\n",
            "0.500000 (0.000000) with: {'model__init_mode': 'zero'}\n",
            "0.655000 (0.219203) with: {'model__init_mode': 'glorot_normal'}\n",
            "0.500000 (0.000000) with: {'model__init_mode': 'glorot_uniform'}\n",
            "0.500000 (0.000000) with: {'model__init_mode': 'he_normal'}\n",
            "0.655000 (0.219203) with: {'model__init_mode': 'he_uniform'}\n"
          ]
        }
      ]
    },
    {
      "cell_type": "code",
      "source": [
        "model = Sequential()\n",
        "model.add(layers.Dense(16,kernel_initializer='glorot_normal', activation='relu', input_shape=(64 * 64 * 3,)))     ##El input es 64*64*3 debido a que las imágenes son de tamaño 64*64 y están en formato RGB.\n",
        "model.add(layers.Dense(16, kernel_initializer='glorot_normal',activation='relu'))\n",
        "model.add(layers.Dense(1,kernel_initializer='glorot_normal', activation='sigmoid'))   # 1 salida: es una expresion feliz o no\n",
        "optimizer = keras.optimizers.Adam(learning_rate=0.001,ema_momentum=0.9)\n",
        "model.compile(optimizer=optimizer,loss='binary_crossentropy', metrics=['acc'])\n",
        "\n",
        "model.summary()\n",
        "\n",
        "model.fit(train_set_x, train_set_y[0], batch_size=16, epochs=30) #, validation_split=0.2)"
      ],
      "metadata": {
        "colab": {
          "base_uri": "https://localhost:8080/"
        },
        "id": "bOLDDulYqfe6",
        "outputId": "3f9596d1-78b7-43d7-ae01-fd9149555ed9"
      },
      "execution_count": null,
      "outputs": [
        {
          "output_type": "stream",
          "name": "stdout",
          "text": [
            "Model: \"sequential_29\"\n",
            "_________________________________________________________________\n",
            " Layer (type)                Output Shape              Param #   \n",
            "=================================================================\n",
            " dense_87 (Dense)            (None, 16)                196624    \n",
            "                                                                 \n",
            " dense_88 (Dense)            (None, 16)                272       \n",
            "                                                                 \n",
            " dense_89 (Dense)            (None, 1)                 17        \n",
            "                                                                 \n",
            "=================================================================\n",
            "Total params: 196913 (769.19 KB)\n",
            "Trainable params: 196913 (769.19 KB)\n",
            "Non-trainable params: 0 (0.00 Byte)\n",
            "_________________________________________________________________\n",
            "Epoch 1/30\n",
            "38/38 [==============================] - 1s 7ms/step - loss: 0.7064 - acc: 0.5817\n",
            "Epoch 2/30\n",
            "38/38 [==============================] - 0s 7ms/step - loss: 0.6673 - acc: 0.5817\n",
            "Epoch 3/30\n",
            "38/38 [==============================] - 0s 7ms/step - loss: 0.5210 - acc: 0.7250\n",
            "Epoch 4/30\n",
            "38/38 [==============================] - 0s 7ms/step - loss: 0.4477 - acc: 0.7967\n",
            "Epoch 5/30\n",
            "38/38 [==============================] - 0s 8ms/step - loss: 0.4009 - acc: 0.8250\n",
            "Epoch 6/30\n",
            "38/38 [==============================] - 0s 5ms/step - loss: 0.3683 - acc: 0.8683\n",
            "Epoch 7/30\n",
            "38/38 [==============================] - 0s 4ms/step - loss: 0.3227 - acc: 0.8767\n",
            "Epoch 8/30\n",
            "38/38 [==============================] - 0s 5ms/step - loss: 0.3023 - acc: 0.8850\n",
            "Epoch 9/30\n",
            "38/38 [==============================] - 0s 5ms/step - loss: 0.2657 - acc: 0.9133\n",
            "Epoch 10/30\n",
            "38/38 [==============================] - 0s 4ms/step - loss: 0.2732 - acc: 0.8950\n",
            "Epoch 11/30\n",
            "38/38 [==============================] - 0s 4ms/step - loss: 0.2142 - acc: 0.9317\n",
            "Epoch 12/30\n",
            "38/38 [==============================] - 0s 4ms/step - loss: 0.1869 - acc: 0.9467\n",
            "Epoch 13/30\n",
            "38/38 [==============================] - 0s 4ms/step - loss: 0.1917 - acc: 0.9417\n",
            "Epoch 14/30\n",
            "38/38 [==============================] - 0s 4ms/step - loss: 0.2099 - acc: 0.9283\n",
            "Epoch 15/30\n",
            "38/38 [==============================] - 0s 4ms/step - loss: 0.1736 - acc: 0.9383\n",
            "Epoch 16/30\n",
            "38/38 [==============================] - 0s 4ms/step - loss: 0.1494 - acc: 0.9500\n",
            "Epoch 17/30\n",
            "38/38 [==============================] - 0s 4ms/step - loss: 0.1652 - acc: 0.9467\n",
            "Epoch 18/30\n",
            "38/38 [==============================] - 0s 4ms/step - loss: 0.1695 - acc: 0.9333\n",
            "Epoch 19/30\n",
            "38/38 [==============================] - 0s 4ms/step - loss: 0.1456 - acc: 0.9400\n",
            "Epoch 20/30\n",
            "38/38 [==============================] - 0s 4ms/step - loss: 0.1379 - acc: 0.9583\n",
            "Epoch 21/30\n",
            "38/38 [==============================] - 0s 4ms/step - loss: 0.1046 - acc: 0.9783\n",
            "Epoch 22/30\n",
            "38/38 [==============================] - 0s 4ms/step - loss: 0.1231 - acc: 0.9617\n",
            "Epoch 23/30\n",
            "38/38 [==============================] - 0s 4ms/step - loss: 0.1035 - acc: 0.9717\n",
            "Epoch 24/30\n",
            "38/38 [==============================] - 0s 5ms/step - loss: 0.1181 - acc: 0.9600\n",
            "Epoch 25/30\n",
            "38/38 [==============================] - 0s 5ms/step - loss: 0.1078 - acc: 0.9717\n",
            "Epoch 26/30\n",
            "38/38 [==============================] - 0s 5ms/step - loss: 0.0880 - acc: 0.9783\n",
            "Epoch 27/30\n",
            "38/38 [==============================] - 0s 5ms/step - loss: 0.0959 - acc: 0.9700\n",
            "Epoch 28/30\n",
            "38/38 [==============================] - 0s 5ms/step - loss: 0.1056 - acc: 0.9550\n",
            "Epoch 29/30\n",
            "38/38 [==============================] - 0s 4ms/step - loss: 0.1378 - acc: 0.9483\n",
            "Epoch 30/30\n",
            "38/38 [==============================] - 0s 4ms/step - loss: 0.0827 - acc: 0.9750\n"
          ]
        },
        {
          "output_type": "execute_result",
          "data": {
            "text/plain": [
              "<keras.src.callbacks.History at 0x7a764135f220>"
            ]
          },
          "metadata": {},
          "execution_count": 116
        }
      ]
    },
    {
      "cell_type": "code",
      "source": [
        "test_loss, test_acc = model.evaluate(test_set_x, test_set_y[0])\n",
        "print('test_acc:', test_acc)"
      ],
      "metadata": {
        "colab": {
          "base_uri": "https://localhost:8080/"
        },
        "id": "9B1jB7BsqvKS",
        "outputId": "d21992ae-5198-4ce6-cdc2-60f78f11d6cf"
      },
      "execution_count": null,
      "outputs": [
        {
          "output_type": "stream",
          "name": "stdout",
          "text": [
            "5/5 [==============================] - 0s 3ms/step - loss: 0.1458 - acc: 0.9533\n",
            "test_acc: 0.95333331823349\n"
          ]
        }
      ]
    },
    {
      "cell_type": "code",
      "source": [
        "# Function to create model, required for KerasClassifier\n",
        "def create_model(activation='relu'):\n",
        "  model = Sequential()\n",
        "  model.add(layers.Dense(16,kernel_initializer='glorot_normal', activation=activation, input_shape=(64 * 64 * 3,)))     ##El input es 64*64*3 debido a que las imágenes son de tamaño 64*64 y están en formato RGB.\n",
        "  model.add(layers.Dense(16, kernel_initializer='glorot_normal',activation=activation))\n",
        "  model.add(layers.Dense(1,kernel_initializer='glorot_normal', activation='sigmoid'))   # 1 salida: es una expresion feliz o no\n",
        "  optimizer = keras.optimizers.Adam(learning_rate=0.001,ema_momentum=0.9)\n",
        "  model.compile(optimizer=optimizer,loss='binary_crossentropy', metrics=['acc'])\n",
        "  return model\n",
        "\n",
        "# create model\n",
        "model = KerasClassifier(model=create_model, epochs=30, batch_size=16, verbose=0)\n",
        "# define the grid search parameters\n",
        "activation = ['softmax', 'softplus', 'softsign', 'relu', 'tanh', 'sigmoid', 'hard_sigmoid', 'linear']\n",
        "param_grid = dict(model__activation=activation)\n",
        "grid = GridSearchCV(estimator=model, param_grid=param_grid, n_jobs=-1, cv=3)\n",
        "grid_result = grid.fit(train_set_x, train_set_y[0])\n",
        "# summarize results\n",
        "print(\"Best: %f using %s\" % (grid_result.best_score_, grid_result.best_params_))\n",
        "means = grid_result.cv_results_['mean_test_score']\n",
        "stds = grid_result.cv_results_['std_test_score']\n",
        "params = grid_result.cv_results_['params']\n",
        "for mean, stdev, param in zip(means, stds, params):\n",
        "    print(\"%f (%f) with: %r\" % (mean, stdev, param))"
      ],
      "metadata": {
        "colab": {
          "base_uri": "https://localhost:8080/"
        },
        "id": "BE2b-5W4rzyt",
        "outputId": "ef26e9c7-cbe4-4f8f-ef8e-5dc39b100dea"
      },
      "execution_count": null,
      "outputs": [
        {
          "output_type": "stream",
          "name": "stderr",
          "text": [
            "/usr/local/lib/python3.10/dist-packages/joblib/externals/loky/backend/fork_exec.py:38: RuntimeWarning: os.fork() was called. os.fork() is incompatible with multithreaded code, and JAX is multithreaded, so this will likely lead to a deadlock.\n",
            "  pid = os.fork()\n"
          ]
        },
        {
          "output_type": "stream",
          "name": "stdout",
          "text": [
            "Best: 0.936667 using {'model__activation': 'linear'}\n",
            "0.500000 (0.000000) with: {'model__activation': 'softmax'}\n",
            "0.930000 (0.035590) with: {'model__activation': 'softplus'}\n",
            "0.500000 (0.000000) with: {'model__activation': 'softsign'}\n",
            "0.901667 (0.020548) with: {'model__activation': 'relu'}\n",
            "0.500000 (0.000000) with: {'model__activation': 'tanh'}\n",
            "0.500000 (0.000000) with: {'model__activation': 'sigmoid'}\n",
            "0.500000 (0.000000) with: {'model__activation': 'hard_sigmoid'}\n",
            "0.936667 (0.036591) with: {'model__activation': 'linear'}\n"
          ]
        }
      ]
    },
    {
      "cell_type": "code",
      "source": [
        "from keras.constraints import MaxNorm\n",
        "\n",
        "# Function to create model, required for KerasClassifier\n",
        "def create_model(dropout_rate, weight_constraint):\n",
        "  model = Sequential()\n",
        "  model.add(layers.Dense(16,kernel_initializer='glorot_normal', activation='linear', kernel_constraint=MaxNorm(weight_constraint),input_shape=(64 * 64 * 3,)))     ##El input es 64*64*3 debido a que las imágenes son de tamaño 64*64 y están en formato RGB.\n",
        "  model.add(Dropout(dropout_rate))\n",
        "  model.add(layers.Dense(16, kernel_initializer='glorot_normal',activation='linear'))\n",
        "  model.add(Dropout(dropout_rate))\n",
        "  model.add(layers.Dense(1,kernel_initializer='glorot_normal', activation='sigmoid'))   # 1 salida: es una expresion feliz o no\n",
        "  optimizer = keras.optimizers.Adam(learning_rate=0.001,ema_momentum=0.9)\n",
        "  model.compile(optimizer=optimizer,loss='binary_crossentropy', metrics=['acc'])\n",
        "  return model\n",
        "\n",
        "# create model\n",
        "model = KerasClassifier(model=create_model, epochs=30, batch_size=16, verbose=0)\n",
        "# define the grid search parameters\n",
        "weight_constraint = [1.0, 2.0, 3.0, 4.0, 5.0]\n",
        "dropout_rate = [0.0, 0.1, 0.2, 0.3, 0.4, 0.5, 0.6, 0.7, 0.8, 0.9]\n",
        "param_grid = dict(model__dropout_rate=dropout_rate, model__weight_constraint=weight_constraint)\n",
        "#param_grid = dict(model__dropout_rate=dropout_rate)\n",
        "grid = GridSearchCV(estimator=model, param_grid=param_grid, n_jobs=-1, cv=3)\n",
        "grid_result = grid.fit(train_set_x, train_set_y[0])\n",
        "# summarize results\n",
        "print(\"Best: %f using %s\" % (grid_result.best_score_, grid_result.best_params_))\n",
        "means = grid_result.cv_results_['mean_test_score']\n",
        "stds = grid_result.cv_results_['std_test_score']\n",
        "params = grid_result.cv_results_['params']\n",
        "for mean, stdev, param in zip(means, stds, params):\n",
        "    print(\"%f (%f) with: %r\" % (mean, stdev, param))"
      ],
      "metadata": {
        "colab": {
          "base_uri": "https://localhost:8080/"
        },
        "id": "uH7zK_Sksz99",
        "outputId": "a444923c-01d5-43ae-a04e-ec8877a8a424"
      },
      "execution_count": null,
      "outputs": [
        {
          "output_type": "stream",
          "name": "stderr",
          "text": [
            "/usr/local/lib/python3.10/dist-packages/joblib/externals/loky/process_executor.py:752: UserWarning: A worker stopped while some jobs were given to the executor. This can be caused by a too short worker timeout or by a memory leak.\n",
            "  warnings.warn(\n",
            "/usr/local/lib/python3.10/dist-packages/joblib/externals/loky/backend/fork_exec.py:38: RuntimeWarning: os.fork() was called. os.fork() is incompatible with multithreaded code, and JAX is multithreaded, so this will likely lead to a deadlock.\n",
            "  pid = os.fork()\n"
          ]
        },
        {
          "output_type": "stream",
          "name": "stdout",
          "text": [
            "Best: 0.950000 using {'model__dropout_rate': 0.3, 'model__weight_constraint': 4.0}\n",
            "0.918333 (0.045522) with: {'model__dropout_rate': 0.0, 'model__weight_constraint': 1.0}\n",
            "0.941667 (0.015456) with: {'model__dropout_rate': 0.0, 'model__weight_constraint': 2.0}\n",
            "0.945000 (0.021213) with: {'model__dropout_rate': 0.0, 'model__weight_constraint': 3.0}\n",
            "0.931667 (0.043653) with: {'model__dropout_rate': 0.0, 'model__weight_constraint': 4.0}\n",
            "0.946667 (0.025927) with: {'model__dropout_rate': 0.0, 'model__weight_constraint': 5.0}\n",
            "0.868333 (0.088726) with: {'model__dropout_rate': 0.1, 'model__weight_constraint': 1.0}\n",
            "0.898333 (0.044783) with: {'model__dropout_rate': 0.1, 'model__weight_constraint': 2.0}\n",
            "0.900000 (0.064161) with: {'model__dropout_rate': 0.1, 'model__weight_constraint': 3.0}\n",
            "0.898333 (0.042492) with: {'model__dropout_rate': 0.1, 'model__weight_constraint': 4.0}\n",
            "0.916667 (0.054365) with: {'model__dropout_rate': 0.1, 'model__weight_constraint': 5.0}\n",
            "0.861667 (0.034721) with: {'model__dropout_rate': 0.2, 'model__weight_constraint': 1.0}\n",
            "0.908333 (0.033250) with: {'model__dropout_rate': 0.2, 'model__weight_constraint': 2.0}\n",
            "0.941667 (0.022485) with: {'model__dropout_rate': 0.2, 'model__weight_constraint': 3.0}\n",
            "0.863333 (0.075535) with: {'model__dropout_rate': 0.2, 'model__weight_constraint': 4.0}\n",
            "0.948333 (0.024944) with: {'model__dropout_rate': 0.2, 'model__weight_constraint': 5.0}\n",
            "0.858333 (0.081069) with: {'model__dropout_rate': 0.3, 'model__weight_constraint': 1.0}\n",
            "0.950000 (0.016330) with: {'model__dropout_rate': 0.3, 'model__weight_constraint': 2.0}\n",
            "0.915000 (0.036286) with: {'model__dropout_rate': 0.3, 'model__weight_constraint': 3.0}\n",
            "0.950000 (0.010801) with: {'model__dropout_rate': 0.3, 'model__weight_constraint': 4.0}\n",
            "0.780000 (0.170147) with: {'model__dropout_rate': 0.3, 'model__weight_constraint': 5.0}\n",
            "0.915000 (0.012247) with: {'model__dropout_rate': 0.4, 'model__weight_constraint': 1.0}\n",
            "0.926667 (0.030641) with: {'model__dropout_rate': 0.4, 'model__weight_constraint': 2.0}\n",
            "0.933333 (0.015456) with: {'model__dropout_rate': 0.4, 'model__weight_constraint': 3.0}\n",
            "0.926667 (0.022485) with: {'model__dropout_rate': 0.4, 'model__weight_constraint': 4.0}\n",
            "0.905000 (0.062849) with: {'model__dropout_rate': 0.4, 'model__weight_constraint': 5.0}\n",
            "0.896667 (0.014337) with: {'model__dropout_rate': 0.5, 'model__weight_constraint': 1.0}\n",
            "0.901667 (0.041700) with: {'model__dropout_rate': 0.5, 'model__weight_constraint': 2.0}\n",
            "0.935000 (0.021213) with: {'model__dropout_rate': 0.5, 'model__weight_constraint': 3.0}\n",
            "0.943333 (0.006236) with: {'model__dropout_rate': 0.5, 'model__weight_constraint': 4.0}\n",
            "0.886667 (0.053125) with: {'model__dropout_rate': 0.5, 'model__weight_constraint': 5.0}\n",
            "0.906667 (0.023570) with: {'model__dropout_rate': 0.6, 'model__weight_constraint': 1.0}\n",
            "0.826667 (0.081069) with: {'model__dropout_rate': 0.6, 'model__weight_constraint': 2.0}\n",
            "0.906667 (0.032998) with: {'model__dropout_rate': 0.6, 'model__weight_constraint': 3.0}\n",
            "0.885000 (0.081343) with: {'model__dropout_rate': 0.6, 'model__weight_constraint': 4.0}\n",
            "0.931667 (0.020548) with: {'model__dropout_rate': 0.6, 'model__weight_constraint': 5.0}\n",
            "0.865000 (0.065320) with: {'model__dropout_rate': 0.7, 'model__weight_constraint': 1.0}\n",
            "0.826667 (0.078775) with: {'model__dropout_rate': 0.7, 'model__weight_constraint': 2.0}\n",
            "0.841667 (0.086249) with: {'model__dropout_rate': 0.7, 'model__weight_constraint': 3.0}\n",
            "0.861667 (0.037044) with: {'model__dropout_rate': 0.7, 'model__weight_constraint': 4.0}\n",
            "0.871667 (0.027183) with: {'model__dropout_rate': 0.7, 'model__weight_constraint': 5.0}\n",
            "0.825000 (0.041433) with: {'model__dropout_rate': 0.8, 'model__weight_constraint': 1.0}\n",
            "0.838333 (0.022485) with: {'model__dropout_rate': 0.8, 'model__weight_constraint': 2.0}\n",
            "0.835000 (0.036742) with: {'model__dropout_rate': 0.8, 'model__weight_constraint': 3.0}\n",
            "0.861667 (0.014337) with: {'model__dropout_rate': 0.8, 'model__weight_constraint': 4.0}\n",
            "0.846667 (0.020138) with: {'model__dropout_rate': 0.8, 'model__weight_constraint': 5.0}\n",
            "0.561667 (0.073068) with: {'model__dropout_rate': 0.9, 'model__weight_constraint': 1.0}\n",
            "0.741667 (0.040277) with: {'model__dropout_rate': 0.9, 'model__weight_constraint': 2.0}\n",
            "0.750000 (0.033417) with: {'model__dropout_rate': 0.9, 'model__weight_constraint': 3.0}\n",
            "0.671667 (0.084097) with: {'model__dropout_rate': 0.9, 'model__weight_constraint': 4.0}\n",
            "0.693333 (0.086538) with: {'model__dropout_rate': 0.9, 'model__weight_constraint': 5.0}\n"
          ]
        }
      ]
    },
    {
      "cell_type": "code",
      "source": [
        "model = Sequential()\n",
        "model.add(layers.Dense(16,kernel_initializer='glorot_normal', activation='relu',kernel_constraint=4.0, input_shape=(64 * 64 * 3,)))     ##El input es 64*64*3 debido a que las imágenes son de tamaño 64*64 y están en formato RGB.\n",
        "model.add(Dropout(0.3))\n",
        "model.add(layers.Dense(16, kernel_initializer='glorot_normal',activation='relu',kernel_constraint=3.0))\n",
        "model.add(Dropout(0.2))\n",
        "model.add(layers.Dense(1,kernel_initializer='glorot_normal', activation='sigmoid'))   # 1 salida: es una expresion feliz o no\n",
        "optimizer = keras.optimizers.Adam(learning_rate=0.001,ema_momentum=0.9)\n",
        "model.compile(optimizer=optimizer,loss='binary_crossentropy', metrics=['acc'])\n",
        "\n",
        "model.summary()\n",
        "\n",
        "model.fit(train_set_x, train_set_y[0], batch_size=16, epochs=30) #, validation_split=0.2)"
      ],
      "metadata": {
        "colab": {
          "base_uri": "https://localhost:8080/",
          "height": 391
        },
        "id": "h8Aug8Q_uwVv",
        "outputId": "67201f3a-e8ec-4e66-beac-4e5a174fdb40"
      },
      "execution_count": null,
      "outputs": [
        {
          "output_type": "error",
          "ename": "ValueError",
          "evalue": "Could not interpret constraint function identifier: 4.0",
          "traceback": [
            "\u001b[0;31m---------------------------------------------------------------------------\u001b[0m",
            "\u001b[0;31mValueError\u001b[0m                                Traceback (most recent call last)",
            "\u001b[0;32m<ipython-input-122-21b4dbf51afa>\u001b[0m in \u001b[0;36m<cell line: 2>\u001b[0;34m()\u001b[0m\n\u001b[1;32m      1\u001b[0m \u001b[0mmodel\u001b[0m \u001b[0;34m=\u001b[0m \u001b[0mSequential\u001b[0m\u001b[0;34m(\u001b[0m\u001b[0;34m)\u001b[0m\u001b[0;34m\u001b[0m\u001b[0;34m\u001b[0m\u001b[0m\n\u001b[0;32m----> 2\u001b[0;31m \u001b[0mmodel\u001b[0m\u001b[0;34m.\u001b[0m\u001b[0madd\u001b[0m\u001b[0;34m(\u001b[0m\u001b[0mlayers\u001b[0m\u001b[0;34m.\u001b[0m\u001b[0mDense\u001b[0m\u001b[0;34m(\u001b[0m\u001b[0;36m16\u001b[0m\u001b[0;34m,\u001b[0m\u001b[0mkernel_initializer\u001b[0m\u001b[0;34m=\u001b[0m\u001b[0;34m'glorot_normal'\u001b[0m\u001b[0;34m,\u001b[0m \u001b[0mactivation\u001b[0m\u001b[0;34m=\u001b[0m\u001b[0;34m'relu'\u001b[0m\u001b[0;34m,\u001b[0m\u001b[0mkernel_constraint\u001b[0m\u001b[0;34m=\u001b[0m\u001b[0;36m4.0\u001b[0m\u001b[0;34m,\u001b[0m \u001b[0minput_shape\u001b[0m\u001b[0;34m=\u001b[0m\u001b[0;34m(\u001b[0m\u001b[0;36m64\u001b[0m \u001b[0;34m*\u001b[0m \u001b[0;36m64\u001b[0m \u001b[0;34m*\u001b[0m \u001b[0;36m3\u001b[0m\u001b[0;34m,\u001b[0m\u001b[0;34m)\u001b[0m\u001b[0;34m)\u001b[0m\u001b[0;34m)\u001b[0m     \u001b[0;31m##El input es 64*64*3 debido a que las imágenes son de tamaño 64*64 y están en formato RGB.\u001b[0m\u001b[0;34m\u001b[0m\u001b[0;34m\u001b[0m\u001b[0m\n\u001b[0m\u001b[1;32m      3\u001b[0m \u001b[0mmodel\u001b[0m\u001b[0;34m.\u001b[0m\u001b[0madd\u001b[0m\u001b[0;34m(\u001b[0m\u001b[0mDropout\u001b[0m\u001b[0;34m(\u001b[0m\u001b[0;36m0.3\u001b[0m\u001b[0;34m)\u001b[0m\u001b[0;34m)\u001b[0m\u001b[0;34m\u001b[0m\u001b[0;34m\u001b[0m\u001b[0m\n\u001b[1;32m      4\u001b[0m \u001b[0mmodel\u001b[0m\u001b[0;34m.\u001b[0m\u001b[0madd\u001b[0m\u001b[0;34m(\u001b[0m\u001b[0mlayers\u001b[0m\u001b[0;34m.\u001b[0m\u001b[0mDense\u001b[0m\u001b[0;34m(\u001b[0m\u001b[0;36m16\u001b[0m\u001b[0;34m,\u001b[0m \u001b[0mkernel_initializer\u001b[0m\u001b[0;34m=\u001b[0m\u001b[0;34m'glorot_normal'\u001b[0m\u001b[0;34m,\u001b[0m\u001b[0mactivation\u001b[0m\u001b[0;34m=\u001b[0m\u001b[0;34m'relu'\u001b[0m\u001b[0;34m,\u001b[0m\u001b[0mkernel_constraint\u001b[0m\u001b[0;34m=\u001b[0m\u001b[0;36m4.0\u001b[0m\u001b[0;34m)\u001b[0m\u001b[0;34m)\u001b[0m\u001b[0;34m\u001b[0m\u001b[0;34m\u001b[0m\u001b[0m\n\u001b[1;32m      5\u001b[0m \u001b[0mmodel\u001b[0m\u001b[0;34m.\u001b[0m\u001b[0madd\u001b[0m\u001b[0;34m(\u001b[0m\u001b[0mDropout\u001b[0m\u001b[0;34m(\u001b[0m\u001b[0;36m0.3\u001b[0m\u001b[0;34m)\u001b[0m\u001b[0;34m)\u001b[0m\u001b[0;34m\u001b[0m\u001b[0;34m\u001b[0m\u001b[0m\n",
            "\u001b[0;32m/usr/local/lib/python3.10/dist-packages/keras/src/dtensor/utils.py\u001b[0m in \u001b[0;36m_wrap_function\u001b[0;34m(layer_instance, *args, **kwargs)\u001b[0m\n\u001b[1;32m     94\u001b[0m                     \u001b[0mlayout_args\u001b[0m\u001b[0;34m[\u001b[0m\u001b[0mvariable_name\u001b[0m \u001b[0;34m+\u001b[0m \u001b[0;34m\"_layout\"\u001b[0m\u001b[0;34m]\u001b[0m \u001b[0;34m=\u001b[0m \u001b[0mlayout\u001b[0m\u001b[0;34m\u001b[0m\u001b[0;34m\u001b[0m\u001b[0m\n\u001b[1;32m     95\u001b[0m \u001b[0;34m\u001b[0m\u001b[0m\n\u001b[0;32m---> 96\u001b[0;31m         \u001b[0minit_method\u001b[0m\u001b[0;34m(\u001b[0m\u001b[0mlayer_instance\u001b[0m\u001b[0;34m,\u001b[0m \u001b[0;34m*\u001b[0m\u001b[0margs\u001b[0m\u001b[0;34m,\u001b[0m \u001b[0;34m**\u001b[0m\u001b[0mkwargs\u001b[0m\u001b[0;34m)\u001b[0m\u001b[0;34m\u001b[0m\u001b[0;34m\u001b[0m\u001b[0m\n\u001b[0m\u001b[1;32m     97\u001b[0m \u001b[0;34m\u001b[0m\u001b[0m\n\u001b[1;32m     98\u001b[0m         \u001b[0;31m# Inject the layout parameter after the invocation of __init__()\u001b[0m\u001b[0;34m\u001b[0m\u001b[0;34m\u001b[0m\u001b[0m\n",
            "\u001b[0;32m/usr/local/lib/python3.10/dist-packages/keras/src/layers/core/dense.py\u001b[0m in \u001b[0;36m__init__\u001b[0;34m(self, units, activation, use_bias, kernel_initializer, bias_initializer, kernel_regularizer, bias_regularizer, activity_regularizer, kernel_constraint, bias_constraint, **kwargs)\u001b[0m\n\u001b[1;32m    129\u001b[0m         \u001b[0mself\u001b[0m\u001b[0;34m.\u001b[0m\u001b[0mkernel_regularizer\u001b[0m \u001b[0;34m=\u001b[0m \u001b[0mregularizers\u001b[0m\u001b[0;34m.\u001b[0m\u001b[0mget\u001b[0m\u001b[0;34m(\u001b[0m\u001b[0mkernel_regularizer\u001b[0m\u001b[0;34m)\u001b[0m\u001b[0;34m\u001b[0m\u001b[0;34m\u001b[0m\u001b[0m\n\u001b[1;32m    130\u001b[0m         \u001b[0mself\u001b[0m\u001b[0;34m.\u001b[0m\u001b[0mbias_regularizer\u001b[0m \u001b[0;34m=\u001b[0m \u001b[0mregularizers\u001b[0m\u001b[0;34m.\u001b[0m\u001b[0mget\u001b[0m\u001b[0;34m(\u001b[0m\u001b[0mbias_regularizer\u001b[0m\u001b[0;34m)\u001b[0m\u001b[0;34m\u001b[0m\u001b[0;34m\u001b[0m\u001b[0m\n\u001b[0;32m--> 131\u001b[0;31m         \u001b[0mself\u001b[0m\u001b[0;34m.\u001b[0m\u001b[0mkernel_constraint\u001b[0m \u001b[0;34m=\u001b[0m \u001b[0mconstraints\u001b[0m\u001b[0;34m.\u001b[0m\u001b[0mget\u001b[0m\u001b[0;34m(\u001b[0m\u001b[0mkernel_constraint\u001b[0m\u001b[0;34m)\u001b[0m\u001b[0;34m\u001b[0m\u001b[0;34m\u001b[0m\u001b[0m\n\u001b[0m\u001b[1;32m    132\u001b[0m         \u001b[0mself\u001b[0m\u001b[0;34m.\u001b[0m\u001b[0mbias_constraint\u001b[0m \u001b[0;34m=\u001b[0m \u001b[0mconstraints\u001b[0m\u001b[0;34m.\u001b[0m\u001b[0mget\u001b[0m\u001b[0;34m(\u001b[0m\u001b[0mbias_constraint\u001b[0m\u001b[0;34m)\u001b[0m\u001b[0;34m\u001b[0m\u001b[0;34m\u001b[0m\u001b[0m\n\u001b[1;32m    133\u001b[0m \u001b[0;34m\u001b[0m\u001b[0m\n",
            "\u001b[0;32m/usr/local/lib/python3.10/dist-packages/keras/src/constraints.py\u001b[0m in \u001b[0;36mget\u001b[0;34m(identifier)\u001b[0m\n\u001b[1;32m    405\u001b[0m         \u001b[0;32mreturn\u001b[0m \u001b[0midentifier\u001b[0m\u001b[0;34m\u001b[0m\u001b[0;34m\u001b[0m\u001b[0m\n\u001b[1;32m    406\u001b[0m     \u001b[0;32melse\u001b[0m\u001b[0;34m:\u001b[0m\u001b[0;34m\u001b[0m\u001b[0;34m\u001b[0m\u001b[0m\n\u001b[0;32m--> 407\u001b[0;31m         raise ValueError(\n\u001b[0m\u001b[1;32m    408\u001b[0m             \u001b[0;34mf\"Could not interpret constraint function identifier: {identifier}\"\u001b[0m\u001b[0;34m\u001b[0m\u001b[0;34m\u001b[0m\u001b[0m\n\u001b[1;32m    409\u001b[0m         )\n",
            "\u001b[0;31mValueError\u001b[0m: Could not interpret constraint function identifier: 4.0"
          ]
        }
      ]
    },
    {
      "cell_type": "code",
      "source": [
        "test_loss, test_acc = model.evaluate(test_set_x, test_set_y[0])\n",
        "print('test_acc:', test_acc)"
      ],
      "metadata": {
        "colab": {
          "base_uri": "https://localhost:8080/",
          "height": 304
        },
        "id": "6t-B3oYMvJ_F",
        "outputId": "f9239f67-d50b-4926-fd2b-5dc3d220e3f5"
      },
      "execution_count": null,
      "outputs": [
        {
          "output_type": "error",
          "ename": "RuntimeError",
          "evalue": "You must compile your model before training/testing. Use `model.compile(optimizer, loss)`.",
          "traceback": [
            "\u001b[0;31m---------------------------------------------------------------------------\u001b[0m",
            "\u001b[0;31mRuntimeError\u001b[0m                              Traceback (most recent call last)",
            "\u001b[0;32m<ipython-input-123-90c1cc26b42e>\u001b[0m in \u001b[0;36m<cell line: 1>\u001b[0;34m()\u001b[0m\n\u001b[0;32m----> 1\u001b[0;31m \u001b[0mtest_loss\u001b[0m\u001b[0;34m,\u001b[0m \u001b[0mtest_acc\u001b[0m \u001b[0;34m=\u001b[0m \u001b[0mmodel\u001b[0m\u001b[0;34m.\u001b[0m\u001b[0mevaluate\u001b[0m\u001b[0;34m(\u001b[0m\u001b[0mtest_set_x\u001b[0m\u001b[0;34m,\u001b[0m \u001b[0mtest_set_y\u001b[0m\u001b[0;34m[\u001b[0m\u001b[0;36m0\u001b[0m\u001b[0;34m]\u001b[0m\u001b[0;34m)\u001b[0m\u001b[0;34m\u001b[0m\u001b[0;34m\u001b[0m\u001b[0m\n\u001b[0m\u001b[1;32m      2\u001b[0m \u001b[0mprint\u001b[0m\u001b[0;34m(\u001b[0m\u001b[0;34m'test_acc:'\u001b[0m\u001b[0;34m,\u001b[0m \u001b[0mtest_acc\u001b[0m\u001b[0;34m)\u001b[0m\u001b[0;34m\u001b[0m\u001b[0;34m\u001b[0m\u001b[0m\n",
            "\u001b[0;32m/usr/local/lib/python3.10/dist-packages/keras/src/utils/traceback_utils.py\u001b[0m in \u001b[0;36merror_handler\u001b[0;34m(*args, **kwargs)\u001b[0m\n\u001b[1;32m     68\u001b[0m             \u001b[0;31m# To get the full stack trace, call:\u001b[0m\u001b[0;34m\u001b[0m\u001b[0;34m\u001b[0m\u001b[0m\n\u001b[1;32m     69\u001b[0m             \u001b[0;31m# `tf.debugging.disable_traceback_filtering()`\u001b[0m\u001b[0;34m\u001b[0m\u001b[0;34m\u001b[0m\u001b[0m\n\u001b[0;32m---> 70\u001b[0;31m             \u001b[0;32mraise\u001b[0m \u001b[0me\u001b[0m\u001b[0;34m.\u001b[0m\u001b[0mwith_traceback\u001b[0m\u001b[0;34m(\u001b[0m\u001b[0mfiltered_tb\u001b[0m\u001b[0;34m)\u001b[0m \u001b[0;32mfrom\u001b[0m \u001b[0;32mNone\u001b[0m\u001b[0;34m\u001b[0m\u001b[0;34m\u001b[0m\u001b[0m\n\u001b[0m\u001b[1;32m     71\u001b[0m         \u001b[0;32mfinally\u001b[0m\u001b[0;34m:\u001b[0m\u001b[0;34m\u001b[0m\u001b[0;34m\u001b[0m\u001b[0m\n\u001b[1;32m     72\u001b[0m             \u001b[0;32mdel\u001b[0m \u001b[0mfiltered_tb\u001b[0m\u001b[0;34m\u001b[0m\u001b[0;34m\u001b[0m\u001b[0m\n",
            "\u001b[0;32m/usr/local/lib/python3.10/dist-packages/keras/src/engine/training.py\u001b[0m in \u001b[0;36m_assert_compile_was_called\u001b[0;34m(self)\u001b[0m\n\u001b[1;32m   3981\u001b[0m         \u001b[0;31m# (i.e. whether the model is built and its inputs/outputs are set).\u001b[0m\u001b[0;34m\u001b[0m\u001b[0;34m\u001b[0m\u001b[0m\n\u001b[1;32m   3982\u001b[0m         \u001b[0;32mif\u001b[0m \u001b[0;32mnot\u001b[0m \u001b[0mself\u001b[0m\u001b[0;34m.\u001b[0m\u001b[0m_is_compiled\u001b[0m\u001b[0;34m:\u001b[0m\u001b[0;34m\u001b[0m\u001b[0;34m\u001b[0m\u001b[0m\n\u001b[0;32m-> 3983\u001b[0;31m             raise RuntimeError(\n\u001b[0m\u001b[1;32m   3984\u001b[0m                 \u001b[0;34m\"You must compile your model before \"\u001b[0m\u001b[0;34m\u001b[0m\u001b[0;34m\u001b[0m\u001b[0m\n\u001b[1;32m   3985\u001b[0m                 \u001b[0;34m\"training/testing. \"\u001b[0m\u001b[0;34m\u001b[0m\u001b[0;34m\u001b[0m\u001b[0m\n",
            "\u001b[0;31mRuntimeError\u001b[0m: You must compile your model before training/testing. Use `model.compile(optimizer, loss)`."
          ]
        }
      ]
    },
    {
      "cell_type": "code",
      "source": [
        "import sklearn.metrics as metrics\n",
        "\n",
        "y_pred_train = model.predict(train_set_x)\n",
        "y_true_train = train_set_y[0]\n",
        "\n",
        "bias_train = metrics.mean_squared_error(y_true_train, y_pred_train)\n",
        "variance_train = np.var(y_pred_train)\n",
        "overfitting_train = bias_train + variance_train\n",
        "\n",
        "y_pred_test = model.predict(test_set_x)\n",
        "y_true_test = test_set_y[0]\n",
        "\n",
        "bias_test = metrics.mean_squared_error(y_true_test, y_pred_test)\n",
        "variance_test = np.var(y_pred_test)\n",
        "overfitting_test = bias_test + variance_test\n",
        "\n",
        "# Print the results\n",
        "print(\"Train bias:\", bias_train)\n",
        "print(\"Train variance:\", variance_train)\n",
        "print(\"Train overfitting:\", overfitting_train)\n",
        "\n",
        "print(\"Test bias:\", bias_test)\n",
        "print(\"Test variance:\", variance_test)\n",
        "print(\"Test overfitting:\", overfitting_test)"
      ],
      "metadata": {
        "colab": {
          "base_uri": "https://localhost:8080/",
          "height": 391
        },
        "id": "OxuoFszkvOuq",
        "outputId": "99d1cdee-c790-4e3c-dca8-1120597af339"
      },
      "execution_count": null,
      "outputs": [
        {
          "output_type": "stream",
          "name": "stdout",
          "text": [
            "19/19 [==============================] - 0s 2ms/step\n"
          ]
        },
        {
          "output_type": "error",
          "ename": "ValueError",
          "evalue": "y_true and y_pred have different number of output (1!=12288)",
          "traceback": [
            "\u001b[0;31m---------------------------------------------------------------------------\u001b[0m",
            "\u001b[0;31mValueError\u001b[0m                                Traceback (most recent call last)",
            "\u001b[0;32m<ipython-input-124-f368c3a68846>\u001b[0m in \u001b[0;36m<cell line: 6>\u001b[0;34m()\u001b[0m\n\u001b[1;32m      4\u001b[0m \u001b[0my_true_train\u001b[0m \u001b[0;34m=\u001b[0m \u001b[0mtrain_set_y\u001b[0m\u001b[0;34m[\u001b[0m\u001b[0;36m0\u001b[0m\u001b[0;34m]\u001b[0m\u001b[0;34m\u001b[0m\u001b[0;34m\u001b[0m\u001b[0m\n\u001b[1;32m      5\u001b[0m \u001b[0;34m\u001b[0m\u001b[0m\n\u001b[0;32m----> 6\u001b[0;31m \u001b[0mbias_train\u001b[0m \u001b[0;34m=\u001b[0m \u001b[0mmetrics\u001b[0m\u001b[0;34m.\u001b[0m\u001b[0mmean_squared_error\u001b[0m\u001b[0;34m(\u001b[0m\u001b[0my_true_train\u001b[0m\u001b[0;34m,\u001b[0m \u001b[0my_pred_train\u001b[0m\u001b[0;34m)\u001b[0m\u001b[0;34m\u001b[0m\u001b[0;34m\u001b[0m\u001b[0m\n\u001b[0m\u001b[1;32m      7\u001b[0m \u001b[0mvariance_train\u001b[0m \u001b[0;34m=\u001b[0m \u001b[0mnp\u001b[0m\u001b[0;34m.\u001b[0m\u001b[0mvar\u001b[0m\u001b[0;34m(\u001b[0m\u001b[0my_pred_train\u001b[0m\u001b[0;34m)\u001b[0m\u001b[0;34m\u001b[0m\u001b[0;34m\u001b[0m\u001b[0m\n\u001b[1;32m      8\u001b[0m \u001b[0moverfitting_train\u001b[0m \u001b[0;34m=\u001b[0m \u001b[0mbias_train\u001b[0m \u001b[0;34m+\u001b[0m \u001b[0mvariance_train\u001b[0m\u001b[0;34m\u001b[0m\u001b[0;34m\u001b[0m\u001b[0m\n",
            "\u001b[0;32m/usr/local/lib/python3.10/dist-packages/sklearn/metrics/_regression.py\u001b[0m in \u001b[0;36mmean_squared_error\u001b[0;34m(y_true, y_pred, sample_weight, multioutput, squared)\u001b[0m\n\u001b[1;32m    440\u001b[0m     \u001b[0;36m0.825\u001b[0m\u001b[0;34m...\u001b[0m\u001b[0;34m\u001b[0m\u001b[0;34m\u001b[0m\u001b[0m\n\u001b[1;32m    441\u001b[0m     \"\"\"\n\u001b[0;32m--> 442\u001b[0;31m     y_type, y_true, y_pred, multioutput = _check_reg_targets(\n\u001b[0m\u001b[1;32m    443\u001b[0m         \u001b[0my_true\u001b[0m\u001b[0;34m,\u001b[0m \u001b[0my_pred\u001b[0m\u001b[0;34m,\u001b[0m \u001b[0mmultioutput\u001b[0m\u001b[0;34m\u001b[0m\u001b[0;34m\u001b[0m\u001b[0m\n\u001b[1;32m    444\u001b[0m     )\n",
            "\u001b[0;32m/usr/local/lib/python3.10/dist-packages/sklearn/metrics/_regression.py\u001b[0m in \u001b[0;36m_check_reg_targets\u001b[0;34m(y_true, y_pred, multioutput, dtype)\u001b[0m\n\u001b[1;32m    109\u001b[0m \u001b[0;34m\u001b[0m\u001b[0m\n\u001b[1;32m    110\u001b[0m     \u001b[0;32mif\u001b[0m \u001b[0my_true\u001b[0m\u001b[0;34m.\u001b[0m\u001b[0mshape\u001b[0m\u001b[0;34m[\u001b[0m\u001b[0;36m1\u001b[0m\u001b[0;34m]\u001b[0m \u001b[0;34m!=\u001b[0m \u001b[0my_pred\u001b[0m\u001b[0;34m.\u001b[0m\u001b[0mshape\u001b[0m\u001b[0;34m[\u001b[0m\u001b[0;36m1\u001b[0m\u001b[0;34m]\u001b[0m\u001b[0;34m:\u001b[0m\u001b[0;34m\u001b[0m\u001b[0;34m\u001b[0m\u001b[0m\n\u001b[0;32m--> 111\u001b[0;31m         raise ValueError(\n\u001b[0m\u001b[1;32m    112\u001b[0m             \"y_true and y_pred have different number of output ({0}!={1})\".format(\n\u001b[1;32m    113\u001b[0m                 \u001b[0my_true\u001b[0m\u001b[0;34m.\u001b[0m\u001b[0mshape\u001b[0m\u001b[0;34m[\u001b[0m\u001b[0;36m1\u001b[0m\u001b[0;34m]\u001b[0m\u001b[0;34m,\u001b[0m \u001b[0my_pred\u001b[0m\u001b[0;34m.\u001b[0m\u001b[0mshape\u001b[0m\u001b[0;34m[\u001b[0m\u001b[0;36m1\u001b[0m\u001b[0;34m]\u001b[0m\u001b[0;34m\u001b[0m\u001b[0;34m\u001b[0m\u001b[0m\n",
            "\u001b[0;31mValueError\u001b[0m: y_true and y_pred have different number of output (1!=12288)"
          ]
        }
      ]
    }
  ],
  "metadata": {
    "kernelspec": {
      "display_name": "Python 3",
      "language": "python",
      "name": "python3"
    },
    "language_info": {
      "codemirror_mode": {
        "name": "ipython",
        "version": 3
      },
      "file_extension": ".py",
      "mimetype": "text/x-python",
      "name": "python",
      "nbconvert_exporter": "python",
      "pygments_lexer": "ipython3",
      "version": "3.12.0"
    },
    "colab": {
      "provenance": [],
      "include_colab_link": true
    }
  },
  "nbformat": 4,
  "nbformat_minor": 0
}