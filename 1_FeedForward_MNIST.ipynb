{
 "cells": [
  {
   "cell_type": "markdown",
   "metadata": {},
   "source": [
    "**Contexto**: clasificación de digitos escritos a mano, las clases son los números del 0 al 9. Usamos la base de datos MNIST. Corresponde a imágenes de en escala de gris de 28 x 28, vienen organizadas en forma de fila, por lo que se requiere redimensionar a una matriz de 28 x 28 para poder visualizar.\n",
    "\n",
    "https://en.wikipedia.org/wiki/MNIST_database\n",
    "\n",
    "\n",
    "Se requiere el uso de mlxtend para cargar mnist\n",
    "```\n",
    "pip install mlxtend\n",
    "```"
   ]
  },
  {
   "cell_type": "code",
   "execution_count": 1,
   "metadata": {},
   "outputs": [
    {
     "name": "stdout",
     "output_type": "stream",
     "text": [
      "[INFO] \n",
      "labels: \n",
      " [0 1 2 3 4 5 6 7 8 9] \n",
      "count per class \n",
      " [5923 6742 5958 6131 5842 5421 5918 6265 5851 5949]\n",
      "Training set dimensions: 60000 x 784\n",
      "Test set dimensions: 10000 x 784\n",
      "5\n"
     ]
    },
    {
     "data": {
      "image/png": "[encoded data removed]",
      "text/plain": [
       "<Figure size 640x480 with 1 Axes>"
      ]
     },
     "metadata": {},
     "output_type": "display_data"
    }
   ],
   "source": [
    "#load data\n",
    "import numpy as np\n",
    "import matplotlib.pyplot       as plt\n",
    "from mlxtend.data import loadlocal_mnist\n",
    "\n",
    "X_train, y_train = loadlocal_mnist(\n",
    "        images_path='MNIST/train-images-idx3-ubyte', \n",
    "        labels_path='MNIST/train-labels-idx1-ubyte')\n",
    "\n",
    "X_test, y_test = loadlocal_mnist(\n",
    "        images_path='MNIST/t10k-images-idx3-ubyte', \n",
    "        labels_path='MNIST/t10k-labels-idx1-ubyte')\n",
    "\n",
    "labels,count_class = np.unique(y_train,return_counts=True)\n",
    "\n",
    "print('[INFO] \\nlabels: \\n %s \\ncount per class \\n %s' % (labels,count_class))\n",
    "print('Training set dimensions: %s x %s' % (X_train.shape[0],X_train.shape[1]))\n",
    "print('Test set dimensions: %s x %s' % (X_test.shape[0], X_test.shape[1]))\n",
    "\n",
    "dim1=28\n",
    "dim2=28     \n",
    "image = X_train[2000].reshape((28,28))\n",
    "print(y_train[2000])\n",
    "plt.imshow(image,cmap=\"gray\");\n",
    "\n"
   ]
  },
  {
   "cell_type": "markdown",
   "metadata": {},
   "source": [
    "En un modelo de Keras para clasificación multiclase, se utiliza una función de pérdida adecuada para este tipo de problema, como `categorical_crossentropy`, que compara las distribuciones de probabilidad predichas con las verdaderas. La cantidad de neuronas en la última capa debe ser igual al número de clases en el problema de clasificación. Las etiquetas de las clases deben estar representadas en el entrenamiento utilizando codificación `one-hot`, donde cada etiqueta es un vector binario con un valor de 1 en la posición correspondiente a la clase y 0 en todas las demás posiciones."
   ]
  },
  {
   "cell_type": "code",
   "execution_count": 2,
   "metadata": {},
   "outputs": [],
   "source": [
    "#multilayer feedforward\n",
    "from keras.models import Sequential\n",
    "from keras.layers import Dense"
   ]
  },
  {
   "cell_type": "code",
   "execution_count": 3,
   "metadata": {
    "scrolled": true
   },
   "outputs": [
    {
     "name": "stdout",
     "output_type": "stream",
     "text": [
      "Model: \"sequential\"\n",
      "_________________________________________________________________\n",
      " Layer (type)                Output Shape              Param #   \n",
      "=================================================================\n",
      " dense (Dense)               (None, 400)               314000    \n",
      "                                                                 \n",
      " dense_1 (Dense)             (None, 200)               80200     \n",
      "                                                                 \n",
      " dense_2 (Dense)             (None, 100)               20100     \n",
      "                                                                 \n",
      " dense_3 (Dense)             (None, 10)                1010      \n",
      "                                                                 \n",
      "=================================================================\n",
      "Total params: 415310 (1.58 MB)\n",
      "Trainable params: 415310 (1.58 MB)\n",
      "Non-trainable params: 0 (0.00 Byte)\n",
      "_________________________________________________________________\n"
     ]
    }
   ],
   "source": [
    "num_classes = labels.size\n",
    "nu_hl1 = 400\n",
    "nu_hl2 = 200\n",
    "nu_hl3 = 100\n",
    "nu_hl4 = num_classes\n",
    "\n",
    "\n",
    "model = Sequential()\n",
    "model.add(Dense(nu_hl1, input_dim=dim1*dim2, activation='relu'))\n",
    "model.add(Dense(nu_hl2, activation='relu'))\n",
    "model.add(Dense(nu_hl3, activation='relu'))\n",
    "model.add(Dense(nu_hl4, activation='softmax'))  #sigmoid\n",
    "model.summary()"
   ]
  },
  {
   "cell_type": "code",
   "execution_count": 4,
   "metadata": {},
   "outputs": [
    {
     "name": "stdout",
     "output_type": "stream",
     "text": [
      "convertir:  5  a one hot encoding :  [0. 0. 0. 0. 0. 1. 0. 0. 0. 0.]\n"
     ]
    }
   ],
   "source": [
    "from keras.utils import to_categorical\n",
    "train_labels = to_categorical(y_train, num_classes=num_classes)\n",
    "test_labels = to_categorical(y_test, num_classes=num_classes)\n",
    "\n",
    "print('convertir: ',y_train[0],' a one hot encoding : ',train_labels[0])"
   ]
  },
  {
   "cell_type": "code",
   "execution_count": 5,
   "metadata": {},
   "outputs": [
    {
     "name": "stdout",
     "output_type": "stream",
     "text": [
      "Epoch 1/5\n",
      "6000/6000 [==============================] - 48s 8ms/step - loss: 0.8635 - accuracy: 0.8937\n",
      "Epoch 2/5\n",
      "6000/6000 [==============================] - 47s 8ms/step - loss: 0.2174 - accuracy: 0.9418\n",
      "Epoch 3/5\n",
      "6000/6000 [==============================] - 47s 8ms/step - loss: 0.1698 - accuracy: 0.9566\n",
      "Epoch 4/5\n",
      "6000/6000 [==============================] - 47s 8ms/step - loss: 0.1441 - accuracy: 0.9649\n",
      "Epoch 5/5\n",
      "6000/6000 [==============================] - 47s 8ms/step - loss: 0.1370 - accuracy: 0.9681\n"
     ]
    },
    {
     "data": {
      "text/plain": [
       "<keras.src.callbacks.History at 0x26e98ad81f0>"
      ]
     },
     "execution_count": 5,
     "metadata": {},
     "output_type": "execute_result"
    }
   ],
   "source": [
    "#'binary_crossentropy'\n",
    "#'categorical_crossentropy'\n",
    "\n",
    "model.compile(loss='categorical_crossentropy', optimizer='adam', metrics=['accuracy'])\n",
    "model.fit(X_train, train_labels, epochs=5, batch_size=10)"
   ]
  },
  {
   "cell_type": "code",
   "execution_count": 8,
   "metadata": {},
   "outputs": [
    {
     "name": "stdout",
     "output_type": "stream",
     "text": [
      "313/313 [==============================] - 1s 2ms/step\n"
     ]
    },
    {
     "data": {
      "text/plain": [
       "array([1.8471068e-23, 0.0000000e+00, 1.3949289e-12, 1.6019957e-12,\n",
       "       2.3859936e-26, 1.4575806e-22, 0.0000000e+00, 1.0000000e+00,\n",
       "       4.6662309e-23, 0.0000000e+00], dtype=float32)"
      ]
     },
     "execution_count": 8,
     "metadata": {},
     "output_type": "execute_result"
    }
   ],
   "source": [
    "predictions = model.predict(X_test)\n",
    "predictions[0]"
   ]
  },
  {
   "cell_type": "markdown",
   "metadata": {},
   "source": [
    "En un modelo de Keras para clasificación multiclase, `np.argmax` se utiliza típicamente para determinar la clase predicha a partir de las probabilidades de salida del modelo. Esta función de NumPy encuentra el índice del valor más alto en un array, lo que corresponde a la clase con la mayor probabilidad predicha por el modelo. Por lo tanto, al aplicar `np.argmax` a las salidas del modelo, se obtiene la clase predicha para cada instancia de entrada."
   ]
  },
  {
   "cell_type": "code",
   "execution_count": 9,
   "metadata": {},
   "outputs": [
    {
     "name": "stdout",
     "output_type": "stream",
     "text": [
      "313/313 [==============================] - 1s 2ms/step\n"
     ]
    },
    {
     "data": {
      "text/plain": [
       "array([7, 2, 1, 0, 4, 1, 4, 9, 5, 9], dtype=int64)"
      ]
     },
     "execution_count": 9,
     "metadata": {},
     "output_type": "execute_result"
    }
   ],
   "source": [
    "# round predictions \n",
    "predictions = model.predict(X_test)\n",
    "predIdxs = np.argmax(predictions, axis=1)\n",
    "predIdxs[:10]"
   ]
  },
  {
   "cell_type": "code",
   "execution_count": 10,
   "metadata": {},
   "outputs": [
    {
     "name": "stdout",
     "output_type": "stream",
     "text": [
      "etiqueta 10 primeras imagenes de prueba:   [7 2 1 0 4 1 4 9 5 9] \n",
      "prediccion 10 primeras imagenes de prueba: [7 2 1 0 4 1 4 9 5 9]\n"
     ]
    }
   ],
   "source": [
    "print(\"etiqueta 10 primeras imagenes de prueba:  \",y_test[:10],\\\n",
    "      \"\\nprediccion 10 primeras imagenes de prueba:\",predIdxs[:10])"
   ]
  },
  {
   "cell_type": "code",
   "execution_count": 11,
   "metadata": {},
   "outputs": [
    {
     "name": "stdout",
     "output_type": "stream",
     "text": [
      "313/313 [==============================] - 1s 2ms/step - loss: 0.1576 - accuracy: 0.9641\n",
      "Accuracy: 96.41\n"
     ]
    }
   ],
   "source": [
    "_, accuracy = model.evaluate(X_test, test_labels)\n",
    "print('Accuracy: %.2f' % (accuracy*100))\n"
   ]
  },
  {
   "cell_type": "code",
   "execution_count": 12,
   "metadata": {},
   "outputs": [
    {
     "name": "stdout",
     "output_type": "stream",
     "text": [
      "\n",
      "\n",
      "10 primeras imagenes de prueba\n",
      "etiqueta 10 primeras imagenes de prueba:   [7 2 1 0 4 1 4 9 5 9] \n",
      "prediccion 10 primeras imagenes de prueba: [7 2 1 0 4 1 4 9 5 9]\n"
     ]
    },
    {
     "data": {
      "image/png": "[encoded data removed]",
      "text/plain": [
       "<Figure size 640x480 with 1 Axes>"
      ]
     },
     "metadata": {},
     "output_type": "display_data"
    }
   ],
   "source": [
    "images =  np.zeros((28,1))\n",
    "for i in range(10):\n",
    "    image = X_test[i].reshape((28,28))    \n",
    "    images=np.append(images,image,axis=1)\n",
    "    \n",
    "print(\"\\n\\n10 primeras imagenes de prueba\")    \n",
    "plt.imshow(images,cmap=\"gray\");\n",
    "\n",
    "print(\"etiqueta 10 primeras imagenes de prueba:  \",y_test[:10],\\\n",
    "      \"\\nprediccion 10 primeras imagenes de prueba:\",predIdxs[:10])"
   ]
  },
  {
   "cell_type": "code",
   "execution_count": null,
   "metadata": {},
   "outputs": [],
   "source": []
  },
  {
   "cell_type": "code",
   "execution_count": null,
   "metadata": {},
   "outputs": [],
   "source": []
  },
  {
   "cell_type": "code",
   "execution_count": null,
   "metadata": {},
   "outputs": [],
   "source": []
  },
  {
   "cell_type": "code",
   "execution_count": null,
   "metadata": {},
   "outputs": [],
   "source": []
  }
 ],
 "metadata": {
  "kernelspec": {
   "display_name": "Python 3 (ipykernel)",
   "language": "python",
   "name": "python3"
  },
  "language_info": {
   "codemirror_mode": {
    "name": "ipython",
    "version": 3
   },
   "file_extension": ".py",
   "mimetype": "text/x-python",
   "name": "python",
   "nbconvert_exporter": "python",
   "pygments_lexer": "ipython3",
   "version": "3.8.0"
  }
 },
 "nbformat": 4,
 "nbformat_minor": 4
}
