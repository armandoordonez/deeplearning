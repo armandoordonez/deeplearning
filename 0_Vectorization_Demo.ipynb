{
  "cells": [
    {
      "cell_type": "markdown",
      "metadata": {
        "colab_type": "text",
        "id": "view-in-github"
      },
      "source": [
        "<a href=\"https://colab.research.google.com/github/armandoordonez/deeplearning/blob/main/Vectorization_Demo.ipynb\" target=\"_parent\"><img src=\"https://colab.research.google.com/assets/colab-badge.svg\" alt=\"Open In Colab\"/></a>"
      ]
    },
    {
      "cell_type": "code",
      "execution_count": 3,
      "metadata": {
        "id": "DbrD0sfRW1EJ"
      },
      "outputs": [],
      "source": [
        "import numpy as np\n",
        "\n",
        "#a = np.array([1,2,3,4])\n",
        "#print(a)"
      ]
    },
    {
      "cell_type": "code",
      "execution_count": 4,
      "metadata": {
        "colab": {
          "base_uri": "https://localhost:8080/"
        },
        "id": "qAStT6VjW1EM",
        "outputId": "cf409ed2-02b9-45fb-89c3-69a02283f8f7"
      },
      "outputs": [
        {
          "name": "stdout",
          "output_type": "stream",
          "text": [
            "(1000000,)\n"
          ]
        }
      ],
      "source": [
        "import time\n",
        "\n",
        "a = np.random.rand(1000000)\n",
        "b = np.random.rand(1000000)\n",
        "print (a.shape)"
      ]
    },
    {
      "cell_type": "code",
      "execution_count": 12,
      "metadata": {
        "colab": {
          "base_uri": "https://localhost:8080/"
        },
        "id": "wjR--Bm8W4Sl",
        "outputId": "bfbec2f4-ec50-498e-febf-c89d3adc7df4"
      },
      "outputs": [
        {
          "name": "stdout",
          "output_type": "stream",
          "text": [
            "249845.9606790034\n",
            "Vectorized version:1.0845661163330078 msec\n",
            "\n",
            "249845.96067901043\n",
            "For loop:1043.396234512329 msec\n"
          ]
        }
      ],
      "source": [
        "tic = time.time()\n",
        "c = np.dot(a,b)\n",
        "toc = time.time()\n",
        "\n",
        "print(c)\n",
        "print(\"Vectorized version:\" + str(1000*(toc-tic)) + \" msec\")\n",
        "\n",
        "c = 0\n",
        "tic = time.time()\n",
        "for i in range(1000000):\n",
        "    c += a[i]*b[i]\n",
        "toc = time.time()\n",
        "\n",
        "print (\"\")\n",
        "print(c)\n",
        "print(\"For loop:\" + str(1000*(toc-tic)) + \" msec\")"
      ]
    },
    {
      "cell_type": "code",
      "execution_count": null,
      "metadata": {
        "id": "-sVWkROAW1EM"
      },
      "outputs": [],
      "source": []
    },
    {
      "cell_type": "code",
      "execution_count": null,
      "metadata": {},
      "outputs": [],
      "source": []
    }
  ],
  "metadata": {
    "colab": {
      "include_colab_link": true,
      "provenance": []
    },
    "kernelspec": {
      "display_name": ".venv",
      "language": "python",
      "name": "python3"
    },
    "language_info": {
      "codemirror_mode": {
        "name": "ipython",
        "version": 3
      },
      "file_extension": ".py",
      "mimetype": "text/x-python",
      "name": "python",
      "nbconvert_exporter": "python",
      "pygments_lexer": "ipython3",
      "version": "3.11.0"
    }
  },
  "nbformat": 4,
  "nbformat_minor": 0
}
